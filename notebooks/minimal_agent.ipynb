{
 "cells": [
  {
   "cell_type": "markdown",
   "metadata": {},
   "source": [
    "# notebooks/minimal_crypto_demo.ipynb"
   ]
  },
  {
   "cell_type": "markdown",
   "metadata": {},
   "source": [
    "# Cell 1: Install and Import"
   ]
  },
  {
   "cell_type": "code",
   "execution_count": null,
   "metadata": {
    "vscode": {
     "languageId": "plaintext"
    }
   },
   "outputs": [],
   "source": [
    "# !pip install finrl gymnasium stable-baselines3 ccxt yfinance\n",
    "\n",
    "import sys\n",
    "sys.path.append('..')\n",
    "from main import *"
   ]
  },
  {
   "cell_type": "code",
   "execution_count": null,
   "metadata": {
    "vscode": {
     "languageId": "plaintext"
    }
   },
   "outputs": [],
   "source": [
    "# Cell 2: Quick Data Check\n",
    "print(\"🔍 Quick data exploration:\")\n",
    "df = download_crypto_data()\n",
    "print(df.head())\n",
    "print(f\"Shape: {df.shape}\")"
   ]
  },
  {
   "cell_type": "code",
   "execution_count": null,
   "metadata": {
    "vscode": {
     "languageId": "plaintext"
    }
   },
   "outputs": [],
   "source": [
    "# Cell 3: Add Indicators and Check\n",
    "df = add_technical_indicators(df)\n",
    "print(\"📊 Data with indicators:\")\n",
    "print(df.columns.tolist())\n",
    "print(df[['date', 'tic', 'close', 'macd', 'rsi_30']].head())"
   ]
  },
  {
   "cell_type": "code",
   "execution_count": null,
   "metadata": {
    "vscode": {
     "languageId": "plaintext"
    }
   },
   "outputs": [],
   "source": [
    "# Cell 4: Create Environment\n",
    "train_env, test_env, train_df, test_df = create_environment(df)\n",
    "print(\"✅ Environment ready!\")"
   ]
  },
  {
   "cell_type": "code",
   "execution_count": null,
   "metadata": {
    "vscode": {
     "languageId": "plaintext"
    }
   },
   "outputs": [],
   "source": [
    "# Cell 5: Quick Training (shorter for demo)\n",
    "print(\"🏃‍♂️ Quick training (10k timesteps)...\")\n",
    "agent = DRLAgent(env=train_env)\n",
    "model = agent.get_model(\"ppo\", model_kwargs={'learning_rate': 0.0003})\n",
    "trained_model = agent.train_model(model, \"demo\", total_timesteps=10000)"
   ]
  },
  {
   "cell_type": "code",
   "execution_count": null,
   "metadata": {
    "vscode": {
     "languageId": "plaintext"
    }
   },
   "outputs": [],
   "source": [
    "# Cell 6: Test and Results\n",
    "df_account_value, df_actions = test_agent(trained_model, test_env)\n",
    "results = analyze_results(df_account_value, test_df)"
   ]
  }
 ],
 "metadata": {
  "language_info": {
   "name": "python"
  }
 },
 "nbformat": 4,
 "nbformat_minor": 2
}
