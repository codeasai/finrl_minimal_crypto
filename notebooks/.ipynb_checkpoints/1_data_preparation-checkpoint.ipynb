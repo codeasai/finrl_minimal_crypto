{
 "cells": [
  {
   "cell_type": "markdown",
   "metadata": {},
   "source": [
    "# 1. การเตรียมข้อมูล (Data Preparation)\n",
    "## ขั้นตอนการดาวน์โหลดและประมวลผลข้อมูล Cryptocurrency สำหรับ RL Agent\n",
    "\n",
    "### เป้าหมาย:\n",
    "- ดาวน์โหลดข้อมูลราคา crypto จาก Yahoo Finance\n",
    "- เพิ่ม Technical Indicators\n",
    "- Normalize ข้อมูล\n",
    "- บันทึกข้อมูลสำหรับใช้ในขั้นตอนต่อไป"
   ]
  },
  {
   "cell_type": "markdown",
   "metadata": {},
   "source": [
    "## Cell 1: Import Libraries และ Setup"
   ]
  },
  {
   "cell_type": "code",
   "execution_count": null,
   "metadata": {},
   "outputs": [],
   "source": [
    "import sys\n",
    "import warnings\n",
    "warnings.filterwarnings('ignore')\n",
    "\n",
    "import pandas as pd\n",
    "import numpy as np\n",
    "import matplotlib.pyplot as plt\n",
    "from datetime import datetime\n",
    "import os\n",
    "import yfinance as yf\n",
    "import torch\n",
    "import pickle\n",
    "\n",
    "# สร้างโฟลเดอร์สำหรับเก็บข้อมูล\n",
    "DATA_DIR = \"data\"\n",
    "PROCESSED_DIR = \"processed_data\"\n",
    "for dir_name in [DATA_DIR, PROCESSED_DIR]:\n",
    "    if not os.path.exists(dir_name):\n",
    "        os.makedirs(dir_name)\n",
    "print(\"📁 Setup directories completed\")"
   ]
  },
  {
   "cell_type": "markdown",
   "metadata": {},
   "source": [
    "## Cell 2: ดาวน์โหลดข้อมูล Cryptocurrency"
   ]
  },
  {
   "cell_type": "code",
   "execution_count": null,
   "metadata": {},
   "outputs": [],
   "source": [
    "SYMBOLS = ['BTC-USD', 'ETH-USD', 'BNB-USD', 'SOL-USD', 'ADA-USD']\n",
    "START_DATE = '2022-01-01'\n",
    "END_DATE = datetime.today().strftime('%Y-%m-%d')\n",
    "\n",
    "def download_crypto_data(symbols, start, end):\n",
    "    all_df = []\n",
    "    for symbol in symbols:\n",
    "        print(f\"Downloading {symbol} ...\")\n",
    "        df = yf.download(symbol, start=start, end=end)\n",
    "        if not df.empty:\n",
    "            df['tic'] = symbol\n",
    "            df['timestamp'] = df.index\n",
    "            all_df.append(df)\n",
    "    df = pd.concat(all_df)\n",
    "    df = df.reset_index(drop=True)\n",
    "    return df\n",
    "\n",
    "raw_data = download_crypto_data(SYMBOLS, START_DATE, END_DATE)\n",
    "raw_data.to_csv(os.path.join(DATA_DIR, 'crypto_data.csv'), index=False)\n",
    "print(f\"✅ Downloaded {len(raw_data)} rows of data\")"
   ]
  },
  {
   "cell_type": "markdown",
   "metadata": {},
   "source": [
    "## Cell 3: เพิ่ม Technical Indicators"
   ]
  },
  {
   "cell_type": "code",
   "execution_count": null,
   "metadata": {},
   "outputs": [],
   "source": [
    "def add_technical_indicators(df):\n",
    "    df = df.copy()\n",
    "    df['sma_20'] = df.groupby('tic')['Close'].transform(lambda x: x.rolling(window=20).mean())\n",
    "    df['ema_20'] = df.groupby('tic')['Close'].transform(lambda x: x.ewm(span=20, adjust=False).mean())\n",
    "    return df\n",
    "\n",
    "processed_data = add_technical_indicators(raw_data)\n",
    "processed_data.to_csv(os.path.join(PROCESSED_DIR, 'processed_crypto_data.csv'), index=False)\n",
    "print(f\"✅ Processed data shape: {processed_data.shape}\")"
   ]
  },
  {
   "cell_type": "markdown",
   "metadata": {},
   "source": [
    "## Cell 4: Data Visualization"
   ]
  },
  {
   "cell_type": "code",
   "execution_count": null,
   "metadata": {},
   "outputs": [],
   "source": [
    "plt.figure(figsize=(12, 6))\n",
    "for symbol in SYMBOLS:\n",
    "    symbol_data = processed_data[processed_data['tic'] == symbol]\n",
    "    plt.plot(pd.to_datetime(symbol_data['timestamp']), symbol_data['Close'], label=symbol)\n",
    "plt.title('Crypto Close Prices')\n",
    "plt.legend()\n",
    "plt.show()"
   ]
  }
 ],
 "metadata": {
  "kernelspec": {
   "display_name": "Python 3 (ipykernel)",
   "language": "python",
   "name": "python3"
  },
  "language_info": {
   "codemirror_mode": {
    "name": "ipython",
    "version": 3
   },
   "file_extension": ".py",
   "mimetype": "text/x-python",
   "name": "python",
   "nbconvert_exporter": "python",
   "pygments_lexer": "ipython3",
   "version": "3.9.21"
  }
 },
 "nbformat": 4,
 "nbformat_minor": 4
}