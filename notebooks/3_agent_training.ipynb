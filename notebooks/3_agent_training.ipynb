{
 "cells": [
  {
   "cell_type": "markdown",
   "metadata": {
    "vscode": {
     "languageId": "raw"
    }
   },
   "source": [
    "# 3. การเทรน Agent (Agent Training)\n",
    "## ขั้นตอนการเทรน RL Agent สำหรับ Crypto Trading\n",
    "\n",
    "### เป้าหมาย:\n",
    "- โหลด Agent ที่สร้างไว้\n",
    "- เทรน Agent ด้วยข้อมูล Training\n",
    "- Validate ผลการเทรนด้วยข้อมูล Validation\n",
    "- บันทึก Model ที่เทรนแล้ว\n",
    "- วิเคราะห์ Learning Progress\n"
   ]
  },
  {
   "cell_type": "markdown",
   "metadata": {
    "vscode": {
     "languageId": "raw"
    }
   },
   "source": [
    "## Cell 1: Import Libraries และ Setup\n"
   ]
  },
  {
   "cell_type": "code",
   "execution_count": 3,
   "metadata": {},
   "outputs": [
    {
     "name": "stdout",
     "output_type": "stream",
     "text": [
      "✅ tqdm และ rich พร้อมใช้งานแล้ว\n",
      "📁 Setup directories completed\n",
      "🚀 Starting Agent Training Process\n"
     ]
    }
   ],
   "source": [
    "# ติดตั้งแพ็กเกจที่จำเป็น\n",
    "import subprocess\n",
    "import sys\n",
    "\n",
    "try:\n",
    "    import tqdm\n",
    "    import rich\n",
    "    print(\"✅ tqdm และ rich พร้อมใช้งานแล้ว\")\n",
    "except ImportError:\n",
    "    print(\"📦 กำลังติดตั้ง tqdm และ rich...\")\n",
    "    subprocess.check_call([sys.executable, \"-m\", \"pip\", \"install\", \"tqdm\", \"rich\"])\n",
    "    print(\"✅ ติดตั้ง tqdm และ rich เสร็จสิ้น\")\n",
    "\n",
    "import warnings\n",
    "warnings.filterwarnings('ignore')\n",
    "\n",
    "import pandas as pd\n",
    "import numpy as np\n",
    "import matplotlib.pyplot as plt\n",
    "import os\n",
    "import pickle\n",
    "import torch\n",
    "import time\n",
    "from datetime import datetime\n",
    "\n",
    "# FinRL imports\n",
    "from finrl.meta.env_stock_trading.env_stocktrading import StockTradingEnv\n",
    "from finrl.agents.stablebaselines3.models import DRLAgent\n",
    "from stable_baselines3.common.callbacks import EvalCallback, StopTrainingOnRewardThreshold\n",
    "from stable_baselines3.common.monitor import Monitor\n",
    "\n",
    "# Import config\n",
    "from config import *\n",
    "\n",
    "# Setup directories\n",
    "PROCESSED_DIR = \"processed_data\"\n",
    "MODEL_DIR = \"models\"\n",
    "AGENT_DIR = \"agents\"\n",
    "LOGS_DIR = \"logs\"\n",
    "TENSORBOARD_DIR = \"tensorboard_logs\"\n",
    "\n",
    "for dir_name in [MODEL_DIR, LOGS_DIR, TENSORBOARD_DIR]:\n",
    "    if not os.path.exists(dir_name):\n",
    "        os.makedirs(dir_name)\n",
    "\n",
    "print(\"📁 Setup directories completed\")\n",
    "print(f\"🚀 Starting Agent Training Process\")\n"
   ]
  },
  {
   "cell_type": "markdown",
   "metadata": {
    "vscode": {
     "languageId": "raw"
    }
   },
   "source": [
    "## Cell 2: โหลดข้อมูลและสร้าง Environments\n"
   ]
  },
  {
   "cell_type": "code",
   "execution_count": 9,
   "metadata": {},
   "outputs": [
    {
     "name": "stdout",
     "output_type": "stream",
     "text": [
      "📁 โหลดข้อมูลที่ประมวลผลแล้ว...\n",
      "✅ โหลดข้อมูลสำเร็จ: 5480 แถว\n",
      "✅ โหลด environment config สำเร็จ\n",
      "✅ โหลด agent info สำเร็จ\n",
      "✅ โหลด agent configs สำเร็จ\n",
      "📋 Model ที่จะเทรน: PPO\n",
      "🏗️ สร้าง training environments...\n",
      "📊 ข้อมูลมีคอลัมน์: ['date', 'Open', 'High', 'Low', 'Close', 'Volume', 'tic', 'sma_20', 'ema_20', 'rsi', 'ema_12', 'ema_26', 'macd', 'macd_signal', 'returns', 'volatility', 'price_sma_ratio', 'timestamp']\n",
      "📊 ขนาดข้อมูล: (5480, 18)\n",
      "📊 ตัวอย่างข้อมูล:\n",
      "         date          Open          High           Low         Close  \\\n",
      "0  2022-01-01      1.297907      1.303691      1.264284      1.266366   \n",
      "1  2022-01-01    548.008084    558.046814    513.618239    527.162613   \n",
      "2  2022-01-01  47834.806576  48127.956180  47176.061272  47466.911304   \n",
      "\n",
      "         Volume      tic        sma_20        ema_20   rsi        ema_12  \\\n",
      "0  4.006706e+06  ADA-USD      1.266366      1.266366  50.0      1.266366   \n",
      "1  8.115936e+06  BNB-USD    527.162613    527.162613  50.0    527.162613   \n",
      "2  1.522753e+06  BTC-USD  47466.911304  47466.911304  50.0  47466.911304   \n",
      "\n",
      "         ema_26  macd  macd_signal  returns  volatility  price_sma_ratio  \\\n",
      "0      1.266366   0.0          0.0      0.0         0.0              1.0   \n",
      "1    527.162613   0.0          0.0      0.0         0.0              1.0   \n",
      "2  47466.911304   0.0          0.0      0.0         0.0              1.0   \n",
      "\n",
      "   timestamp  \n",
      "0 2022-01-01  \n",
      "1 2022-01-01  \n",
      "2 2022-01-01  \n",
      "🔧 เตรียมข้อมูล train...\n",
      "✅ เตรียมข้อมูล train เสร็จ: (3835, 19)\n",
      "   คอลัมน์สำคัญ: ['tic', 'date', 'close']\n",
      "🔧 เตรียมข้อมูล val...\n",
      "✅ เตรียมข้อมูล val เสร็จ: (822, 19)\n",
      "   คอลัมน์สำคัญ: ['tic', 'date', 'close']\n",
      "🔧 เตรียมข้อมูล test...\n",
      "✅ เตรียมข้อมูล test เสร็จ: (823, 19)\n",
      "   คอลัมน์สำคัญ: ['tic', 'date', 'close']\n",
      "\n",
      "🏗️ สร้าง FinRL environments...\n",
      "🔧 Environment kwargs: ['stock_dim', 'hmax', 'initial_amount', 'num_stock_shares', 'buy_cost_pct', 'sell_cost_pct', 'reward_scaling', 'state_space', 'action_space', 'tech_indicator_list', 'print_verbosity']\n",
      "✅ Train environment สร้างสำเร็จ\n",
      "✅ Validation environment สร้างสำเร็จ\n",
      "✅ Test environment สร้างสำเร็จ\n",
      "⚠️ Skipping Monitor wrapper to avoid compatibility issues\n",
      "✅ All environments สร้างสำเร็จ\n",
      "\n",
      "📊 Training setup completed:\n",
      "  Train data: 3835 rows\n",
      "  Val data: 822 rows\n",
      "  Test data: 823 rows\n",
      "  Model: PPO\n",
      "  Device: cuda\n"
     ]
    }
   ],
   "source": [
    "# โหลดข้อมูลที่ประมวลผลแล้วจาก notebook ก่อนหน้า\n",
    "print(\"📁 โหลดข้อมูลที่ประมวลผลแล้ว...\")\n",
    "\n",
    "# โหลดข้อมูลจากไฟล์\n",
    "try:\n",
    "    with open(os.path.join(PROCESSED_DIR, 'processed_crypto_data.pkl'), 'rb') as f:\n",
    "        df = pickle.load(f)\n",
    "    print(f\"✅ โหลดข้อมูลสำเร็จ: {len(df)} แถว\")\n",
    "    \n",
    "    with open(os.path.join(AGENT_DIR, 'environment_config.pkl'), 'rb') as f:\n",
    "        env_config = pickle.load(f)\n",
    "    print(\"✅ โหลด environment config สำเร็จ\")\n",
    "    \n",
    "    with open(os.path.join(AGENT_DIR, 'agent_info.pkl'), 'rb') as f:\n",
    "        agent_info = pickle.load(f)\n",
    "    print(\"✅ โหลด agent info สำเร็จ\")\n",
    "    \n",
    "    with open(os.path.join(AGENT_DIR, 'agent_configs.pkl'), 'rb') as f:\n",
    "        agent_configs = pickle.load(f)\n",
    "    print(\"✅ โหลด agent configs สำเร็จ\")\n",
    "    \n",
    "    model_name = agent_info['model_name']\n",
    "    print(f\"📋 Model ที่จะเทรน: {model_name}\")\n",
    "    \n",
    "except FileNotFoundError as e:\n",
    "    print(f\"❌ ไม่พบไฟล์: {str(e)}\")\n",
    "    print(\"🔄 กรุณารัน notebook 2_environment_setup.ipynb ก่อน\")\n",
    "    raise\n",
    "\n",
    "# สร้าง environments สำหรับการเทรน\n",
    "def create_training_environments(df, env_config):\n",
    "    print(\"🏗️ สร้าง training environments...\")\n",
    "    \n",
    "    # ตรวจสอบคอลัมน์ในข้อมูล\n",
    "    print(f\"📊 ข้อมูลมีคอลัมน์: {list(df.columns)}\")\n",
    "    print(f\"📊 ขนาดข้อมูล: {df.shape}\")\n",
    "    print(f\"📊 ตัวอย่างข้อมูล:\")\n",
    "    print(df.head(3))\n",
    "    \n",
    "    # แบ่งข้อมูล\n",
    "    total_len = len(df)\n",
    "    train_size = int(total_len * 0.7)\n",
    "    val_size = int(total_len * 0.15)\n",
    "    \n",
    "    train_df = df.iloc[:train_size].reset_index(drop=True).copy()\n",
    "    val_df = df.iloc[train_size:train_size + val_size].reset_index(drop=True).copy()\n",
    "    test_df = df.iloc[train_size + val_size:].reset_index(drop=True).copy()\n",
    "    \n",
    "    # เตรียมข้อมูลแต่ละชุดให้เข้ากับ FinRL\n",
    "    for data_name, data in [(\"train\", train_df), (\"val\", val_df), (\"test\", test_df)]:\n",
    "        print(f\"🔧 เตรียมข้อมูล {data_name}...\")\n",
    "        \n",
    "        # ตรวจสอบและแปลงชื่อคอลัมน์ให้ตรงกับ FinRL\n",
    "        if 'close' not in data.columns:\n",
    "            if 'Close' in data.columns:\n",
    "                data['close'] = data['Close']\n",
    "            elif 'price' in data.columns:\n",
    "                data['close'] = data['price']\n",
    "            else:\n",
    "                # หาคอลัมน์ราคาปิด\n",
    "                price_cols = [col for col in data.columns if 'close' in col.lower() or 'price' in col.lower()]\n",
    "                if price_cols:\n",
    "                    data['close'] = data[price_cols[0]]\n",
    "                    print(f\"✅ ใช้คอลัมน์ {price_cols[0]} เป็น close price\")\n",
    "                else:\n",
    "                    raise ValueError(f\"ไม่พบคอลัมน์ราคาปิดในข้อมูล: {list(data.columns)}\")\n",
    "        \n",
    "        # ตรวจสอบคอลัมน์ที่จำเป็นอื่นๆ\n",
    "        required_cols = ['tic', 'date']\n",
    "        for col in required_cols:\n",
    "            if col not in data.columns:\n",
    "                if col == 'date' and 'timestamp' in data.columns:\n",
    "                    data['timestamp'] = pd.to_datetime(data['timestamp'])\n",
    "                    data['date'] = data['timestamp'].dt.strftime('%Y-%m-%d')\n",
    "                elif col == 'tic' and 'symbol' in data.columns:\n",
    "                    data['tic'] = data['symbol']\n",
    "                else:\n",
    "                    print(f\"⚠️ ไม่พบคอลัมน์ {col} ในข้อมูล\")\n",
    "        \n",
    "        # จัดเรียงข้อมูล\n",
    "        data.sort_values(['date', 'tic'], inplace=True)\n",
    "        data.reset_index(drop=True, inplace=True)\n",
    "        \n",
    "        # สร้าง day index สำหรับ FinRL\n",
    "        unique_dates = sorted(data['date'].unique())\n",
    "        date_to_index = {date: idx for idx, date in enumerate(unique_dates)}\n",
    "        data['day'] = data['date'].map(date_to_index)\n",
    "        data.set_index('day', inplace=True)\n",
    "        \n",
    "        print(f\"✅ เตรียมข้อมูล {data_name} เสร็จ: {data.shape}\")\n",
    "        print(f\"   คอลัมน์สำคัญ: {[col for col in ['tic', 'date', 'close'] if col in data.columns]}\")\n",
    "    \n",
    "    return train_df, val_df, test_df\n",
    "\n",
    "# เรียกใช้ฟังก์ชันเตรียมข้อมูล\n",
    "train_df, val_df, test_df = create_training_environments(df, env_config)\n",
    "\n",
    "# ตอนนี้สร้าง FinRL environments\n",
    "print(\"\\n🏗️ สร้าง FinRL environments...\")\n",
    "\n",
    "# เตรียม environment kwargs\n",
    "env_kwargs = env_config['env_kwargs'].copy()\n",
    "env_kwargs.pop('df', None)  # ลบ df ออกเพื่อไม่ให้ส่งซ้ำ\n",
    "\n",
    "print(f\"🔧 Environment kwargs: {list(env_kwargs.keys())}\")\n",
    "\n",
    "try:\n",
    "    # สร้าง environments\n",
    "    train_env = StockTradingEnv(df=train_df, **env_kwargs)\n",
    "    print(\"✅ Train environment สร้างสำเร็จ\")\n",
    "    \n",
    "    val_env = StockTradingEnv(df=val_df, **env_kwargs)\n",
    "    print(\"✅ Validation environment สร้างสำเร็จ\")\n",
    "    \n",
    "    test_env = StockTradingEnv(df=test_df, **env_kwargs)\n",
    "    print(\"✅ Test environment สร้างสำเร็จ\")\n",
    "    \n",
    "    # ไม่ใช้ Monitor wrapper เพื่อป้องกัน error\n",
    "    print(\"⚠️ Skipping Monitor wrapper to avoid compatibility issues\")\n",
    "    \n",
    "    print(\"✅ All environments สร้างสำเร็จ\")\n",
    "    \n",
    "except Exception as e:\n",
    "    print(f\"❌ Error creating environments: {str(e)}\")\n",
    "    print(f\"📊 ตรวจสอบข้อมูล train_df:\")\n",
    "    print(f\"   Columns: {list(train_df.columns)}\")\n",
    "    print(f\"   Shape: {train_df.shape}\")\n",
    "    if len(train_df) > 0:\n",
    "        print(f\"   ตัวอย่างข้อมูล:\")\n",
    "        print(train_df.head(2))\n",
    "    raise\n",
    "\n",
    "print(f\"\\n📊 Training setup completed:\")\n",
    "print(f\"  Train data: {len(train_df)} rows\")\n",
    "print(f\"  Val data: {len(val_df)} rows\") \n",
    "print(f\"  Test data: {len(test_df)} rows\")\n",
    "print(f\"  Model: {model_name}\")\n",
    "print(f\"  Device: {agent_info['device']}\")\n"
   ]
  },
  {
   "cell_type": "markdown",
   "metadata": {
    "vscode": {
     "languageId": "raw"
    }
   },
   "source": [
    "## Cell 3: สร้างและเทรน Agent\n"
   ]
  },
  {
   "cell_type": "code",
   "execution_count": 13,
   "metadata": {},
   "outputs": [
    {
     "data": {
      "text/html": [
       "<pre style=\"white-space:pre;overflow-x:auto;line-height:normal;font-family:Menlo,'DejaVu Sans Mono',consolas,'Courier New',monospace\">🚀 Starting simple agent training (without callbacks and progress bar)...\n",
       "</pre>\n"
      ],
      "text/plain": [
       "🚀 Starting simple agent training (without callbacks and progress bar)...\n"
      ]
     },
     "metadata": {},
     "output_type": "display_data"
    },
    {
     "data": {
      "text/html": [
       "<pre style=\"white-space:pre;overflow-x:auto;line-height:normal;font-family:Menlo,'DejaVu Sans Mono',consolas,'Courier New',monospace\">🤖 Creating and training PPO agent (Simple version)...\n",
       "</pre>\n"
      ],
      "text/plain": [
       "🤖 Creating and training PPO agent (Simple version)...\n"
      ]
     },
     "metadata": {},
     "output_type": "display_data"
    },
    {
     "data": {
      "text/html": [
       "<pre style=\"white-space:pre;overflow-x:auto;line-height:normal;font-family:Menlo,'DejaVu Sans Mono',consolas,'Courier New',monospace\">🧠 Model parameters:\n",
       "</pre>\n"
      ],
      "text/plain": [
       "🧠 Model parameters:\n"
      ]
     },
     "metadata": {},
     "output_type": "display_data"
    },
    {
     "data": {
      "text/html": [
       "<pre style=\"white-space:pre;overflow-x:auto;line-height:normal;font-family:Menlo,'DejaVu Sans Mono',consolas,'Courier New',monospace\">  learning_rate: 0.0003\n",
       "</pre>\n"
      ],
      "text/plain": [
       "  learning_rate: 0.0003\n"
      ]
     },
     "metadata": {},
     "output_type": "display_data"
    },
    {
     "data": {
      "text/html": [
       "<pre style=\"white-space:pre;overflow-x:auto;line-height:normal;font-family:Menlo,'DejaVu Sans Mono',consolas,'Courier New',monospace\">  n_steps: 2048\n",
       "</pre>\n"
      ],
      "text/plain": [
       "  n_steps: 2048\n"
      ]
     },
     "metadata": {},
     "output_type": "display_data"
    },
    {
     "data": {
      "text/html": [
       "<pre style=\"white-space:pre;overflow-x:auto;line-height:normal;font-family:Menlo,'DejaVu Sans Mono',consolas,'Courier New',monospace\">  batch_size: 64\n",
       "</pre>\n"
      ],
      "text/plain": [
       "  batch_size: 64\n"
      ]
     },
     "metadata": {},
     "output_type": "display_data"
    },
    {
     "data": {
      "text/html": [
       "<pre style=\"white-space:pre;overflow-x:auto;line-height:normal;font-family:Menlo,'DejaVu Sans Mono',consolas,'Courier New',monospace\">  n_epochs: 10\n",
       "</pre>\n"
      ],
      "text/plain": [
       "  n_epochs: 10\n"
      ]
     },
     "metadata": {},
     "output_type": "display_data"
    },
    {
     "data": {
      "text/html": [
       "<pre style=\"white-space:pre;overflow-x:auto;line-height:normal;font-family:Menlo,'DejaVu Sans Mono',consolas,'Courier New',monospace\">  gamma: 0.99\n",
       "</pre>\n"
      ],
      "text/plain": [
       "  gamma: 0.99\n"
      ]
     },
     "metadata": {},
     "output_type": "display_data"
    },
    {
     "data": {
      "text/html": [
       "<pre style=\"white-space:pre;overflow-x:auto;line-height:normal;font-family:Menlo,'DejaVu Sans Mono',consolas,'Courier New',monospace\">  gae_lambda: 0.95\n",
       "</pre>\n"
      ],
      "text/plain": [
       "  gae_lambda: 0.95\n"
      ]
     },
     "metadata": {},
     "output_type": "display_data"
    },
    {
     "data": {
      "text/html": [
       "<pre style=\"white-space:pre;overflow-x:auto;line-height:normal;font-family:Menlo,'DejaVu Sans Mono',consolas,'Courier New',monospace\">  clip_range: 0.2\n",
       "</pre>\n"
      ],
      "text/plain": [
       "  clip_range: 0.2\n"
      ]
     },
     "metadata": {},
     "output_type": "display_data"
    },
    {
     "data": {
      "text/html": [
       "<pre style=\"white-space:pre;overflow-x:auto;line-height:normal;font-family:Menlo,'DejaVu Sans Mono',consolas,'Courier New',monospace\">  ent_coef: 0.01\n",
       "</pre>\n"
      ],
      "text/plain": [
       "  ent_coef: 0.01\n"
      ]
     },
     "metadata": {},
     "output_type": "display_data"
    },
    {
     "data": {
      "text/html": [
       "<pre style=\"white-space:pre;overflow-x:auto;line-height:normal;font-family:Menlo,'DejaVu Sans Mono',consolas,'Courier New',monospace\">  vf_coef: 0.5\n",
       "</pre>\n"
      ],
      "text/plain": [
       "  vf_coef: 0.5\n"
      ]
     },
     "metadata": {},
     "output_type": "display_data"
    },
    {
     "data": {
      "text/html": [
       "<pre style=\"white-space:pre;overflow-x:auto;line-height:normal;font-family:Menlo,'DejaVu Sans Mono',consolas,'Courier New',monospace\">  max_grad_norm: 0.5\n",
       "</pre>\n"
      ],
      "text/plain": [
       "  max_grad_norm: 0.5\n"
      ]
     },
     "metadata": {},
     "output_type": "display_data"
    },
    {
     "data": {
      "text/html": [
       "<pre style=\"white-space:pre;overflow-x:auto;line-height:normal;font-family:Menlo,'DejaVu Sans Mono',consolas,'Courier New',monospace\">🧠 Policy kwargs: {'net_arch': [256, 256]}\n",
       "</pre>\n"
      ],
      "text/plain": [
       "🧠 Policy kwargs: {'net_arch': [256, 256]}\n"
      ]
     },
     "metadata": {},
     "output_type": "display_data"
    },
    {
     "data": {
      "text/html": [
       "<pre style=\"white-space:pre;overflow-x:auto;line-height:normal;font-family:Menlo,'DejaVu Sans Mono',consolas,'Courier New',monospace\">Using cuda device\n",
       "</pre>\n"
      ],
      "text/plain": [
       "Using cuda device\n"
      ]
     },
     "metadata": {},
     "output_type": "display_data"
    },
    {
     "data": {
      "text/html": [
       "<pre style=\"white-space:pre;overflow-x:auto;line-height:normal;font-family:Menlo,'DejaVu Sans Mono',consolas,'Courier New',monospace\">Wrapping the env with a `Monitor` wrapper\n",
       "</pre>\n"
      ],
      "text/plain": [
       "Wrapping the env with a `Monitor` wrapper\n"
      ]
     },
     "metadata": {},
     "output_type": "display_data"
    },
    {
     "data": {
      "text/html": [
       "<pre style=\"white-space:pre;overflow-x:auto;line-height:normal;font-family:Menlo,'DejaVu Sans Mono',consolas,'Courier New',monospace\">Wrapping the env in a DummyVecEnv.\n",
       "</pre>\n"
      ],
      "text/plain": [
       "Wrapping the env in a DummyVecEnv.\n"
      ]
     },
     "metadata": {},
     "output_type": "display_data"
    },
    {
     "data": {
      "text/html": [
       "<pre style=\"white-space:pre;overflow-x:auto;line-height:normal;font-family:Menlo,'DejaVu Sans Mono',consolas,'Courier New',monospace\">✅ PPO model created\n",
       "</pre>\n"
      ],
      "text/plain": [
       "✅ PPO model created\n"
      ]
     },
     "metadata": {},
     "output_type": "display_data"
    },
    {
     "data": {
      "text/html": [
       "<pre style=\"white-space:pre;overflow-x:auto;line-height:normal;font-family:Menlo,'DejaVu Sans Mono',consolas,'Courier New',monospace\">\\n🏃 Starting training...\n",
       "</pre>\n"
      ],
      "text/plain": [
       "\\n🏃 Starting training...\n"
      ]
     },
     "metadata": {},
     "output_type": "display_data"
    },
    {
     "data": {
      "text/html": [
       "<pre style=\"white-space:pre;overflow-x:auto;line-height:normal;font-family:Menlo,'DejaVu Sans Mono',consolas,'Courier New',monospace\">📊 Training timesteps: 100,000\n",
       "</pre>\n"
      ],
      "text/plain": [
       "📊 Training timesteps: 100,000\n"
      ]
     },
     "metadata": {},
     "output_type": "display_data"
    },
    {
     "data": {
      "text/html": [
       "<pre style=\"white-space:pre;overflow-x:auto;line-height:normal;font-family:Menlo,'DejaVu Sans Mono',consolas,'Courier New',monospace\">day: 766, episode: 10\n",
       "</pre>\n"
      ],
      "text/plain": [
       "day: 766, episode: 10\n"
      ]
     },
     "metadata": {},
     "output_type": "display_data"
    },
    {
     "data": {
      "text/html": [
       "<pre style=\"white-space:pre;overflow-x:auto;line-height:normal;font-family:Menlo,'DejaVu Sans Mono',consolas,'Courier New',monospace\">begin_total_asset: 100000.00\n",
       "</pre>\n"
      ],
      "text/plain": [
       "begin_total_asset: 100000.00\n"
      ]
     },
     "metadata": {},
     "output_type": "display_data"
    },
    {
     "data": {
      "text/html": [
       "<pre style=\"white-space:pre;overflow-x:auto;line-height:normal;font-family:Menlo,'DejaVu Sans Mono',consolas,'Courier New',monospace\">end_total_asset: 55307.65\n",
       "</pre>\n"
      ],
      "text/plain": [
       "end_total_asset: 55307.65\n"
      ]
     },
     "metadata": {},
     "output_type": "display_data"
    },
    {
     "data": {
      "text/html": [
       "<pre style=\"white-space:pre;overflow-x:auto;line-height:normal;font-family:Menlo,'DejaVu Sans Mono',consolas,'Courier New',monospace\">total_reward: -44692.35\n",
       "</pre>\n"
      ],
      "text/plain": [
       "total_reward: -44692.35\n"
      ]
     },
     "metadata": {},
     "output_type": "display_data"
    },
    {
     "data": {
      "text/html": [
       "<pre style=\"white-space:pre;overflow-x:auto;line-height:normal;font-family:Menlo,'DejaVu Sans Mono',consolas,'Courier New',monospace\">total_cost: 26926.61\n",
       "</pre>\n"
      ],
      "text/plain": [
       "total_cost: 26926.61\n"
      ]
     },
     "metadata": {},
     "output_type": "display_data"
    },
    {
     "data": {
      "text/html": [
       "<pre style=\"white-space:pre;overflow-x:auto;line-height:normal;font-family:Menlo,'DejaVu Sans Mono',consolas,'Courier New',monospace\">total_trades: 2954\n",
       "</pre>\n"
      ],
      "text/plain": [
       "total_trades: 2954\n"
      ]
     },
     "metadata": {},
     "output_type": "display_data"
    },
    {
     "data": {
      "text/html": [
       "<pre style=\"white-space:pre;overflow-x:auto;line-height:normal;font-family:Menlo,'DejaVu Sans Mono',consolas,'Courier New',monospace\">Sharpe: -0.698\n",
       "</pre>\n"
      ],
      "text/plain": [
       "Sharpe: -0.698\n"
      ]
     },
     "metadata": {},
     "output_type": "display_data"
    },
    {
     "data": {
      "text/html": [
       "<pre style=\"white-space:pre;overflow-x:auto;line-height:normal;font-family:Menlo,'DejaVu Sans Mono',consolas,'Courier New',monospace\">=================================\n",
       "</pre>\n"
      ],
      "text/plain": [
       "=================================\n"
      ]
     },
     "metadata": {},
     "output_type": "display_data"
    },
    {
     "data": {
      "text/html": [
       "<pre style=\"white-space:pre;overflow-x:auto;line-height:normal;font-family:Menlo,'DejaVu Sans Mono',consolas,'Courier New',monospace\">day: 766, episode: 11\n",
       "</pre>\n"
      ],
      "text/plain": [
       "day: 766, episode: 11\n"
      ]
     },
     "metadata": {},
     "output_type": "display_data"
    },
    {
     "data": {
      "text/html": [
       "<pre style=\"white-space:pre;overflow-x:auto;line-height:normal;font-family:Menlo,'DejaVu Sans Mono',consolas,'Courier New',monospace\">begin_total_asset: 100000.00\n",
       "</pre>\n"
      ],
      "text/plain": [
       "begin_total_asset: 100000.00\n"
      ]
     },
     "metadata": {},
     "output_type": "display_data"
    },
    {
     "data": {
      "text/html": [
       "<pre style=\"white-space:pre;overflow-x:auto;line-height:normal;font-family:Menlo,'DejaVu Sans Mono',consolas,'Courier New',monospace\">end_total_asset: 73752.06\n",
       "</pre>\n"
      ],
      "text/plain": [
       "end_total_asset: 73752.06\n"
      ]
     },
     "metadata": {},
     "output_type": "display_data"
    },
    {
     "data": {
      "text/html": [
       "<pre style=\"white-space:pre;overflow-x:auto;line-height:normal;font-family:Menlo,'DejaVu Sans Mono',consolas,'Courier New',monospace\">total_reward: -26247.94\n",
       "</pre>\n"
      ],
      "text/plain": [
       "total_reward: -26247.94\n"
      ]
     },
     "metadata": {},
     "output_type": "display_data"
    },
    {
     "data": {
      "text/html": [
       "<pre style=\"white-space:pre;overflow-x:auto;line-height:normal;font-family:Menlo,'DejaVu Sans Mono',consolas,'Courier New',monospace\">total_cost: 29085.14\n",
       "</pre>\n"
      ],
      "text/plain": [
       "total_cost: 29085.14\n"
      ]
     },
     "metadata": {},
     "output_type": "display_data"
    },
    {
     "data": {
      "text/html": [
       "<pre style=\"white-space:pre;overflow-x:auto;line-height:normal;font-family:Menlo,'DejaVu Sans Mono',consolas,'Courier New',monospace\">total_trades: 2947\n",
       "</pre>\n"
      ],
      "text/plain": [
       "total_trades: 2947\n"
      ]
     },
     "metadata": {},
     "output_type": "display_data"
    },
    {
     "data": {
      "text/html": [
       "<pre style=\"white-space:pre;overflow-x:auto;line-height:normal;font-family:Menlo,'DejaVu Sans Mono',consolas,'Courier New',monospace\">Sharpe: -0.361\n",
       "</pre>\n"
      ],
      "text/plain": [
       "Sharpe: -0.361\n"
      ]
     },
     "metadata": {},
     "output_type": "display_data"
    },
    {
     "data": {
      "text/html": [
       "<pre style=\"white-space:pre;overflow-x:auto;line-height:normal;font-family:Menlo,'DejaVu Sans Mono',consolas,'Courier New',monospace\">=================================\n",
       "</pre>\n"
      ],
      "text/plain": [
       "=================================\n"
      ]
     },
     "metadata": {},
     "output_type": "display_data"
    },
    {
     "data": {
      "text/html": [
       "<pre style=\"white-space:pre;overflow-x:auto;line-height:normal;font-family:Menlo,'DejaVu Sans Mono',consolas,'Courier New',monospace\">---------------------------------\n",
       "| rollout/           |          |\n",
       "|    ep_len_mean     | 767      |\n",
       "|    ep_rew_mean     | -3.75    |\n",
       "| time/              |          |\n",
       "|    fps             | 171      |\n",
       "|    iterations      | 1        |\n",
       "|    time_elapsed    | 11       |\n",
       "|    total_timesteps | 2048     |\n",
       "---------------------------------\n",
       "</pre>\n"
      ],
      "text/plain": [
       "---------------------------------\n",
       "| rollout/           |          |\n",
       "|    ep_len_mean     | 767      |\n",
       "|    ep_rew_mean     | -3.75    |\n",
       "| time/              |          |\n",
       "|    fps             | 171      |\n",
       "|    iterations      | 1        |\n",
       "|    time_elapsed    | 11       |\n",
       "|    total_timesteps | 2048     |\n",
       "---------------------------------\n"
      ]
     },
     "metadata": {},
     "output_type": "display_data"
    },
    {
     "data": {
      "text/html": [
       "<pre style=\"white-space:pre;overflow-x:auto;line-height:normal;font-family:Menlo,'DejaVu Sans Mono',consolas,'Courier New',monospace\">day: 766, episode: 12\n",
       "</pre>\n"
      ],
      "text/plain": [
       "day: 766, episode: 12\n"
      ]
     },
     "metadata": {},
     "output_type": "display_data"
    },
    {
     "data": {
      "text/html": [
       "<pre style=\"white-space:pre;overflow-x:auto;line-height:normal;font-family:Menlo,'DejaVu Sans Mono',consolas,'Courier New',monospace\">begin_total_asset: 100000.00\n",
       "</pre>\n"
      ],
      "text/plain": [
       "begin_total_asset: 100000.00\n"
      ]
     },
     "metadata": {},
     "output_type": "display_data"
    },
    {
     "data": {
      "text/html": [
       "<pre style=\"white-space:pre;overflow-x:auto;line-height:normal;font-family:Menlo,'DejaVu Sans Mono',consolas,'Courier New',monospace\">end_total_asset: 48931.18\n",
       "</pre>\n"
      ],
      "text/plain": [
       "end_total_asset: 48931.18\n"
      ]
     },
     "metadata": {},
     "output_type": "display_data"
    },
    {
     "data": {
      "text/html": [
       "<pre style=\"white-space:pre;overflow-x:auto;line-height:normal;font-family:Menlo,'DejaVu Sans Mono',consolas,'Courier New',monospace\">total_reward: -51068.82\n",
       "</pre>\n"
      ],
      "text/plain": [
       "total_reward: -51068.82\n"
      ]
     },
     "metadata": {},
     "output_type": "display_data"
    },
    {
     "data": {
      "text/html": [
       "<pre style=\"white-space:pre;overflow-x:auto;line-height:normal;font-family:Menlo,'DejaVu Sans Mono',consolas,'Courier New',monospace\">total_cost: 24092.92\n",
       "</pre>\n"
      ],
      "text/plain": [
       "total_cost: 24092.92\n"
      ]
     },
     "metadata": {},
     "output_type": "display_data"
    },
    {
     "data": {
      "text/html": [
       "<pre style=\"white-space:pre;overflow-x:auto;line-height:normal;font-family:Menlo,'DejaVu Sans Mono',consolas,'Courier New',monospace\">total_trades: 2960\n",
       "</pre>\n"
      ],
      "text/plain": [
       "total_trades: 2960\n"
      ]
     },
     "metadata": {},
     "output_type": "display_data"
    },
    {
     "data": {
      "text/html": [
       "<pre style=\"white-space:pre;overflow-x:auto;line-height:normal;font-family:Menlo,'DejaVu Sans Mono',consolas,'Courier New',monospace\">Sharpe: -0.879\n",
       "</pre>\n"
      ],
      "text/plain": [
       "Sharpe: -0.879\n"
      ]
     },
     "metadata": {},
     "output_type": "display_data"
    },
    {
     "data": {
      "text/html": [
       "<pre style=\"white-space:pre;overflow-x:auto;line-height:normal;font-family:Menlo,'DejaVu Sans Mono',consolas,'Courier New',monospace\">=================================\n",
       "</pre>\n"
      ],
      "text/plain": [
       "=================================\n"
      ]
     },
     "metadata": {},
     "output_type": "display_data"
    },
    {
     "data": {
      "text/html": [
       "<pre style=\"white-space:pre;overflow-x:auto;line-height:normal;font-family:Menlo,'DejaVu Sans Mono',consolas,'Courier New',monospace\">day: 766, episode: 13\n",
       "</pre>\n"
      ],
      "text/plain": [
       "day: 766, episode: 13\n"
      ]
     },
     "metadata": {},
     "output_type": "display_data"
    },
    {
     "data": {
      "text/html": [
       "<pre style=\"white-space:pre;overflow-x:auto;line-height:normal;font-family:Menlo,'DejaVu Sans Mono',consolas,'Courier New',monospace\">begin_total_asset: 100000.00\n",
       "</pre>\n"
      ],
      "text/plain": [
       "begin_total_asset: 100000.00\n"
      ]
     },
     "metadata": {},
     "output_type": "display_data"
    },
    {
     "data": {
      "text/html": [
       "<pre style=\"white-space:pre;overflow-x:auto;line-height:normal;font-family:Menlo,'DejaVu Sans Mono',consolas,'Courier New',monospace\">end_total_asset: 45426.15\n",
       "</pre>\n"
      ],
      "text/plain": [
       "end_total_asset: 45426.15\n"
      ]
     },
     "metadata": {},
     "output_type": "display_data"
    },
    {
     "data": {
      "text/html": [
       "<pre style=\"white-space:pre;overflow-x:auto;line-height:normal;font-family:Menlo,'DejaVu Sans Mono',consolas,'Courier New',monospace\">total_reward: -54573.85\n",
       "</pre>\n"
      ],
      "text/plain": [
       "total_reward: -54573.85\n"
      ]
     },
     "metadata": {},
     "output_type": "display_data"
    },
    {
     "data": {
      "text/html": [
       "<pre style=\"white-space:pre;overflow-x:auto;line-height:normal;font-family:Menlo,'DejaVu Sans Mono',consolas,'Courier New',monospace\">total_cost: 24559.25\n",
       "</pre>\n"
      ],
      "text/plain": [
       "total_cost: 24559.25\n"
      ]
     },
     "metadata": {},
     "output_type": "display_data"
    },
    {
     "data": {
      "text/html": [
       "<pre style=\"white-space:pre;overflow-x:auto;line-height:normal;font-family:Menlo,'DejaVu Sans Mono',consolas,'Courier New',monospace\">total_trades: 2883\n",
       "</pre>\n"
      ],
      "text/plain": [
       "total_trades: 2883\n"
      ]
     },
     "metadata": {},
     "output_type": "display_data"
    },
    {
     "data": {
      "text/html": [
       "<pre style=\"white-space:pre;overflow-x:auto;line-height:normal;font-family:Menlo,'DejaVu Sans Mono',consolas,'Courier New',monospace\">Sharpe: -1.034\n",
       "</pre>\n"
      ],
      "text/plain": [
       "Sharpe: -1.034\n"
      ]
     },
     "metadata": {},
     "output_type": "display_data"
    },
    {
     "data": {
      "text/html": [
       "<pre style=\"white-space:pre;overflow-x:auto;line-height:normal;font-family:Menlo,'DejaVu Sans Mono',consolas,'Courier New',monospace\">=================================\n",
       "</pre>\n"
      ],
      "text/plain": [
       "=================================\n"
      ]
     },
     "metadata": {},
     "output_type": "display_data"
    },
    {
     "data": {
      "text/html": [
       "<pre style=\"white-space:pre;overflow-x:auto;line-height:normal;font-family:Menlo,'DejaVu Sans Mono',consolas,'Courier New',monospace\">day: 766, episode: 14\n",
       "</pre>\n"
      ],
      "text/plain": [
       "day: 766, episode: 14\n"
      ]
     },
     "metadata": {},
     "output_type": "display_data"
    },
    {
     "data": {
      "text/html": [
       "<pre style=\"white-space:pre;overflow-x:auto;line-height:normal;font-family:Menlo,'DejaVu Sans Mono',consolas,'Courier New',monospace\">begin_total_asset: 100000.00\n",
       "</pre>\n"
      ],
      "text/plain": [
       "begin_total_asset: 100000.00\n"
      ]
     },
     "metadata": {},
     "output_type": "display_data"
    },
    {
     "data": {
      "text/html": [
       "<pre style=\"white-space:pre;overflow-x:auto;line-height:normal;font-family:Menlo,'DejaVu Sans Mono',consolas,'Courier New',monospace\">end_total_asset: 63412.11\n",
       "</pre>\n"
      ],
      "text/plain": [
       "end_total_asset: 63412.11\n"
      ]
     },
     "metadata": {},
     "output_type": "display_data"
    },
    {
     "data": {
      "text/html": [
       "<pre style=\"white-space:pre;overflow-x:auto;line-height:normal;font-family:Menlo,'DejaVu Sans Mono',consolas,'Courier New',monospace\">total_reward: -36587.89\n",
       "</pre>\n"
      ],
      "text/plain": [
       "total_reward: -36587.89\n"
      ]
     },
     "metadata": {},
     "output_type": "display_data"
    },
    {
     "data": {
      "text/html": [
       "<pre style=\"white-space:pre;overflow-x:auto;line-height:normal;font-family:Menlo,'DejaVu Sans Mono',consolas,'Courier New',monospace\">total_cost: 27946.02\n",
       "</pre>\n"
      ],
      "text/plain": [
       "total_cost: 27946.02\n"
      ]
     },
     "metadata": {},
     "output_type": "display_data"
    },
    {
     "data": {
      "text/html": [
       "<pre style=\"white-space:pre;overflow-x:auto;line-height:normal;font-family:Menlo,'DejaVu Sans Mono',consolas,'Courier New',monospace\">total_trades: 3032\n",
       "</pre>\n"
      ],
      "text/plain": [
       "total_trades: 3032\n"
      ]
     },
     "metadata": {},
     "output_type": "display_data"
    },
    {
     "data": {
      "text/html": [
       "<pre style=\"white-space:pre;overflow-x:auto;line-height:normal;font-family:Menlo,'DejaVu Sans Mono',consolas,'Courier New',monospace\">Sharpe: -0.598\n",
       "</pre>\n"
      ],
      "text/plain": [
       "Sharpe: -0.598\n"
      ]
     },
     "metadata": {},
     "output_type": "display_data"
    },
    {
     "data": {
      "text/html": [
       "<pre style=\"white-space:pre;overflow-x:auto;line-height:normal;font-family:Menlo,'DejaVu Sans Mono',consolas,'Courier New',monospace\">=================================\n",
       "</pre>\n"
      ],
      "text/plain": [
       "=================================\n"
      ]
     },
     "metadata": {},
     "output_type": "display_data"
    },
    {
     "data": {
      "text/html": [
       "<pre style=\"white-space:pre;overflow-x:auto;line-height:normal;font-family:Menlo,'DejaVu Sans Mono',consolas,'Courier New',monospace\">-----------------------------------------\n",
       "| rollout/                |             |\n",
       "|    ep_len_mean          | 767         |\n",
       "|    ep_rew_mean          | -4.39       |\n",
       "| time/                   |             |\n",
       "|    fps                  | 153         |\n",
       "|    iterations           | 2           |\n",
       "|    time_elapsed         | 26          |\n",
       "|    total_timesteps      | 4096        |\n",
       "| train/                  |             |\n",
       "|    approx_kl            | 0.008500296 |\n",
       "|    clip_fraction        | 0.121       |\n",
       "|    clip_range           | 0.2         |\n",
       "|    entropy_loss         | -7.09       |\n",
       "|    explained_variance   | -0.282      |\n",
       "|    learning_rate        | 0.0003      |\n",
       "|    loss                 | -0.0413     |\n",
       "|    n_updates            | 10          |\n",
       "|    policy_gradient_loss | -0.00177    |\n",
       "|    std                  | 0.998       |\n",
       "|    value_loss           | 0.0893      |\n",
       "-----------------------------------------\n",
       "</pre>\n"
      ],
      "text/plain": [
       "-----------------------------------------\n",
       "| rollout/                |             |\n",
       "|    ep_len_mean          | 767         |\n",
       "|    ep_rew_mean          | -4.39       |\n",
       "| time/                   |             |\n",
       "|    fps                  | 153         |\n",
       "|    iterations           | 2           |\n",
       "|    time_elapsed         | 26          |\n",
       "|    total_timesteps      | 4096        |\n",
       "| train/                  |             |\n",
       "|    approx_kl            | 0.008500296 |\n",
       "|    clip_fraction        | 0.121       |\n",
       "|    clip_range           | 0.2         |\n",
       "|    entropy_loss         | -7.09       |\n",
       "|    explained_variance   | -0.282      |\n",
       "|    learning_rate        | 0.0003      |\n",
       "|    loss                 | -0.0413     |\n",
       "|    n_updates            | 10          |\n",
       "|    policy_gradient_loss | -0.00177    |\n",
       "|    std                  | 0.998       |\n",
       "|    value_loss           | 0.0893      |\n",
       "-----------------------------------------\n"
      ]
     },
     "metadata": {},
     "output_type": "display_data"
    },
    {
     "data": {
      "text/html": [
       "<pre style=\"white-space:pre;overflow-x:auto;line-height:normal;font-family:Menlo,'DejaVu Sans Mono',consolas,'Courier New',monospace\">day: 766, episode: 15\n",
       "</pre>\n"
      ],
      "text/plain": [
       "day: 766, episode: 15\n"
      ]
     },
     "metadata": {},
     "output_type": "display_data"
    },
    {
     "data": {
      "text/html": [
       "<pre style=\"white-space:pre;overflow-x:auto;line-height:normal;font-family:Menlo,'DejaVu Sans Mono',consolas,'Courier New',monospace\">begin_total_asset: 100000.00\n",
       "</pre>\n"
      ],
      "text/plain": [
       "begin_total_asset: 100000.00\n"
      ]
     },
     "metadata": {},
     "output_type": "display_data"
    },
    {
     "data": {
      "text/html": [
       "<pre style=\"white-space:pre;overflow-x:auto;line-height:normal;font-family:Menlo,'DejaVu Sans Mono',consolas,'Courier New',monospace\">end_total_asset: 63413.67\n",
       "</pre>\n"
      ],
      "text/plain": [
       "end_total_asset: 63413.67\n"
      ]
     },
     "metadata": {},
     "output_type": "display_data"
    },
    {
     "data": {
      "text/html": [
       "<pre style=\"white-space:pre;overflow-x:auto;line-height:normal;font-family:Menlo,'DejaVu Sans Mono',consolas,'Courier New',monospace\">total_reward: -36586.33\n",
       "</pre>\n"
      ],
      "text/plain": [
       "total_reward: -36586.33\n"
      ]
     },
     "metadata": {},
     "output_type": "display_data"
    },
    {
     "data": {
      "text/html": [
       "<pre style=\"white-space:pre;overflow-x:auto;line-height:normal;font-family:Menlo,'DejaVu Sans Mono',consolas,'Courier New',monospace\">total_cost: 24419.06\n",
       "</pre>\n"
      ],
      "text/plain": [
       "total_cost: 24419.06\n"
      ]
     },
     "metadata": {},
     "output_type": "display_data"
    },
    {
     "data": {
      "text/html": [
       "<pre style=\"white-space:pre;overflow-x:auto;line-height:normal;font-family:Menlo,'DejaVu Sans Mono',consolas,'Courier New',monospace\">total_trades: 2911\n",
       "</pre>\n"
      ],
      "text/plain": [
       "total_trades: 2911\n"
      ]
     },
     "metadata": {},
     "output_type": "display_data"
    },
    {
     "data": {
      "text/html": [
       "<pre style=\"white-space:pre;overflow-x:auto;line-height:normal;font-family:Menlo,'DejaVu Sans Mono',consolas,'Courier New',monospace\">Sharpe: -0.521\n",
       "</pre>\n"
      ],
      "text/plain": [
       "Sharpe: -0.521\n"
      ]
     },
     "metadata": {},
     "output_type": "display_data"
    },
    {
     "data": {
      "text/html": [
       "<pre style=\"white-space:pre;overflow-x:auto;line-height:normal;font-family:Menlo,'DejaVu Sans Mono',consolas,'Courier New',monospace\">=================================\n",
       "</pre>\n"
      ],
      "text/plain": [
       "=================================\n"
      ]
     },
     "metadata": {},
     "output_type": "display_data"
    },
    {
     "data": {
      "text/html": [
       "<pre style=\"white-space:pre;overflow-x:auto;line-height:normal;font-family:Menlo,'DejaVu Sans Mono',consolas,'Courier New',monospace\">day: 766, episode: 16\n",
       "</pre>\n"
      ],
      "text/plain": [
       "day: 766, episode: 16\n"
      ]
     },
     "metadata": {},
     "output_type": "display_data"
    },
    {
     "data": {
      "text/html": [
       "<pre style=\"white-space:pre;overflow-x:auto;line-height:normal;font-family:Menlo,'DejaVu Sans Mono',consolas,'Courier New',monospace\">begin_total_asset: 100000.00\n",
       "</pre>\n"
      ],
      "text/plain": [
       "begin_total_asset: 100000.00\n"
      ]
     },
     "metadata": {},
     "output_type": "display_data"
    },
    {
     "data": {
      "text/html": [
       "<pre style=\"white-space:pre;overflow-x:auto;line-height:normal;font-family:Menlo,'DejaVu Sans Mono',consolas,'Courier New',monospace\">end_total_asset: 60664.07\n",
       "</pre>\n"
      ],
      "text/plain": [
       "end_total_asset: 60664.07\n"
      ]
     },
     "metadata": {},
     "output_type": "display_data"
    },
    {
     "data": {
      "text/html": [
       "<pre style=\"white-space:pre;overflow-x:auto;line-height:normal;font-family:Menlo,'DejaVu Sans Mono',consolas,'Courier New',monospace\">total_reward: -39335.93\n",
       "</pre>\n"
      ],
      "text/plain": [
       "total_reward: -39335.93\n"
      ]
     },
     "metadata": {},
     "output_type": "display_data"
    },
    {
     "data": {
      "text/html": [
       "<pre style=\"white-space:pre;overflow-x:auto;line-height:normal;font-family:Menlo,'DejaVu Sans Mono',consolas,'Courier New',monospace\">total_cost: 29614.85\n",
       "</pre>\n"
      ],
      "text/plain": [
       "total_cost: 29614.85\n"
      ]
     },
     "metadata": {},
     "output_type": "display_data"
    },
    {
     "data": {
      "text/html": [
       "<pre style=\"white-space:pre;overflow-x:auto;line-height:normal;font-family:Menlo,'DejaVu Sans Mono',consolas,'Courier New',monospace\">total_trades: 2948\n",
       "</pre>\n"
      ],
      "text/plain": [
       "total_trades: 2948\n"
      ]
     },
     "metadata": {},
     "output_type": "display_data"
    },
    {
     "data": {
      "text/html": [
       "<pre style=\"white-space:pre;overflow-x:auto;line-height:normal;font-family:Menlo,'DejaVu Sans Mono',consolas,'Courier New',monospace\">Sharpe: -0.652\n",
       "</pre>\n"
      ],
      "text/plain": [
       "Sharpe: -0.652\n"
      ]
     },
     "metadata": {},
     "output_type": "display_data"
    },
    {
     "data": {
      "text/html": [
       "<pre style=\"white-space:pre;overflow-x:auto;line-height:normal;font-family:Menlo,'DejaVu Sans Mono',consolas,'Courier New',monospace\">=================================\n",
       "</pre>\n"
      ],
      "text/plain": [
       "=================================\n"
      ]
     },
     "metadata": {},
     "output_type": "display_data"
    },
    {
     "data": {
      "text/html": [
       "<pre style=\"white-space:pre;overflow-x:auto;line-height:normal;font-family:Menlo,'DejaVu Sans Mono',consolas,'Courier New',monospace\">day: 766, episode: 17\n",
       "</pre>\n"
      ],
      "text/plain": [
       "day: 766, episode: 17\n"
      ]
     },
     "metadata": {},
     "output_type": "display_data"
    },
    {
     "data": {
      "text/html": [
       "<pre style=\"white-space:pre;overflow-x:auto;line-height:normal;font-family:Menlo,'DejaVu Sans Mono',consolas,'Courier New',monospace\">begin_total_asset: 100000.00\n",
       "</pre>\n"
      ],
      "text/plain": [
       "begin_total_asset: 100000.00\n"
      ]
     },
     "metadata": {},
     "output_type": "display_data"
    },
    {
     "data": {
      "text/html": [
       "<pre style=\"white-space:pre;overflow-x:auto;line-height:normal;font-family:Menlo,'DejaVu Sans Mono',consolas,'Courier New',monospace\">end_total_asset: 96172.85\n",
       "</pre>\n"
      ],
      "text/plain": [
       "end_total_asset: 96172.85\n"
      ]
     },
     "metadata": {},
     "output_type": "display_data"
    },
    {
     "data": {
      "text/html": [
       "<pre style=\"white-space:pre;overflow-x:auto;line-height:normal;font-family:Menlo,'DejaVu Sans Mono',consolas,'Courier New',monospace\">total_reward: -3827.15\n",
       "</pre>\n"
      ],
      "text/plain": [
       "total_reward: -3827.15\n"
      ]
     },
     "metadata": {},
     "output_type": "display_data"
    },
    {
     "data": {
      "text/html": [
       "<pre style=\"white-space:pre;overflow-x:auto;line-height:normal;font-family:Menlo,'DejaVu Sans Mono',consolas,'Courier New',monospace\">total_cost: 29834.75\n",
       "</pre>\n"
      ],
      "text/plain": [
       "total_cost: 29834.75\n"
      ]
     },
     "metadata": {},
     "output_type": "display_data"
    },
    {
     "data": {
      "text/html": [
       "<pre style=\"white-space:pre;overflow-x:auto;line-height:normal;font-family:Menlo,'DejaVu Sans Mono',consolas,'Courier New',monospace\">total_trades: 2955\n",
       "</pre>\n"
      ],
      "text/plain": [
       "total_trades: 2955\n"
      ]
     },
     "metadata": {},
     "output_type": "display_data"
    },
    {
     "data": {
      "text/html": [
       "<pre style=\"white-space:pre;overflow-x:auto;line-height:normal;font-family:Menlo,'DejaVu Sans Mono',consolas,'Courier New',monospace\">Sharpe: 0.054\n",
       "</pre>\n"
      ],
      "text/plain": [
       "Sharpe: 0.054\n"
      ]
     },
     "metadata": {},
     "output_type": "display_data"
    },
    {
     "data": {
      "text/html": [
       "<pre style=\"white-space:pre;overflow-x:auto;line-height:normal;font-family:Menlo,'DejaVu Sans Mono',consolas,'Courier New',monospace\">=================================\n",
       "</pre>\n"
      ],
      "text/plain": [
       "=================================\n"
      ]
     },
     "metadata": {},
     "output_type": "display_data"
    },
    {
     "data": {
      "text/html": [
       "<pre style=\"white-space:pre;overflow-x:auto;line-height:normal;font-family:Menlo,'DejaVu Sans Mono',consolas,'Courier New',monospace\">-----------------------------------------\n",
       "| rollout/                |             |\n",
       "|    ep_len_mean          | 767         |\n",
       "|    ep_rew_mean          | -3.82       |\n",
       "| time/                   |             |\n",
       "|    fps                  | 148         |\n",
       "|    iterations           | 3           |\n",
       "|    time_elapsed         | 41          |\n",
       "|    total_timesteps      | 6144        |\n",
       "| train/                  |             |\n",
       "|    approx_kl            | 0.012443824 |\n",
       "|    clip_fraction        | 0.129       |\n",
       "|    clip_range           | 0.2         |\n",
       "|    entropy_loss         | -7.06       |\n",
       "|    explained_variance   | 0.0198      |\n",
       "|    learning_rate        | 0.0003      |\n",
       "|    loss                 | -0.002      |\n",
       "|    n_updates            | 20          |\n",
       "|    policy_gradient_loss | -0.00313    |\n",
       "|    std                  | 0.99        |\n",
       "|    value_loss           | 0.0967      |\n",
       "-----------------------------------------\n",
       "</pre>\n"
      ],
      "text/plain": [
       "-----------------------------------------\n",
       "| rollout/                |             |\n",
       "|    ep_len_mean          | 767         |\n",
       "|    ep_rew_mean          | -3.82       |\n",
       "| time/                   |             |\n",
       "|    fps                  | 148         |\n",
       "|    iterations           | 3           |\n",
       "|    time_elapsed         | 41          |\n",
       "|    total_timesteps      | 6144        |\n",
       "| train/                  |             |\n",
       "|    approx_kl            | 0.012443824 |\n",
       "|    clip_fraction        | 0.129       |\n",
       "|    clip_range           | 0.2         |\n",
       "|    entropy_loss         | -7.06       |\n",
       "|    explained_variance   | 0.0198      |\n",
       "|    learning_rate        | 0.0003      |\n",
       "|    loss                 | -0.002      |\n",
       "|    n_updates            | 20          |\n",
       "|    policy_gradient_loss | -0.00313    |\n",
       "|    std                  | 0.99        |\n",
       "|    value_loss           | 0.0967      |\n",
       "-----------------------------------------\n"
      ]
     },
     "metadata": {},
     "output_type": "display_data"
    },
    {
     "data": {
      "text/html": [
       "<pre style=\"white-space:pre;overflow-x:auto;line-height:normal;font-family:Menlo,'DejaVu Sans Mono',consolas,'Courier New',monospace\">day: 766, episode: 18\n",
       "</pre>\n"
      ],
      "text/plain": [
       "day: 766, episode: 18\n"
      ]
     },
     "metadata": {},
     "output_type": "display_data"
    },
    {
     "data": {
      "text/html": [
       "<pre style=\"white-space:pre;overflow-x:auto;line-height:normal;font-family:Menlo,'DejaVu Sans Mono',consolas,'Courier New',monospace\">begin_total_asset: 100000.00\n",
       "</pre>\n"
      ],
      "text/plain": [
       "begin_total_asset: 100000.00\n"
      ]
     },
     "metadata": {},
     "output_type": "display_data"
    },
    {
     "data": {
      "text/html": [
       "<pre style=\"white-space:pre;overflow-x:auto;line-height:normal;font-family:Menlo,'DejaVu Sans Mono',consolas,'Courier New',monospace\">end_total_asset: 39532.48\n",
       "</pre>\n"
      ],
      "text/plain": [
       "end_total_asset: 39532.48\n"
      ]
     },
     "metadata": {},
     "output_type": "display_data"
    },
    {
     "data": {
      "text/html": [
       "<pre style=\"white-space:pre;overflow-x:auto;line-height:normal;font-family:Menlo,'DejaVu Sans Mono',consolas,'Courier New',monospace\">total_reward: -60467.52\n",
       "</pre>\n"
      ],
      "text/plain": [
       "total_reward: -60467.52\n"
      ]
     },
     "metadata": {},
     "output_type": "display_data"
    },
    {
     "data": {
      "text/html": [
       "<pre style=\"white-space:pre;overflow-x:auto;line-height:normal;font-family:Menlo,'DejaVu Sans Mono',consolas,'Courier New',monospace\">total_cost: 28641.94\n",
       "</pre>\n"
      ],
      "text/plain": [
       "total_cost: 28641.94\n"
      ]
     },
     "metadata": {},
     "output_type": "display_data"
    },
    {
     "data": {
      "text/html": [
       "<pre style=\"white-space:pre;overflow-x:auto;line-height:normal;font-family:Menlo,'DejaVu Sans Mono',consolas,'Courier New',monospace\">total_trades: 2924\n",
       "</pre>\n"
      ],
      "text/plain": [
       "total_trades: 2924\n"
      ]
     },
     "metadata": {},
     "output_type": "display_data"
    },
    {
     "data": {
      "text/html": [
       "<pre style=\"white-space:pre;overflow-x:auto;line-height:normal;font-family:Menlo,'DejaVu Sans Mono',consolas,'Courier New',monospace\">Sharpe: -1.269\n",
       "</pre>\n"
      ],
      "text/plain": [
       "Sharpe: -1.269\n"
      ]
     },
     "metadata": {},
     "output_type": "display_data"
    },
    {
     "data": {
      "text/html": [
       "<pre style=\"white-space:pre;overflow-x:auto;line-height:normal;font-family:Menlo,'DejaVu Sans Mono',consolas,'Courier New',monospace\">=================================\n",
       "</pre>\n"
      ],
      "text/plain": [
       "=================================\n"
      ]
     },
     "metadata": {},
     "output_type": "display_data"
    },
    {
     "data": {
      "text/html": [
       "<pre style=\"white-space:pre;overflow-x:auto;line-height:normal;font-family:Menlo,'DejaVu Sans Mono',consolas,'Courier New',monospace\">day: 766, episode: 19\n",
       "</pre>\n"
      ],
      "text/plain": [
       "day: 766, episode: 19\n"
      ]
     },
     "metadata": {},
     "output_type": "display_data"
    },
    {
     "data": {
      "text/html": [
       "<pre style=\"white-space:pre;overflow-x:auto;line-height:normal;font-family:Menlo,'DejaVu Sans Mono',consolas,'Courier New',monospace\">begin_total_asset: 100000.00\n",
       "</pre>\n"
      ],
      "text/plain": [
       "begin_total_asset: 100000.00\n"
      ]
     },
     "metadata": {},
     "output_type": "display_data"
    },
    {
     "data": {
      "text/html": [
       "<pre style=\"white-space:pre;overflow-x:auto;line-height:normal;font-family:Menlo,'DejaVu Sans Mono',consolas,'Courier New',monospace\">end_total_asset: 38354.71\n",
       "</pre>\n"
      ],
      "text/plain": [
       "end_total_asset: 38354.71\n"
      ]
     },
     "metadata": {},
     "output_type": "display_data"
    },
    {
     "data": {
      "text/html": [
       "<pre style=\"white-space:pre;overflow-x:auto;line-height:normal;font-family:Menlo,'DejaVu Sans Mono',consolas,'Courier New',monospace\">total_reward: -61645.29\n",
       "</pre>\n"
      ],
      "text/plain": [
       "total_reward: -61645.29\n"
      ]
     },
     "metadata": {},
     "output_type": "display_data"
    },
    {
     "data": {
      "text/html": [
       "<pre style=\"white-space:pre;overflow-x:auto;line-height:normal;font-family:Menlo,'DejaVu Sans Mono',consolas,'Courier New',monospace\">total_cost: 25085.01\n",
       "</pre>\n"
      ],
      "text/plain": [
       "total_cost: 25085.01\n"
      ]
     },
     "metadata": {},
     "output_type": "display_data"
    },
    {
     "data": {
      "text/html": [
       "<pre style=\"white-space:pre;overflow-x:auto;line-height:normal;font-family:Menlo,'DejaVu Sans Mono',consolas,'Courier New',monospace\">total_trades: 2910\n",
       "</pre>\n"
      ],
      "text/plain": [
       "total_trades: 2910\n"
      ]
     },
     "metadata": {},
     "output_type": "display_data"
    },
    {
     "data": {
      "text/html": [
       "<pre style=\"white-space:pre;overflow-x:auto;line-height:normal;font-family:Menlo,'DejaVu Sans Mono',consolas,'Courier New',monospace\">Sharpe: -1.263\n",
       "</pre>\n"
      ],
      "text/plain": [
       "Sharpe: -1.263\n"
      ]
     },
     "metadata": {},
     "output_type": "display_data"
    },
    {
     "data": {
      "text/html": [
       "<pre style=\"white-space:pre;overflow-x:auto;line-height:normal;font-family:Menlo,'DejaVu Sans Mono',consolas,'Courier New',monospace\">=================================\n",
       "</pre>\n"
      ],
      "text/plain": [
       "=================================\n"
      ]
     },
     "metadata": {},
     "output_type": "display_data"
    },
    {
     "data": {
      "text/html": [
       "<pre style=\"white-space:pre;overflow-x:auto;line-height:normal;font-family:Menlo,'DejaVu Sans Mono',consolas,'Courier New',monospace\">-----------------------------------------\n",
       "| rollout/                |             |\n",
       "|    ep_len_mean          | 767         |\n",
       "|    ep_rew_mean          | -4.28       |\n",
       "| time/                   |             |\n",
       "|    fps                  | 148         |\n",
       "|    iterations           | 4           |\n",
       "|    time_elapsed         | 55          |\n",
       "|    total_timesteps      | 8192        |\n",
       "| train/                  |             |\n",
       "|    approx_kl            | 0.009351958 |\n",
       "|    clip_fraction        | 0.12        |\n",
       "|    clip_range           | 0.2         |\n",
       "|    entropy_loss         | -7.07       |\n",
       "|    explained_variance   | 0.0182      |\n",
       "|    learning_rate        | 0.0003      |\n",
       "|    loss                 | -0.0126     |\n",
       "|    n_updates            | 30          |\n",
       "|    policy_gradient_loss | -0.00192    |\n",
       "|    std                  | 0.998       |\n",
       "|    value_loss           | 0.129       |\n",
       "-----------------------------------------\n",
       "</pre>\n"
      ],
      "text/plain": [
       "-----------------------------------------\n",
       "| rollout/                |             |\n",
       "|    ep_len_mean          | 767         |\n",
       "|    ep_rew_mean          | -4.28       |\n",
       "| time/                   |             |\n",
       "|    fps                  | 148         |\n",
       "|    iterations           | 4           |\n",
       "|    time_elapsed         | 55          |\n",
       "|    total_timesteps      | 8192        |\n",
       "| train/                  |             |\n",
       "|    approx_kl            | 0.009351958 |\n",
       "|    clip_fraction        | 0.12        |\n",
       "|    clip_range           | 0.2         |\n",
       "|    entropy_loss         | -7.07       |\n",
       "|    explained_variance   | 0.0182      |\n",
       "|    learning_rate        | 0.0003      |\n",
       "|    loss                 | -0.0126     |\n",
       "|    n_updates            | 30          |\n",
       "|    policy_gradient_loss | -0.00192    |\n",
       "|    std                  | 0.998       |\n",
       "|    value_loss           | 0.129       |\n",
       "-----------------------------------------\n"
      ]
     },
     "metadata": {},
     "output_type": "display_data"
    },
    {
     "data": {
      "text/html": [
       "<pre style=\"white-space:pre;overflow-x:auto;line-height:normal;font-family:Menlo,'DejaVu Sans Mono',consolas,'Courier New',monospace\">day: 766, episode: 20\n",
       "</pre>\n"
      ],
      "text/plain": [
       "day: 766, episode: 20\n"
      ]
     },
     "metadata": {},
     "output_type": "display_data"
    },
    {
     "data": {
      "text/html": [
       "<pre style=\"white-space:pre;overflow-x:auto;line-height:normal;font-family:Menlo,'DejaVu Sans Mono',consolas,'Courier New',monospace\">begin_total_asset: 100000.00\n",
       "</pre>\n"
      ],
      "text/plain": [
       "begin_total_asset: 100000.00\n"
      ]
     },
     "metadata": {},
     "output_type": "display_data"
    },
    {
     "data": {
      "text/html": [
       "<pre style=\"white-space:pre;overflow-x:auto;line-height:normal;font-family:Menlo,'DejaVu Sans Mono',consolas,'Courier New',monospace\">end_total_asset: 64755.84\n",
       "</pre>\n"
      ],
      "text/plain": [
       "end_total_asset: 64755.84\n"
      ]
     },
     "metadata": {},
     "output_type": "display_data"
    },
    {
     "data": {
      "text/html": [
       "<pre style=\"white-space:pre;overflow-x:auto;line-height:normal;font-family:Menlo,'DejaVu Sans Mono',consolas,'Courier New',monospace\">total_reward: -35244.16\n",
       "</pre>\n"
      ],
      "text/plain": [
       "total_reward: -35244.16\n"
      ]
     },
     "metadata": {},
     "output_type": "display_data"
    },
    {
     "data": {
      "text/html": [
       "<pre style=\"white-space:pre;overflow-x:auto;line-height:normal;font-family:Menlo,'DejaVu Sans Mono',consolas,'Courier New',monospace\">total_cost: 24349.09\n",
       "</pre>\n"
      ],
      "text/plain": [
       "total_cost: 24349.09\n"
      ]
     },
     "metadata": {},
     "output_type": "display_data"
    },
    {
     "data": {
      "text/html": [
       "<pre style=\"white-space:pre;overflow-x:auto;line-height:normal;font-family:Menlo,'DejaVu Sans Mono',consolas,'Courier New',monospace\">total_trades: 2939\n",
       "</pre>\n"
      ],
      "text/plain": [
       "total_trades: 2939\n"
      ]
     },
     "metadata": {},
     "output_type": "display_data"
    },
    {
     "data": {
      "text/html": [
       "<pre style=\"white-space:pre;overflow-x:auto;line-height:normal;font-family:Menlo,'DejaVu Sans Mono',consolas,'Courier New',monospace\">Sharpe: -0.506\n",
       "</pre>\n"
      ],
      "text/plain": [
       "Sharpe: -0.506\n"
      ]
     },
     "metadata": {},
     "output_type": "display_data"
    },
    {
     "data": {
      "text/html": [
       "<pre style=\"white-space:pre;overflow-x:auto;line-height:normal;font-family:Menlo,'DejaVu Sans Mono',consolas,'Courier New',monospace\">=================================\n",
       "</pre>\n"
      ],
      "text/plain": [
       "=================================\n"
      ]
     },
     "metadata": {},
     "output_type": "display_data"
    },
    {
     "data": {
      "text/html": [
       "<pre style=\"white-space:pre;overflow-x:auto;line-height:normal;font-family:Menlo,'DejaVu Sans Mono',consolas,'Courier New',monospace\">day: 766, episode: 21\n",
       "</pre>\n"
      ],
      "text/plain": [
       "day: 766, episode: 21\n"
      ]
     },
     "metadata": {},
     "output_type": "display_data"
    },
    {
     "data": {
      "text/html": [
       "<pre style=\"white-space:pre;overflow-x:auto;line-height:normal;font-family:Menlo,'DejaVu Sans Mono',consolas,'Courier New',monospace\">begin_total_asset: 100000.00\n",
       "</pre>\n"
      ],
      "text/plain": [
       "begin_total_asset: 100000.00\n"
      ]
     },
     "metadata": {},
     "output_type": "display_data"
    },
    {
     "data": {
      "text/html": [
       "<pre style=\"white-space:pre;overflow-x:auto;line-height:normal;font-family:Menlo,'DejaVu Sans Mono',consolas,'Courier New',monospace\">end_total_asset: 62781.72\n",
       "</pre>\n"
      ],
      "text/plain": [
       "end_total_asset: 62781.72\n"
      ]
     },
     "metadata": {},
     "output_type": "display_data"
    },
    {
     "data": {
      "text/html": [
       "<pre style=\"white-space:pre;overflow-x:auto;line-height:normal;font-family:Menlo,'DejaVu Sans Mono',consolas,'Courier New',monospace\">total_reward: -37218.28\n",
       "</pre>\n"
      ],
      "text/plain": [
       "total_reward: -37218.28\n"
      ]
     },
     "metadata": {},
     "output_type": "display_data"
    },
    {
     "data": {
      "text/html": [
       "<pre style=\"white-space:pre;overflow-x:auto;line-height:normal;font-family:Menlo,'DejaVu Sans Mono',consolas,'Courier New',monospace\">total_cost: 29052.77\n",
       "</pre>\n"
      ],
      "text/plain": [
       "total_cost: 29052.77\n"
      ]
     },
     "metadata": {},
     "output_type": "display_data"
    },
    {
     "data": {
      "text/html": [
       "<pre style=\"white-space:pre;overflow-x:auto;line-height:normal;font-family:Menlo,'DejaVu Sans Mono',consolas,'Courier New',monospace\">total_trades: 2953\n",
       "</pre>\n"
      ],
      "text/plain": [
       "total_trades: 2953\n"
      ]
     },
     "metadata": {},
     "output_type": "display_data"
    },
    {
     "data": {
      "text/html": [
       "<pre style=\"white-space:pre;overflow-x:auto;line-height:normal;font-family:Menlo,'DejaVu Sans Mono',consolas,'Courier New',monospace\">Sharpe: -0.569\n",
       "</pre>\n"
      ],
      "text/plain": [
       "Sharpe: -0.569\n"
      ]
     },
     "metadata": {},
     "output_type": "display_data"
    },
    {
     "data": {
      "text/html": [
       "<pre style=\"white-space:pre;overflow-x:auto;line-height:normal;font-family:Menlo,'DejaVu Sans Mono',consolas,'Courier New',monospace\">=================================\n",
       "</pre>\n"
      ],
      "text/plain": [
       "=================================\n"
      ]
     },
     "metadata": {},
     "output_type": "display_data"
    },
    {
     "data": {
      "text/html": [
       "<pre style=\"white-space:pre;overflow-x:auto;line-height:normal;font-family:Menlo,'DejaVu Sans Mono',consolas,'Courier New',monospace\">day: 766, episode: 22\n",
       "</pre>\n"
      ],
      "text/plain": [
       "day: 766, episode: 22\n"
      ]
     },
     "metadata": {},
     "output_type": "display_data"
    },
    {
     "data": {
      "text/html": [
       "<pre style=\"white-space:pre;overflow-x:auto;line-height:normal;font-family:Menlo,'DejaVu Sans Mono',consolas,'Courier New',monospace\">begin_total_asset: 100000.00\n",
       "</pre>\n"
      ],
      "text/plain": [
       "begin_total_asset: 100000.00\n"
      ]
     },
     "metadata": {},
     "output_type": "display_data"
    },
    {
     "data": {
      "text/html": [
       "<pre style=\"white-space:pre;overflow-x:auto;line-height:normal;font-family:Menlo,'DejaVu Sans Mono',consolas,'Courier New',monospace\">end_total_asset: 76092.86\n",
       "</pre>\n"
      ],
      "text/plain": [
       "end_total_asset: 76092.86\n"
      ]
     },
     "metadata": {},
     "output_type": "display_data"
    },
    {
     "data": {
      "text/html": [
       "<pre style=\"white-space:pre;overflow-x:auto;line-height:normal;font-family:Menlo,'DejaVu Sans Mono',consolas,'Courier New',monospace\">total_reward: -23907.14\n",
       "</pre>\n"
      ],
      "text/plain": [
       "total_reward: -23907.14\n"
      ]
     },
     "metadata": {},
     "output_type": "display_data"
    },
    {
     "data": {
      "text/html": [
       "<pre style=\"white-space:pre;overflow-x:auto;line-height:normal;font-family:Menlo,'DejaVu Sans Mono',consolas,'Courier New',monospace\">total_cost: 31654.69\n",
       "</pre>\n"
      ],
      "text/plain": [
       "total_cost: 31654.69\n"
      ]
     },
     "metadata": {},
     "output_type": "display_data"
    },
    {
     "data": {
      "text/html": [
       "<pre style=\"white-space:pre;overflow-x:auto;line-height:normal;font-family:Menlo,'DejaVu Sans Mono',consolas,'Courier New',monospace\">total_trades: 2960\n",
       "</pre>\n"
      ],
      "text/plain": [
       "total_trades: 2960\n"
      ]
     },
     "metadata": {},
     "output_type": "display_data"
    },
    {
     "data": {
      "text/html": [
       "<pre style=\"white-space:pre;overflow-x:auto;line-height:normal;font-family:Menlo,'DejaVu Sans Mono',consolas,'Courier New',monospace\">Sharpe: -0.271\n",
       "</pre>\n"
      ],
      "text/plain": [
       "Sharpe: -0.271\n"
      ]
     },
     "metadata": {},
     "output_type": "display_data"
    },
    {
     "data": {
      "text/html": [
       "<pre style=\"white-space:pre;overflow-x:auto;line-height:normal;font-family:Menlo,'DejaVu Sans Mono',consolas,'Courier New',monospace\">=================================\n",
       "</pre>\n"
      ],
      "text/plain": [
       "=================================\n"
      ]
     },
     "metadata": {},
     "output_type": "display_data"
    },
    {
     "data": {
      "text/html": [
       "<pre style=\"white-space:pre;overflow-x:auto;line-height:normal;font-family:Menlo,'DejaVu Sans Mono',consolas,'Courier New',monospace\">-----------------------------------------\n",
       "| rollout/                |             |\n",
       "|    ep_len_mean          | 767         |\n",
       "|    ep_rew_mean          | -4.04       |\n",
       "| time/                   |             |\n",
       "|    fps                  | 143         |\n",
       "|    iterations           | 5           |\n",
       "|    time_elapsed         | 71          |\n",
       "|    total_timesteps      | 10240       |\n",
       "| train/                  |             |\n",
       "|    approx_kl            | 0.009117218 |\n",
       "|    clip_fraction        | 0.125       |\n",
       "|    clip_range           | 0.2         |\n",
       "|    entropy_loss         | -7.08       |\n",
       "|    explained_variance   | 0.0163      |\n",
       "|    learning_rate        | 0.0003      |\n",
       "|    loss                 | -0.0177     |\n",
       "|    n_updates            | 40          |\n",
       "|    policy_gradient_loss | -0.00349    |\n",
       "|    std                  | 0.998       |\n",
       "|    value_loss           | 0.0745      |\n",
       "-----------------------------------------\n",
       "</pre>\n"
      ],
      "text/plain": [
       "-----------------------------------------\n",
       "| rollout/                |             |\n",
       "|    ep_len_mean          | 767         |\n",
       "|    ep_rew_mean          | -4.04       |\n",
       "| time/                   |             |\n",
       "|    fps                  | 143         |\n",
       "|    iterations           | 5           |\n",
       "|    time_elapsed         | 71          |\n",
       "|    total_timesteps      | 10240       |\n",
       "| train/                  |             |\n",
       "|    approx_kl            | 0.009117218 |\n",
       "|    clip_fraction        | 0.125       |\n",
       "|    clip_range           | 0.2         |\n",
       "|    entropy_loss         | -7.08       |\n",
       "|    explained_variance   | 0.0163      |\n",
       "|    learning_rate        | 0.0003      |\n",
       "|    loss                 | -0.0177     |\n",
       "|    n_updates            | 40          |\n",
       "|    policy_gradient_loss | -0.00349    |\n",
       "|    std                  | 0.998       |\n",
       "|    value_loss           | 0.0745      |\n",
       "-----------------------------------------\n"
      ]
     },
     "metadata": {},
     "output_type": "display_data"
    },
    {
     "data": {
      "text/html": [
       "<pre style=\"white-space:pre;overflow-x:auto;line-height:normal;font-family:Menlo,'DejaVu Sans Mono',consolas,'Courier New',monospace\">day: 766, episode: 23\n",
       "</pre>\n"
      ],
      "text/plain": [
       "day: 766, episode: 23\n"
      ]
     },
     "metadata": {},
     "output_type": "display_data"
    },
    {
     "data": {
      "text/html": [
       "<pre style=\"white-space:pre;overflow-x:auto;line-height:normal;font-family:Menlo,'DejaVu Sans Mono',consolas,'Courier New',monospace\">begin_total_asset: 100000.00\n",
       "</pre>\n"
      ],
      "text/plain": [
       "begin_total_asset: 100000.00\n"
      ]
     },
     "metadata": {},
     "output_type": "display_data"
    },
    {
     "data": {
      "text/html": [
       "<pre style=\"white-space:pre;overflow-x:auto;line-height:normal;font-family:Menlo,'DejaVu Sans Mono',consolas,'Courier New',monospace\">end_total_asset: 69705.85\n",
       "</pre>\n"
      ],
      "text/plain": [
       "end_total_asset: 69705.85\n"
      ]
     },
     "metadata": {},
     "output_type": "display_data"
    },
    {
     "data": {
      "text/html": [
       "<pre style=\"white-space:pre;overflow-x:auto;line-height:normal;font-family:Menlo,'DejaVu Sans Mono',consolas,'Courier New',monospace\">total_reward: -30294.15\n",
       "</pre>\n"
      ],
      "text/plain": [
       "total_reward: -30294.15\n"
      ]
     },
     "metadata": {},
     "output_type": "display_data"
    },
    {
     "data": {
      "text/html": [
       "<pre style=\"white-space:pre;overflow-x:auto;line-height:normal;font-family:Menlo,'DejaVu Sans Mono',consolas,'Courier New',monospace\">total_cost: 30550.52\n",
       "</pre>\n"
      ],
      "text/plain": [
       "total_cost: 30550.52\n"
      ]
     },
     "metadata": {},
     "output_type": "display_data"
    },
    {
     "data": {
      "text/html": [
       "<pre style=\"white-space:pre;overflow-x:auto;line-height:normal;font-family:Menlo,'DejaVu Sans Mono',consolas,'Courier New',monospace\">total_trades: 2943\n",
       "</pre>\n"
      ],
      "text/plain": [
       "total_trades: 2943\n"
      ]
     },
     "metadata": {},
     "output_type": "display_data"
    },
    {
     "data": {
      "text/html": [
       "<pre style=\"white-space:pre;overflow-x:auto;line-height:normal;font-family:Menlo,'DejaVu Sans Mono',consolas,'Courier New',monospace\">Sharpe: -0.395\n",
       "</pre>\n"
      ],
      "text/plain": [
       "Sharpe: -0.395\n"
      ]
     },
     "metadata": {},
     "output_type": "display_data"
    },
    {
     "data": {
      "text/html": [
       "<pre style=\"white-space:pre;overflow-x:auto;line-height:normal;font-family:Menlo,'DejaVu Sans Mono',consolas,'Courier New',monospace\">=================================\n",
       "</pre>\n"
      ],
      "text/plain": [
       "=================================\n"
      ]
     },
     "metadata": {},
     "output_type": "display_data"
    },
    {
     "data": {
      "text/html": [
       "<pre style=\"white-space:pre;overflow-x:auto;line-height:normal;font-family:Menlo,'DejaVu Sans Mono',consolas,'Courier New',monospace\">day: 766, episode: 24\n",
       "</pre>\n"
      ],
      "text/plain": [
       "day: 766, episode: 24\n"
      ]
     },
     "metadata": {},
     "output_type": "display_data"
    },
    {
     "data": {
      "text/html": [
       "<pre style=\"white-space:pre;overflow-x:auto;line-height:normal;font-family:Menlo,'DejaVu Sans Mono',consolas,'Courier New',monospace\">begin_total_asset: 100000.00\n",
       "</pre>\n"
      ],
      "text/plain": [
       "begin_total_asset: 100000.00\n"
      ]
     },
     "metadata": {},
     "output_type": "display_data"
    },
    {
     "data": {
      "text/html": [
       "<pre style=\"white-space:pre;overflow-x:auto;line-height:normal;font-family:Menlo,'DejaVu Sans Mono',consolas,'Courier New',monospace\">end_total_asset: 40229.03\n",
       "</pre>\n"
      ],
      "text/plain": [
       "end_total_asset: 40229.03\n"
      ]
     },
     "metadata": {},
     "output_type": "display_data"
    },
    {
     "data": {
      "text/html": [
       "<pre style=\"white-space:pre;overflow-x:auto;line-height:normal;font-family:Menlo,'DejaVu Sans Mono',consolas,'Courier New',monospace\">total_reward: -59770.97\n",
       "</pre>\n"
      ],
      "text/plain": [
       "total_reward: -59770.97\n"
      ]
     },
     "metadata": {},
     "output_type": "display_data"
    },
    {
     "data": {
      "text/html": [
       "<pre style=\"white-space:pre;overflow-x:auto;line-height:normal;font-family:Menlo,'DejaVu Sans Mono',consolas,'Courier New',monospace\">total_cost: 23380.78\n",
       "</pre>\n"
      ],
      "text/plain": [
       "total_cost: 23380.78\n"
      ]
     },
     "metadata": {},
     "output_type": "display_data"
    },
    {
     "data": {
      "text/html": [
       "<pre style=\"white-space:pre;overflow-x:auto;line-height:normal;font-family:Menlo,'DejaVu Sans Mono',consolas,'Courier New',monospace\">total_trades: 2925\n",
       "</pre>\n"
      ],
      "text/plain": [
       "total_trades: 2925\n"
      ]
     },
     "metadata": {},
     "output_type": "display_data"
    },
    {
     "data": {
      "text/html": [
       "<pre style=\"white-space:pre;overflow-x:auto;line-height:normal;font-family:Menlo,'DejaVu Sans Mono',consolas,'Courier New',monospace\">Sharpe: -1.126\n",
       "</pre>\n"
      ],
      "text/plain": [
       "Sharpe: -1.126\n"
      ]
     },
     "metadata": {},
     "output_type": "display_data"
    },
    {
     "data": {
      "text/html": [
       "<pre style=\"white-space:pre;overflow-x:auto;line-height:normal;font-family:Menlo,'DejaVu Sans Mono',consolas,'Courier New',monospace\">=================================\n",
       "</pre>\n"
      ],
      "text/plain": [
       "=================================\n"
      ]
     },
     "metadata": {},
     "output_type": "display_data"
    },
    {
     "data": {
      "text/html": [
       "<pre style=\"white-space:pre;overflow-x:auto;line-height:normal;font-family:Menlo,'DejaVu Sans Mono',consolas,'Courier New',monospace\">day: 766, episode: 25\n",
       "</pre>\n"
      ],
      "text/plain": [
       "day: 766, episode: 25\n"
      ]
     },
     "metadata": {},
     "output_type": "display_data"
    },
    {
     "data": {
      "text/html": [
       "<pre style=\"white-space:pre;overflow-x:auto;line-height:normal;font-family:Menlo,'DejaVu Sans Mono',consolas,'Courier New',monospace\">begin_total_asset: 100000.00\n",
       "</pre>\n"
      ],
      "text/plain": [
       "begin_total_asset: 100000.00\n"
      ]
     },
     "metadata": {},
     "output_type": "display_data"
    },
    {
     "data": {
      "text/html": [
       "<pre style=\"white-space:pre;overflow-x:auto;line-height:normal;font-family:Menlo,'DejaVu Sans Mono',consolas,'Courier New',monospace\">end_total_asset: 54869.20\n",
       "</pre>\n"
      ],
      "text/plain": [
       "end_total_asset: 54869.20\n"
      ]
     },
     "metadata": {},
     "output_type": "display_data"
    },
    {
     "data": {
      "text/html": [
       "<pre style=\"white-space:pre;overflow-x:auto;line-height:normal;font-family:Menlo,'DejaVu Sans Mono',consolas,'Courier New',monospace\">total_reward: -45130.80\n",
       "</pre>\n"
      ],
      "text/plain": [
       "total_reward: -45130.80\n"
      ]
     },
     "metadata": {},
     "output_type": "display_data"
    },
    {
     "data": {
      "text/html": [
       "<pre style=\"white-space:pre;overflow-x:auto;line-height:normal;font-family:Menlo,'DejaVu Sans Mono',consolas,'Courier New',monospace\">total_cost: 26620.77\n",
       "</pre>\n"
      ],
      "text/plain": [
       "total_cost: 26620.77\n"
      ]
     },
     "metadata": {},
     "output_type": "display_data"
    },
    {
     "data": {
      "text/html": [
       "<pre style=\"white-space:pre;overflow-x:auto;line-height:normal;font-family:Menlo,'DejaVu Sans Mono',consolas,'Courier New',monospace\">total_trades: 2966\n",
       "</pre>\n"
      ],
      "text/plain": [
       "total_trades: 2966\n"
      ]
     },
     "metadata": {},
     "output_type": "display_data"
    },
    {
     "data": {
      "text/html": [
       "<pre style=\"white-space:pre;overflow-x:auto;line-height:normal;font-family:Menlo,'DejaVu Sans Mono',consolas,'Courier New',monospace\">Sharpe: -0.780\n",
       "</pre>\n"
      ],
      "text/plain": [
       "Sharpe: -0.780\n"
      ]
     },
     "metadata": {},
     "output_type": "display_data"
    },
    {
     "data": {
      "text/html": [
       "<pre style=\"white-space:pre;overflow-x:auto;line-height:normal;font-family:Menlo,'DejaVu Sans Mono',consolas,'Courier New',monospace\">=================================\n",
       "</pre>\n"
      ],
      "text/plain": [
       "=================================\n"
      ]
     },
     "metadata": {},
     "output_type": "display_data"
    },
    {
     "data": {
      "text/html": [
       "<pre style=\"white-space:pre;overflow-x:auto;line-height:normal;font-family:Menlo,'DejaVu Sans Mono',consolas,'Courier New',monospace\">------------------------------------------\n",
       "| rollout/                |              |\n",
       "|    ep_len_mean          | 767          |\n",
       "|    ep_rew_mean          | -4.15        |\n",
       "| time/                   |              |\n",
       "|    fps                  | 134          |\n",
       "|    iterations           | 6            |\n",
       "|    time_elapsed         | 91           |\n",
       "|    total_timesteps      | 12288        |\n",
       "| train/                  |              |\n",
       "|    approx_kl            | 0.0077402443 |\n",
       "|    clip_fraction        | 0.111        |\n",
       "|    clip_range           | 0.2          |\n",
       "|    entropy_loss         | -7.09        |\n",
       "|    explained_variance   | 0.00794      |\n",
       "|    learning_rate        | 0.0003       |\n",
       "|    loss                 | -0.0326      |\n",
       "|    n_updates            | 50           |\n",
       "|    policy_gradient_loss | -0.00158     |\n",
       "|    std                  | 1            |\n",
       "|    value_loss           | 0.113        |\n",
       "------------------------------------------\n",
       "</pre>\n"
      ],
      "text/plain": [
       "------------------------------------------\n",
       "| rollout/                |              |\n",
       "|    ep_len_mean          | 767          |\n",
       "|    ep_rew_mean          | -4.15        |\n",
       "| time/                   |              |\n",
       "|    fps                  | 134          |\n",
       "|    iterations           | 6            |\n",
       "|    time_elapsed         | 91           |\n",
       "|    total_timesteps      | 12288        |\n",
       "| train/                  |              |\n",
       "|    approx_kl            | 0.0077402443 |\n",
       "|    clip_fraction        | 0.111        |\n",
       "|    clip_range           | 0.2          |\n",
       "|    entropy_loss         | -7.09        |\n",
       "|    explained_variance   | 0.00794      |\n",
       "|    learning_rate        | 0.0003       |\n",
       "|    loss                 | -0.0326      |\n",
       "|    n_updates            | 50           |\n",
       "|    policy_gradient_loss | -0.00158     |\n",
       "|    std                  | 1            |\n",
       "|    value_loss           | 0.113        |\n",
       "------------------------------------------\n"
      ]
     },
     "metadata": {},
     "output_type": "display_data"
    },
    {
     "data": {
      "text/html": [
       "<pre style=\"white-space:pre;overflow-x:auto;line-height:normal;font-family:Menlo,'DejaVu Sans Mono',consolas,'Courier New',monospace\">day: 766, episode: 26\n",
       "</pre>\n"
      ],
      "text/plain": [
       "day: 766, episode: 26\n"
      ]
     },
     "metadata": {},
     "output_type": "display_data"
    },
    {
     "data": {
      "text/html": [
       "<pre style=\"white-space:pre;overflow-x:auto;line-height:normal;font-family:Menlo,'DejaVu Sans Mono',consolas,'Courier New',monospace\">begin_total_asset: 100000.00\n",
       "</pre>\n"
      ],
      "text/plain": [
       "begin_total_asset: 100000.00\n"
      ]
     },
     "metadata": {},
     "output_type": "display_data"
    },
    {
     "data": {
      "text/html": [
       "<pre style=\"white-space:pre;overflow-x:auto;line-height:normal;font-family:Menlo,'DejaVu Sans Mono',consolas,'Courier New',monospace\">end_total_asset: 123662.97\n",
       "</pre>\n"
      ],
      "text/plain": [
       "end_total_asset: 123662.97\n"
      ]
     },
     "metadata": {},
     "output_type": "display_data"
    },
    {
     "data": {
      "text/html": [
       "<pre style=\"white-space:pre;overflow-x:auto;line-height:normal;font-family:Menlo,'DejaVu Sans Mono',consolas,'Courier New',monospace\">total_reward: 23662.97\n",
       "</pre>\n"
      ],
      "text/plain": [
       "total_reward: 23662.97\n"
      ]
     },
     "metadata": {},
     "output_type": "display_data"
    },
    {
     "data": {
      "text/html": [
       "<pre style=\"white-space:pre;overflow-x:auto;line-height:normal;font-family:Menlo,'DejaVu Sans Mono',consolas,'Courier New',monospace\">total_cost: 37039.29\n",
       "</pre>\n"
      ],
      "text/plain": [
       "total_cost: 37039.29\n"
      ]
     },
     "metadata": {},
     "output_type": "display_data"
    },
    {
     "data": {
      "text/html": [
       "<pre style=\"white-space:pre;overflow-x:auto;line-height:normal;font-family:Menlo,'DejaVu Sans Mono',consolas,'Courier New',monospace\">total_trades: 3025\n",
       "</pre>\n"
      ],
      "text/plain": [
       "total_trades: 3025\n"
      ]
     },
     "metadata": {},
     "output_type": "display_data"
    },
    {
     "data": {
      "text/html": [
       "<pre style=\"white-space:pre;overflow-x:auto;line-height:normal;font-family:Menlo,'DejaVu Sans Mono',consolas,'Courier New',monospace\">Sharpe: 0.432\n",
       "</pre>\n"
      ],
      "text/plain": [
       "Sharpe: 0.432\n"
      ]
     },
     "metadata": {},
     "output_type": "display_data"
    },
    {
     "data": {
      "text/html": [
       "<pre style=\"white-space:pre;overflow-x:auto;line-height:normal;font-family:Menlo,'DejaVu Sans Mono',consolas,'Courier New',monospace\">=================================\n",
       "</pre>\n"
      ],
      "text/plain": [
       "=================================\n"
      ]
     },
     "metadata": {},
     "output_type": "display_data"
    },
    {
     "data": {
      "text/html": [
       "<pre style=\"white-space:pre;overflow-x:auto;line-height:normal;font-family:Menlo,'DejaVu Sans Mono',consolas,'Courier New',monospace\">day: 766, episode: 27\n",
       "</pre>\n"
      ],
      "text/plain": [
       "day: 766, episode: 27\n"
      ]
     },
     "metadata": {},
     "output_type": "display_data"
    },
    {
     "data": {
      "text/html": [
       "<pre style=\"white-space:pre;overflow-x:auto;line-height:normal;font-family:Menlo,'DejaVu Sans Mono',consolas,'Courier New',monospace\">begin_total_asset: 100000.00\n",
       "</pre>\n"
      ],
      "text/plain": [
       "begin_total_asset: 100000.00\n"
      ]
     },
     "metadata": {},
     "output_type": "display_data"
    },
    {
     "data": {
      "text/html": [
       "<pre style=\"white-space:pre;overflow-x:auto;line-height:normal;font-family:Menlo,'DejaVu Sans Mono',consolas,'Courier New',monospace\">end_total_asset: 55275.11\n",
       "</pre>\n"
      ],
      "text/plain": [
       "end_total_asset: 55275.11\n"
      ]
     },
     "metadata": {},
     "output_type": "display_data"
    },
    {
     "data": {
      "text/html": [
       "<pre style=\"white-space:pre;overflow-x:auto;line-height:normal;font-family:Menlo,'DejaVu Sans Mono',consolas,'Courier New',monospace\">total_reward: -44724.89\n",
       "</pre>\n"
      ],
      "text/plain": [
       "total_reward: -44724.89\n"
      ]
     },
     "metadata": {},
     "output_type": "display_data"
    },
    {
     "data": {
      "text/html": [
       "<pre style=\"white-space:pre;overflow-x:auto;line-height:normal;font-family:Menlo,'DejaVu Sans Mono',consolas,'Courier New',monospace\">total_cost: 27971.55\n",
       "</pre>\n"
      ],
      "text/plain": [
       "total_cost: 27971.55\n"
      ]
     },
     "metadata": {},
     "output_type": "display_data"
    },
    {
     "data": {
      "text/html": [
       "<pre style=\"white-space:pre;overflow-x:auto;line-height:normal;font-family:Menlo,'DejaVu Sans Mono',consolas,'Courier New',monospace\">total_trades: 2955\n",
       "</pre>\n"
      ],
      "text/plain": [
       "total_trades: 2955\n"
      ]
     },
     "metadata": {},
     "output_type": "display_data"
    },
    {
     "data": {
      "text/html": [
       "<pre style=\"white-space:pre;overflow-x:auto;line-height:normal;font-family:Menlo,'DejaVu Sans Mono',consolas,'Courier New',monospace\">Sharpe: -0.756\n",
       "</pre>\n"
      ],
      "text/plain": [
       "Sharpe: -0.756\n"
      ]
     },
     "metadata": {},
     "output_type": "display_data"
    },
    {
     "data": {
      "text/html": [
       "<pre style=\"white-space:pre;overflow-x:auto;line-height:normal;font-family:Menlo,'DejaVu Sans Mono',consolas,'Courier New',monospace\">=================================\n",
       "</pre>\n"
      ],
      "text/plain": [
       "=================================\n"
      ]
     },
     "metadata": {},
     "output_type": "display_data"
    },
    {
     "data": {
      "text/html": [
       "<pre style=\"white-space:pre;overflow-x:auto;line-height:normal;font-family:Menlo,'DejaVu Sans Mono',consolas,'Courier New',monospace\">-----------------------------------------\n",
       "| rollout/                |             |\n",
       "|    ep_len_mean          | 767         |\n",
       "|    ep_rew_mean          | -3.81       |\n",
       "| time/                   |             |\n",
       "|    fps                  | 137         |\n",
       "|    iterations           | 7           |\n",
       "|    time_elapsed         | 104         |\n",
       "|    total_timesteps      | 14336       |\n",
       "| train/                  |             |\n",
       "|    approx_kl            | 0.008643867 |\n",
       "|    clip_fraction        | 0.107       |\n",
       "|    clip_range           | 0.2         |\n",
       "|    entropy_loss         | -7.08       |\n",
       "|    explained_variance   | -0.00593    |\n",
       "|    learning_rate        | 0.0003      |\n",
       "|    loss                 | 0.0155      |\n",
       "|    n_updates            | 60          |\n",
       "|    policy_gradient_loss | 0.000831    |\n",
       "|    std                  | 0.996       |\n",
       "|    value_loss           | 0.0831      |\n",
       "-----------------------------------------\n",
       "</pre>\n"
      ],
      "text/plain": [
       "-----------------------------------------\n",
       "| rollout/                |             |\n",
       "|    ep_len_mean          | 767         |\n",
       "|    ep_rew_mean          | -3.81       |\n",
       "| time/                   |             |\n",
       "|    fps                  | 137         |\n",
       "|    iterations           | 7           |\n",
       "|    time_elapsed         | 104         |\n",
       "|    total_timesteps      | 14336       |\n",
       "| train/                  |             |\n",
       "|    approx_kl            | 0.008643867 |\n",
       "|    clip_fraction        | 0.107       |\n",
       "|    clip_range           | 0.2         |\n",
       "|    entropy_loss         | -7.08       |\n",
       "|    explained_variance   | -0.00593    |\n",
       "|    learning_rate        | 0.0003      |\n",
       "|    loss                 | 0.0155      |\n",
       "|    n_updates            | 60          |\n",
       "|    policy_gradient_loss | 0.000831    |\n",
       "|    std                  | 0.996       |\n",
       "|    value_loss           | 0.0831      |\n",
       "-----------------------------------------\n"
      ]
     },
     "metadata": {},
     "output_type": "display_data"
    },
    {
     "data": {
      "text/html": [
       "<pre style=\"white-space:pre;overflow-x:auto;line-height:normal;font-family:Menlo,'DejaVu Sans Mono',consolas,'Courier New',monospace\">day: 766, episode: 28\n",
       "</pre>\n"
      ],
      "text/plain": [
       "day: 766, episode: 28\n"
      ]
     },
     "metadata": {},
     "output_type": "display_data"
    },
    {
     "data": {
      "text/html": [
       "<pre style=\"white-space:pre;overflow-x:auto;line-height:normal;font-family:Menlo,'DejaVu Sans Mono',consolas,'Courier New',monospace\">begin_total_asset: 100000.00\n",
       "</pre>\n"
      ],
      "text/plain": [
       "begin_total_asset: 100000.00\n"
      ]
     },
     "metadata": {},
     "output_type": "display_data"
    },
    {
     "data": {
      "text/html": [
       "<pre style=\"white-space:pre;overflow-x:auto;line-height:normal;font-family:Menlo,'DejaVu Sans Mono',consolas,'Courier New',monospace\">end_total_asset: 54853.05\n",
       "</pre>\n"
      ],
      "text/plain": [
       "end_total_asset: 54853.05\n"
      ]
     },
     "metadata": {},
     "output_type": "display_data"
    },
    {
     "data": {
      "text/html": [
       "<pre style=\"white-space:pre;overflow-x:auto;line-height:normal;font-family:Menlo,'DejaVu Sans Mono',consolas,'Courier New',monospace\">total_reward: -45146.95\n",
       "</pre>\n"
      ],
      "text/plain": [
       "total_reward: -45146.95\n"
      ]
     },
     "metadata": {},
     "output_type": "display_data"
    },
    {
     "data": {
      "text/html": [
       "<pre style=\"white-space:pre;overflow-x:auto;line-height:normal;font-family:Menlo,'DejaVu Sans Mono',consolas,'Courier New',monospace\">total_cost: 26043.43\n",
       "</pre>\n"
      ],
      "text/plain": [
       "total_cost: 26043.43\n"
      ]
     },
     "metadata": {},
     "output_type": "display_data"
    },
    {
     "data": {
      "text/html": [
       "<pre style=\"white-space:pre;overflow-x:auto;line-height:normal;font-family:Menlo,'DejaVu Sans Mono',consolas,'Courier New',monospace\">total_trades: 2914\n",
       "</pre>\n"
      ],
      "text/plain": [
       "total_trades: 2914\n"
      ]
     },
     "metadata": {},
     "output_type": "display_data"
    },
    {
     "data": {
      "text/html": [
       "<pre style=\"white-space:pre;overflow-x:auto;line-height:normal;font-family:Menlo,'DejaVu Sans Mono',consolas,'Courier New',monospace\">Sharpe: -0.786\n",
       "</pre>\n"
      ],
      "text/plain": [
       "Sharpe: -0.786\n"
      ]
     },
     "metadata": {},
     "output_type": "display_data"
    },
    {
     "data": {
      "text/html": [
       "<pre style=\"white-space:pre;overflow-x:auto;line-height:normal;font-family:Menlo,'DejaVu Sans Mono',consolas,'Courier New',monospace\">=================================\n",
       "</pre>\n"
      ],
      "text/plain": [
       "=================================\n"
      ]
     },
     "metadata": {},
     "output_type": "display_data"
    },
    {
     "data": {
      "text/html": [
       "<pre style=\"white-space:pre;overflow-x:auto;line-height:normal;font-family:Menlo,'DejaVu Sans Mono',consolas,'Courier New',monospace\">day: 766, episode: 29\n",
       "</pre>\n"
      ],
      "text/plain": [
       "day: 766, episode: 29\n"
      ]
     },
     "metadata": {},
     "output_type": "display_data"
    },
    {
     "data": {
      "text/html": [
       "<pre style=\"white-space:pre;overflow-x:auto;line-height:normal;font-family:Menlo,'DejaVu Sans Mono',consolas,'Courier New',monospace\">begin_total_asset: 100000.00\n",
       "</pre>\n"
      ],
      "text/plain": [
       "begin_total_asset: 100000.00\n"
      ]
     },
     "metadata": {},
     "output_type": "display_data"
    },
    {
     "data": {
      "text/html": [
       "<pre style=\"white-space:pre;overflow-x:auto;line-height:normal;font-family:Menlo,'DejaVu Sans Mono',consolas,'Courier New',monospace\">end_total_asset: 90933.38\n",
       "</pre>\n"
      ],
      "text/plain": [
       "end_total_asset: 90933.38\n"
      ]
     },
     "metadata": {},
     "output_type": "display_data"
    },
    {
     "data": {
      "text/html": [
       "<pre style=\"white-space:pre;overflow-x:auto;line-height:normal;font-family:Menlo,'DejaVu Sans Mono',consolas,'Courier New',monospace\">total_reward: -9066.62\n",
       "</pre>\n"
      ],
      "text/plain": [
       "total_reward: -9066.62\n"
      ]
     },
     "metadata": {},
     "output_type": "display_data"
    },
    {
     "data": {
      "text/html": [
       "<pre style=\"white-space:pre;overflow-x:auto;line-height:normal;font-family:Menlo,'DejaVu Sans Mono',consolas,'Courier New',monospace\">total_cost: 29723.75\n",
       "</pre>\n"
      ],
      "text/plain": [
       "total_cost: 29723.75\n"
      ]
     },
     "metadata": {},
     "output_type": "display_data"
    },
    {
     "data": {
      "text/html": [
       "<pre style=\"white-space:pre;overflow-x:auto;line-height:normal;font-family:Menlo,'DejaVu Sans Mono',consolas,'Courier New',monospace\">total_trades: 3016\n",
       "</pre>\n"
      ],
      "text/plain": [
       "total_trades: 3016\n"
      ]
     },
     "metadata": {},
     "output_type": "display_data"
    },
    {
     "data": {
      "text/html": [
       "<pre style=\"white-space:pre;overflow-x:auto;line-height:normal;font-family:Menlo,'DejaVu Sans Mono',consolas,'Courier New',monospace\">Sharpe: -0.022\n",
       "</pre>\n"
      ],
      "text/plain": [
       "Sharpe: -0.022\n"
      ]
     },
     "metadata": {},
     "output_type": "display_data"
    },
    {
     "data": {
      "text/html": [
       "<pre style=\"white-space:pre;overflow-x:auto;line-height:normal;font-family:Menlo,'DejaVu Sans Mono',consolas,'Courier New',monospace\">=================================\n",
       "</pre>\n"
      ],
      "text/plain": [
       "=================================\n"
      ]
     },
     "metadata": {},
     "output_type": "display_data"
    },
    {
     "data": {
      "text/html": [
       "<pre style=\"white-space:pre;overflow-x:auto;line-height:normal;font-family:Menlo,'DejaVu Sans Mono',consolas,'Courier New',monospace\">day: 766, episode: 30\n",
       "</pre>\n"
      ],
      "text/plain": [
       "day: 766, episode: 30\n"
      ]
     },
     "metadata": {},
     "output_type": "display_data"
    },
    {
     "data": {
      "text/html": [
       "<pre style=\"white-space:pre;overflow-x:auto;line-height:normal;font-family:Menlo,'DejaVu Sans Mono',consolas,'Courier New',monospace\">begin_total_asset: 100000.00\n",
       "</pre>\n"
      ],
      "text/plain": [
       "begin_total_asset: 100000.00\n"
      ]
     },
     "metadata": {},
     "output_type": "display_data"
    },
    {
     "data": {
      "text/html": [
       "<pre style=\"white-space:pre;overflow-x:auto;line-height:normal;font-family:Menlo,'DejaVu Sans Mono',consolas,'Courier New',monospace\">end_total_asset: 80217.56\n",
       "</pre>\n"
      ],
      "text/plain": [
       "end_total_asset: 80217.56\n"
      ]
     },
     "metadata": {},
     "output_type": "display_data"
    },
    {
     "data": {
      "text/html": [
       "<pre style=\"white-space:pre;overflow-x:auto;line-height:normal;font-family:Menlo,'DejaVu Sans Mono',consolas,'Courier New',monospace\">total_reward: -19782.44\n",
       "</pre>\n"
      ],
      "text/plain": [
       "total_reward: -19782.44\n"
      ]
     },
     "metadata": {},
     "output_type": "display_data"
    },
    {
     "data": {
      "text/html": [
       "<pre style=\"white-space:pre;overflow-x:auto;line-height:normal;font-family:Menlo,'DejaVu Sans Mono',consolas,'Courier New',monospace\">total_cost: 28019.40\n",
       "</pre>\n"
      ],
      "text/plain": [
       "total_cost: 28019.40\n"
      ]
     },
     "metadata": {},
     "output_type": "display_data"
    },
    {
     "data": {
      "text/html": [
       "<pre style=\"white-space:pre;overflow-x:auto;line-height:normal;font-family:Menlo,'DejaVu Sans Mono',consolas,'Courier New',monospace\">total_trades: 2961\n",
       "</pre>\n"
      ],
      "text/plain": [
       "total_trades: 2961\n"
      ]
     },
     "metadata": {},
     "output_type": "display_data"
    },
    {
     "data": {
      "text/html": [
       "<pre style=\"white-space:pre;overflow-x:auto;line-height:normal;font-family:Menlo,'DejaVu Sans Mono',consolas,'Courier New',monospace\">Sharpe: -0.193\n",
       "</pre>\n"
      ],
      "text/plain": [
       "Sharpe: -0.193\n"
      ]
     },
     "metadata": {},
     "output_type": "display_data"
    },
    {
     "data": {
      "text/html": [
       "<pre style=\"white-space:pre;overflow-x:auto;line-height:normal;font-family:Menlo,'DejaVu Sans Mono',consolas,'Courier New',monospace\">=================================\n",
       "</pre>\n"
      ],
      "text/plain": [
       "=================================\n"
      ]
     },
     "metadata": {},
     "output_type": "display_data"
    },
    {
     "data": {
      "text/html": [
       "<pre style=\"white-space:pre;overflow-x:auto;line-height:normal;font-family:Menlo,'DejaVu Sans Mono',consolas,'Courier New',monospace\">-----------------------------------------\n",
       "| rollout/                |             |\n",
       "|    ep_len_mean          | 767         |\n",
       "|    ep_rew_mean          | -3.63       |\n",
       "| time/                   |             |\n",
       "|    fps                  | 139         |\n",
       "|    iterations           | 8           |\n",
       "|    time_elapsed         | 117         |\n",
       "|    total_timesteps      | 16384       |\n",
       "| train/                  |             |\n",
       "|    approx_kl            | 0.008872746 |\n",
       "|    clip_fraction        | 0.0988      |\n",
       "|    clip_range           | 0.2         |\n",
       "|    entropy_loss         | -7.05       |\n",
       "|    explained_variance   | -0.0216     |\n",
       "|    learning_rate        | 0.0003      |\n",
       "|    loss                 | -0.0365     |\n",
       "|    n_updates            | 70          |\n",
       "|    policy_gradient_loss | -0.00448    |\n",
       "|    std                  | 0.989       |\n",
       "|    value_loss           | 0.102       |\n",
       "-----------------------------------------\n",
       "</pre>\n"
      ],
      "text/plain": [
       "-----------------------------------------\n",
       "| rollout/                |             |\n",
       "|    ep_len_mean          | 767         |\n",
       "|    ep_rew_mean          | -3.63       |\n",
       "| time/                   |             |\n",
       "|    fps                  | 139         |\n",
       "|    iterations           | 8           |\n",
       "|    time_elapsed         | 117         |\n",
       "|    total_timesteps      | 16384       |\n",
       "| train/                  |             |\n",
       "|    approx_kl            | 0.008872746 |\n",
       "|    clip_fraction        | 0.0988      |\n",
       "|    clip_range           | 0.2         |\n",
       "|    entropy_loss         | -7.05       |\n",
       "|    explained_variance   | -0.0216     |\n",
       "|    learning_rate        | 0.0003      |\n",
       "|    loss                 | -0.0365     |\n",
       "|    n_updates            | 70          |\n",
       "|    policy_gradient_loss | -0.00448    |\n",
       "|    std                  | 0.989       |\n",
       "|    value_loss           | 0.102       |\n",
       "-----------------------------------------\n"
      ]
     },
     "metadata": {},
     "output_type": "display_data"
    },
    {
     "data": {
      "text/html": [
       "<pre style=\"white-space:pre;overflow-x:auto;line-height:normal;font-family:Menlo,'DejaVu Sans Mono',consolas,'Courier New',monospace\">day: 766, episode: 31\n",
       "</pre>\n"
      ],
      "text/plain": [
       "day: 766, episode: 31\n"
      ]
     },
     "metadata": {},
     "output_type": "display_data"
    },
    {
     "data": {
      "text/html": [
       "<pre style=\"white-space:pre;overflow-x:auto;line-height:normal;font-family:Menlo,'DejaVu Sans Mono',consolas,'Courier New',monospace\">begin_total_asset: 100000.00\n",
       "</pre>\n"
      ],
      "text/plain": [
       "begin_total_asset: 100000.00\n"
      ]
     },
     "metadata": {},
     "output_type": "display_data"
    },
    {
     "data": {
      "text/html": [
       "<pre style=\"white-space:pre;overflow-x:auto;line-height:normal;font-family:Menlo,'DejaVu Sans Mono',consolas,'Courier New',monospace\">end_total_asset: 86708.54\n",
       "</pre>\n"
      ],
      "text/plain": [
       "end_total_asset: 86708.54\n"
      ]
     },
     "metadata": {},
     "output_type": "display_data"
    },
    {
     "data": {
      "text/html": [
       "<pre style=\"white-space:pre;overflow-x:auto;line-height:normal;font-family:Menlo,'DejaVu Sans Mono',consolas,'Courier New',monospace\">total_reward: -13291.46\n",
       "</pre>\n"
      ],
      "text/plain": [
       "total_reward: -13291.46\n"
      ]
     },
     "metadata": {},
     "output_type": "display_data"
    },
    {
     "data": {
      "text/html": [
       "<pre style=\"white-space:pre;overflow-x:auto;line-height:normal;font-family:Menlo,'DejaVu Sans Mono',consolas,'Courier New',monospace\">total_cost: 28199.26\n",
       "</pre>\n"
      ],
      "text/plain": [
       "total_cost: 28199.26\n"
      ]
     },
     "metadata": {},
     "output_type": "display_data"
    },
    {
     "data": {
      "text/html": [
       "<pre style=\"white-space:pre;overflow-x:auto;line-height:normal;font-family:Menlo,'DejaVu Sans Mono',consolas,'Courier New',monospace\">total_trades: 2969\n",
       "</pre>\n"
      ],
      "text/plain": [
       "total_trades: 2969\n"
      ]
     },
     "metadata": {},
     "output_type": "display_data"
    },
    {
     "data": {
      "text/html": [
       "<pre style=\"white-space:pre;overflow-x:auto;line-height:normal;font-family:Menlo,'DejaVu Sans Mono',consolas,'Courier New',monospace\">Sharpe: -0.084\n",
       "</pre>\n"
      ],
      "text/plain": [
       "Sharpe: -0.084\n"
      ]
     },
     "metadata": {},
     "output_type": "display_data"
    },
    {
     "data": {
      "text/html": [
       "<pre style=\"white-space:pre;overflow-x:auto;line-height:normal;font-family:Menlo,'DejaVu Sans Mono',consolas,'Courier New',monospace\">=================================\n",
       "</pre>\n"
      ],
      "text/plain": [
       "=================================\n"
      ]
     },
     "metadata": {},
     "output_type": "display_data"
    },
    {
     "data": {
      "text/html": [
       "<pre style=\"white-space:pre;overflow-x:auto;line-height:normal;font-family:Menlo,'DejaVu Sans Mono',consolas,'Courier New',monospace\">day: 766, episode: 32\n",
       "</pre>\n"
      ],
      "text/plain": [
       "day: 766, episode: 32\n"
      ]
     },
     "metadata": {},
     "output_type": "display_data"
    },
    {
     "data": {
      "text/html": [
       "<pre style=\"white-space:pre;overflow-x:auto;line-height:normal;font-family:Menlo,'DejaVu Sans Mono',consolas,'Courier New',monospace\">begin_total_asset: 100000.00\n",
       "</pre>\n"
      ],
      "text/plain": [
       "begin_total_asset: 100000.00\n"
      ]
     },
     "metadata": {},
     "output_type": "display_data"
    },
    {
     "data": {
      "text/html": [
       "<pre style=\"white-space:pre;overflow-x:auto;line-height:normal;font-family:Menlo,'DejaVu Sans Mono',consolas,'Courier New',monospace\">end_total_asset: 39967.36\n",
       "</pre>\n"
      ],
      "text/plain": [
       "end_total_asset: 39967.36\n"
      ]
     },
     "metadata": {},
     "output_type": "display_data"
    },
    {
     "data": {
      "text/html": [
       "<pre style=\"white-space:pre;overflow-x:auto;line-height:normal;font-family:Menlo,'DejaVu Sans Mono',consolas,'Courier New',monospace\">total_reward: -60032.64\n",
       "</pre>\n"
      ],
      "text/plain": [
       "total_reward: -60032.64\n"
      ]
     },
     "metadata": {},
     "output_type": "display_data"
    },
    {
     "data": {
      "text/html": [
       "<pre style=\"white-space:pre;overflow-x:auto;line-height:normal;font-family:Menlo,'DejaVu Sans Mono',consolas,'Courier New',monospace\">total_cost: 20359.30\n",
       "</pre>\n"
      ],
      "text/plain": [
       "total_cost: 20359.30\n"
      ]
     },
     "metadata": {},
     "output_type": "display_data"
    },
    {
     "data": {
      "text/html": [
       "<pre style=\"white-space:pre;overflow-x:auto;line-height:normal;font-family:Menlo,'DejaVu Sans Mono',consolas,'Courier New',monospace\">total_trades: 2946\n",
       "</pre>\n"
      ],
      "text/plain": [
       "total_trades: 2946\n"
      ]
     },
     "metadata": {},
     "output_type": "display_data"
    },
    {
     "data": {
      "text/html": [
       "<pre style=\"white-space:pre;overflow-x:auto;line-height:normal;font-family:Menlo,'DejaVu Sans Mono',consolas,'Courier New',monospace\">Sharpe: -1.096\n",
       "</pre>\n"
      ],
      "text/plain": [
       "Sharpe: -1.096\n"
      ]
     },
     "metadata": {},
     "output_type": "display_data"
    },
    {
     "data": {
      "text/html": [
       "<pre style=\"white-space:pre;overflow-x:auto;line-height:normal;font-family:Menlo,'DejaVu Sans Mono',consolas,'Courier New',monospace\">=================================\n",
       "</pre>\n"
      ],
      "text/plain": [
       "=================================\n"
      ]
     },
     "metadata": {},
     "output_type": "display_data"
    },
    {
     "data": {
      "text/html": [
       "<pre style=\"white-space:pre;overflow-x:auto;line-height:normal;font-family:Menlo,'DejaVu Sans Mono',consolas,'Courier New',monospace\">day: 766, episode: 33\n",
       "</pre>\n"
      ],
      "text/plain": [
       "day: 766, episode: 33\n"
      ]
     },
     "metadata": {},
     "output_type": "display_data"
    },
    {
     "data": {
      "text/html": [
       "<pre style=\"white-space:pre;overflow-x:auto;line-height:normal;font-family:Menlo,'DejaVu Sans Mono',consolas,'Courier New',monospace\">begin_total_asset: 100000.00\n",
       "</pre>\n"
      ],
      "text/plain": [
       "begin_total_asset: 100000.00\n"
      ]
     },
     "metadata": {},
     "output_type": "display_data"
    },
    {
     "data": {
      "text/html": [
       "<pre style=\"white-space:pre;overflow-x:auto;line-height:normal;font-family:Menlo,'DejaVu Sans Mono',consolas,'Courier New',monospace\">end_total_asset: 47799.14\n",
       "</pre>\n"
      ],
      "text/plain": [
       "end_total_asset: 47799.14\n"
      ]
     },
     "metadata": {},
     "output_type": "display_data"
    },
    {
     "data": {
      "text/html": [
       "<pre style=\"white-space:pre;overflow-x:auto;line-height:normal;font-family:Menlo,'DejaVu Sans Mono',consolas,'Courier New',monospace\">total_reward: -52200.86\n",
       "</pre>\n"
      ],
      "text/plain": [
       "total_reward: -52200.86\n"
      ]
     },
     "metadata": {},
     "output_type": "display_data"
    },
    {
     "data": {
      "text/html": [
       "<pre style=\"white-space:pre;overflow-x:auto;line-height:normal;font-family:Menlo,'DejaVu Sans Mono',consolas,'Courier New',monospace\">total_cost: 19990.82\n",
       "</pre>\n"
      ],
      "text/plain": [
       "total_cost: 19990.82\n"
      ]
     },
     "metadata": {},
     "output_type": "display_data"
    },
    {
     "data": {
      "text/html": [
       "<pre style=\"white-space:pre;overflow-x:auto;line-height:normal;font-family:Menlo,'DejaVu Sans Mono',consolas,'Courier New',monospace\">total_trades: 2911\n",
       "</pre>\n"
      ],
      "text/plain": [
       "total_trades: 2911\n"
      ]
     },
     "metadata": {},
     "output_type": "display_data"
    },
    {
     "data": {
      "text/html": [
       "<pre style=\"white-space:pre;overflow-x:auto;line-height:normal;font-family:Menlo,'DejaVu Sans Mono',consolas,'Courier New',monospace\">Sharpe: -0.935\n",
       "</pre>\n"
      ],
      "text/plain": [
       "Sharpe: -0.935\n"
      ]
     },
     "metadata": {},
     "output_type": "display_data"
    },
    {
     "data": {
      "text/html": [
       "<pre style=\"white-space:pre;overflow-x:auto;line-height:normal;font-family:Menlo,'DejaVu Sans Mono',consolas,'Courier New',monospace\">=================================\n",
       "</pre>\n"
      ],
      "text/plain": [
       "=================================\n"
      ]
     },
     "metadata": {},
     "output_type": "display_data"
    },
    {
     "data": {
      "text/html": [
       "<pre style=\"white-space:pre;overflow-x:auto;line-height:normal;font-family:Menlo,'DejaVu Sans Mono',consolas,'Courier New',monospace\">-----------------------------------------\n",
       "| rollout/                |             |\n",
       "|    ep_len_mean          | 767         |\n",
       "|    ep_rew_mean          | -3.71       |\n",
       "| time/                   |             |\n",
       "|    fps                  | 136         |\n",
       "|    iterations           | 9           |\n",
       "|    time_elapsed         | 134         |\n",
       "|    total_timesteps      | 18432       |\n",
       "| train/                  |             |\n",
       "|    approx_kl            | 0.008028825 |\n",
       "|    clip_fraction        | 0.0896      |\n",
       "|    clip_range           | 0.2         |\n",
       "|    entropy_loss         | -7.02       |\n",
       "|    explained_variance   | 0.0034      |\n",
       "|    learning_rate        | 0.0003      |\n",
       "|    loss                 | 0.00247     |\n",
       "|    n_updates            | 80          |\n",
       "|    policy_gradient_loss | -0.00515    |\n",
       "|    std                  | 0.984       |\n",
       "|    value_loss           | 0.118       |\n",
       "-----------------------------------------\n",
       "</pre>\n"
      ],
      "text/plain": [
       "-----------------------------------------\n",
       "| rollout/                |             |\n",
       "|    ep_len_mean          | 767         |\n",
       "|    ep_rew_mean          | -3.71       |\n",
       "| time/                   |             |\n",
       "|    fps                  | 136         |\n",
       "|    iterations           | 9           |\n",
       "|    time_elapsed         | 134         |\n",
       "|    total_timesteps      | 18432       |\n",
       "| train/                  |             |\n",
       "|    approx_kl            | 0.008028825 |\n",
       "|    clip_fraction        | 0.0896      |\n",
       "|    clip_range           | 0.2         |\n",
       "|    entropy_loss         | -7.02       |\n",
       "|    explained_variance   | 0.0034      |\n",
       "|    learning_rate        | 0.0003      |\n",
       "|    loss                 | 0.00247     |\n",
       "|    n_updates            | 80          |\n",
       "|    policy_gradient_loss | -0.00515    |\n",
       "|    std                  | 0.984       |\n",
       "|    value_loss           | 0.118       |\n",
       "-----------------------------------------\n"
      ]
     },
     "metadata": {},
     "output_type": "display_data"
    },
    {
     "data": {
      "text/html": [
       "<pre style=\"white-space:pre;overflow-x:auto;line-height:normal;font-family:Menlo,'DejaVu Sans Mono',consolas,'Courier New',monospace\">day: 766, episode: 34\n",
       "</pre>\n"
      ],
      "text/plain": [
       "day: 766, episode: 34\n"
      ]
     },
     "metadata": {},
     "output_type": "display_data"
    },
    {
     "data": {
      "text/html": [
       "<pre style=\"white-space:pre;overflow-x:auto;line-height:normal;font-family:Menlo,'DejaVu Sans Mono',consolas,'Courier New',monospace\">begin_total_asset: 100000.00\n",
       "</pre>\n"
      ],
      "text/plain": [
       "begin_total_asset: 100000.00\n"
      ]
     },
     "metadata": {},
     "output_type": "display_data"
    },
    {
     "data": {
      "text/html": [
       "<pre style=\"white-space:pre;overflow-x:auto;line-height:normal;font-family:Menlo,'DejaVu Sans Mono',consolas,'Courier New',monospace\">end_total_asset: 35912.76\n",
       "</pre>\n"
      ],
      "text/plain": [
       "end_total_asset: 35912.76\n"
      ]
     },
     "metadata": {},
     "output_type": "display_data"
    },
    {
     "data": {
      "text/html": [
       "<pre style=\"white-space:pre;overflow-x:auto;line-height:normal;font-family:Menlo,'DejaVu Sans Mono',consolas,'Courier New',monospace\">total_reward: -64087.24\n",
       "</pre>\n"
      ],
      "text/plain": [
       "total_reward: -64087.24\n"
      ]
     },
     "metadata": {},
     "output_type": "display_data"
    },
    {
     "data": {
      "text/html": [
       "<pre style=\"white-space:pre;overflow-x:auto;line-height:normal;font-family:Menlo,'DejaVu Sans Mono',consolas,'Courier New',monospace\">total_cost: 19033.27\n",
       "</pre>\n"
      ],
      "text/plain": [
       "total_cost: 19033.27\n"
      ]
     },
     "metadata": {},
     "output_type": "display_data"
    },
    {
     "data": {
      "text/html": [
       "<pre style=\"white-space:pre;overflow-x:auto;line-height:normal;font-family:Menlo,'DejaVu Sans Mono',consolas,'Courier New',monospace\">total_trades: 2828\n",
       "</pre>\n"
      ],
      "text/plain": [
       "total_trades: 2828\n"
      ]
     },
     "metadata": {},
     "output_type": "display_data"
    },
    {
     "data": {
      "text/html": [
       "<pre style=\"white-space:pre;overflow-x:auto;line-height:normal;font-family:Menlo,'DejaVu Sans Mono',consolas,'Courier New',monospace\">Sharpe: -1.256\n",
       "</pre>\n"
      ],
      "text/plain": [
       "Sharpe: -1.256\n"
      ]
     },
     "metadata": {},
     "output_type": "display_data"
    },
    {
     "data": {
      "text/html": [
       "<pre style=\"white-space:pre;overflow-x:auto;line-height:normal;font-family:Menlo,'DejaVu Sans Mono',consolas,'Courier New',monospace\">=================================\n",
       "</pre>\n"
      ],
      "text/plain": [
       "=================================\n"
      ]
     },
     "metadata": {},
     "output_type": "display_data"
    },
    {
     "data": {
      "text/html": [
       "<pre style=\"white-space:pre;overflow-x:auto;line-height:normal;font-family:Menlo,'DejaVu Sans Mono',consolas,'Courier New',monospace\">day: 766, episode: 35\n",
       "</pre>\n"
      ],
      "text/plain": [
       "day: 766, episode: 35\n"
      ]
     },
     "metadata": {},
     "output_type": "display_data"
    },
    {
     "data": {
      "text/html": [
       "<pre style=\"white-space:pre;overflow-x:auto;line-height:normal;font-family:Menlo,'DejaVu Sans Mono',consolas,'Courier New',monospace\">begin_total_asset: 100000.00\n",
       "</pre>\n"
      ],
      "text/plain": [
       "begin_total_asset: 100000.00\n"
      ]
     },
     "metadata": {},
     "output_type": "display_data"
    },
    {
     "data": {
      "text/html": [
       "<pre style=\"white-space:pre;overflow-x:auto;line-height:normal;font-family:Menlo,'DejaVu Sans Mono',consolas,'Courier New',monospace\">end_total_asset: 77257.59\n",
       "</pre>\n"
      ],
      "text/plain": [
       "end_total_asset: 77257.59\n"
      ]
     },
     "metadata": {},
     "output_type": "display_data"
    },
    {
     "data": {
      "text/html": [
       "<pre style=\"white-space:pre;overflow-x:auto;line-height:normal;font-family:Menlo,'DejaVu Sans Mono',consolas,'Courier New',monospace\">total_reward: -22742.41\n",
       "</pre>\n"
      ],
      "text/plain": [
       "total_reward: -22742.41\n"
      ]
     },
     "metadata": {},
     "output_type": "display_data"
    },
    {
     "data": {
      "text/html": [
       "<pre style=\"white-space:pre;overflow-x:auto;line-height:normal;font-family:Menlo,'DejaVu Sans Mono',consolas,'Courier New',monospace\">total_cost: 23100.70\n",
       "</pre>\n"
      ],
      "text/plain": [
       "total_cost: 23100.70\n"
      ]
     },
     "metadata": {},
     "output_type": "display_data"
    },
    {
     "data": {
      "text/html": [
       "<pre style=\"white-space:pre;overflow-x:auto;line-height:normal;font-family:Menlo,'DejaVu Sans Mono',consolas,'Courier New',monospace\">total_trades: 2939\n",
       "</pre>\n"
      ],
      "text/plain": [
       "total_trades: 2939\n"
      ]
     },
     "metadata": {},
     "output_type": "display_data"
    },
    {
     "data": {
      "text/html": [
       "<pre style=\"white-space:pre;overflow-x:auto;line-height:normal;font-family:Menlo,'DejaVu Sans Mono',consolas,'Courier New',monospace\">Sharpe: -0.261\n",
       "</pre>\n"
      ],
      "text/plain": [
       "Sharpe: -0.261\n"
      ]
     },
     "metadata": {},
     "output_type": "display_data"
    },
    {
     "data": {
      "text/html": [
       "<pre style=\"white-space:pre;overflow-x:auto;line-height:normal;font-family:Menlo,'DejaVu Sans Mono',consolas,'Courier New',monospace\">=================================\n",
       "</pre>\n"
      ],
      "text/plain": [
       "=================================\n"
      ]
     },
     "metadata": {},
     "output_type": "display_data"
    },
    {
     "data": {
      "text/html": [
       "<pre style=\"white-space:pre;overflow-x:auto;line-height:normal;font-family:Menlo,'DejaVu Sans Mono',consolas,'Courier New',monospace\">day: 766, episode: 36\n",
       "</pre>\n"
      ],
      "text/plain": [
       "day: 766, episode: 36\n"
      ]
     },
     "metadata": {},
     "output_type": "display_data"
    },
    {
     "data": {
      "text/html": [
       "<pre style=\"white-space:pre;overflow-x:auto;line-height:normal;font-family:Menlo,'DejaVu Sans Mono',consolas,'Courier New',monospace\">begin_total_asset: 100000.00\n",
       "</pre>\n"
      ],
      "text/plain": [
       "begin_total_asset: 100000.00\n"
      ]
     },
     "metadata": {},
     "output_type": "display_data"
    },
    {
     "data": {
      "text/html": [
       "<pre style=\"white-space:pre;overflow-x:auto;line-height:normal;font-family:Menlo,'DejaVu Sans Mono',consolas,'Courier New',monospace\">end_total_asset: 67293.77\n",
       "</pre>\n"
      ],
      "text/plain": [
       "end_total_asset: 67293.77\n"
      ]
     },
     "metadata": {},
     "output_type": "display_data"
    },
    {
     "data": {
      "text/html": [
       "<pre style=\"white-space:pre;overflow-x:auto;line-height:normal;font-family:Menlo,'DejaVu Sans Mono',consolas,'Courier New',monospace\">total_reward: -32706.23\n",
       "</pre>\n"
      ],
      "text/plain": [
       "total_reward: -32706.23\n"
      ]
     },
     "metadata": {},
     "output_type": "display_data"
    },
    {
     "data": {
      "text/html": [
       "<pre style=\"white-space:pre;overflow-x:auto;line-height:normal;font-family:Menlo,'DejaVu Sans Mono',consolas,'Courier New',monospace\">total_cost: 26391.69\n",
       "</pre>\n"
      ],
      "text/plain": [
       "total_cost: 26391.69\n"
      ]
     },
     "metadata": {},
     "output_type": "display_data"
    },
    {
     "data": {
      "text/html": [
       "<pre style=\"white-space:pre;overflow-x:auto;line-height:normal;font-family:Menlo,'DejaVu Sans Mono',consolas,'Courier New',monospace\">total_trades: 3003\n",
       "</pre>\n"
      ],
      "text/plain": [
       "total_trades: 3003\n"
      ]
     },
     "metadata": {},
     "output_type": "display_data"
    },
    {
     "data": {
      "text/html": [
       "<pre style=\"white-space:pre;overflow-x:auto;line-height:normal;font-family:Menlo,'DejaVu Sans Mono',consolas,'Courier New',monospace\">Sharpe: -0.497\n",
       "</pre>\n"
      ],
      "text/plain": [
       "Sharpe: -0.497\n"
      ]
     },
     "metadata": {},
     "output_type": "display_data"
    },
    {
     "data": {
      "text/html": [
       "<pre style=\"white-space:pre;overflow-x:auto;line-height:normal;font-family:Menlo,'DejaVu Sans Mono',consolas,'Courier New',monospace\">=================================\n",
       "</pre>\n"
      ],
      "text/plain": [
       "=================================\n"
      ]
     },
     "metadata": {},
     "output_type": "display_data"
    },
    {
     "data": {
      "text/html": [
       "<pre style=\"white-space:pre;overflow-x:auto;line-height:normal;font-family:Menlo,'DejaVu Sans Mono',consolas,'Courier New',monospace\">day: 766, episode: 37\n",
       "</pre>\n"
      ],
      "text/plain": [
       "day: 766, episode: 37\n"
      ]
     },
     "metadata": {},
     "output_type": "display_data"
    },
    {
     "data": {
      "text/html": [
       "<pre style=\"white-space:pre;overflow-x:auto;line-height:normal;font-family:Menlo,'DejaVu Sans Mono',consolas,'Courier New',monospace\">begin_total_asset: 100000.00\n",
       "</pre>\n"
      ],
      "text/plain": [
       "begin_total_asset: 100000.00\n"
      ]
     },
     "metadata": {},
     "output_type": "display_data"
    },
    {
     "data": {
      "text/html": [
       "<pre style=\"white-space:pre;overflow-x:auto;line-height:normal;font-family:Menlo,'DejaVu Sans Mono',consolas,'Courier New',monospace\">end_total_asset: 46730.76\n",
       "</pre>\n"
      ],
      "text/plain": [
       "end_total_asset: 46730.76\n"
      ]
     },
     "metadata": {},
     "output_type": "display_data"
    },
    {
     "data": {
      "text/html": [
       "<pre style=\"white-space:pre;overflow-x:auto;line-height:normal;font-family:Menlo,'DejaVu Sans Mono',consolas,'Courier New',monospace\">total_reward: -53269.24\n",
       "</pre>\n"
      ],
      "text/plain": [
       "total_reward: -53269.24\n"
      ]
     },
     "metadata": {},
     "output_type": "display_data"
    },
    {
     "data": {
      "text/html": [
       "<pre style=\"white-space:pre;overflow-x:auto;line-height:normal;font-family:Menlo,'DejaVu Sans Mono',consolas,'Courier New',monospace\">total_cost: 25443.20\n",
       "</pre>\n"
      ],
      "text/plain": [
       "total_cost: 25443.20\n"
      ]
     },
     "metadata": {},
     "output_type": "display_data"
    },
    {
     "data": {
      "text/html": [
       "<pre style=\"white-space:pre;overflow-x:auto;line-height:normal;font-family:Menlo,'DejaVu Sans Mono',consolas,'Courier New',monospace\">total_trades: 2950\n",
       "</pre>\n"
      ],
      "text/plain": [
       "total_trades: 2950\n"
      ]
     },
     "metadata": {},
     "output_type": "display_data"
    },
    {
     "data": {
      "text/html": [
       "<pre style=\"white-space:pre;overflow-x:auto;line-height:normal;font-family:Menlo,'DejaVu Sans Mono',consolas,'Courier New',monospace\">Sharpe: -1.002\n",
       "</pre>\n"
      ],
      "text/plain": [
       "Sharpe: -1.002\n"
      ]
     },
     "metadata": {},
     "output_type": "display_data"
    },
    {
     "data": {
      "text/html": [
       "<pre style=\"white-space:pre;overflow-x:auto;line-height:normal;font-family:Menlo,'DejaVu Sans Mono',consolas,'Courier New',monospace\">=================================\n",
       "</pre>\n"
      ],
      "text/plain": [
       "=================================\n"
      ]
     },
     "metadata": {},
     "output_type": "display_data"
    },
    {
     "data": {
      "text/html": [
       "<pre style=\"white-space:pre;overflow-x:auto;line-height:normal;font-family:Menlo,'DejaVu Sans Mono',consolas,'Courier New',monospace\">day: 766, episode: 38\n",
       "</pre>\n"
      ],
      "text/plain": [
       "day: 766, episode: 38\n"
      ]
     },
     "metadata": {},
     "output_type": "display_data"
    },
    {
     "data": {
      "text/html": [
       "<pre style=\"white-space:pre;overflow-x:auto;line-height:normal;font-family:Menlo,'DejaVu Sans Mono',consolas,'Courier New',monospace\">begin_total_asset: 100000.00\n",
       "</pre>\n"
      ],
      "text/plain": [
       "begin_total_asset: 100000.00\n"
      ]
     },
     "metadata": {},
     "output_type": "display_data"
    },
    {
     "data": {
      "text/html": [
       "<pre style=\"white-space:pre;overflow-x:auto;line-height:normal;font-family:Menlo,'DejaVu Sans Mono',consolas,'Courier New',monospace\">end_total_asset: 63644.21\n",
       "</pre>\n"
      ],
      "text/plain": [
       "end_total_asset: 63644.21\n"
      ]
     },
     "metadata": {},
     "output_type": "display_data"
    },
    {
     "data": {
      "text/html": [
       "<pre style=\"white-space:pre;overflow-x:auto;line-height:normal;font-family:Menlo,'DejaVu Sans Mono',consolas,'Courier New',monospace\">total_reward: -36355.79\n",
       "</pre>\n"
      ],
      "text/plain": [
       "total_reward: -36355.79\n"
      ]
     },
     "metadata": {},
     "output_type": "display_data"
    },
    {
     "data": {
      "text/html": [
       "<pre style=\"white-space:pre;overflow-x:auto;line-height:normal;font-family:Menlo,'DejaVu Sans Mono',consolas,'Courier New',monospace\">total_cost: 24041.36\n",
       "</pre>\n"
      ],
      "text/plain": [
       "total_cost: 24041.36\n"
      ]
     },
     "metadata": {},
     "output_type": "display_data"
    },
    {
     "data": {
      "text/html": [
       "<pre style=\"white-space:pre;overflow-x:auto;line-height:normal;font-family:Menlo,'DejaVu Sans Mono',consolas,'Courier New',monospace\">total_trades: 2972\n",
       "</pre>\n"
      ],
      "text/plain": [
       "total_trades: 2972\n"
      ]
     },
     "metadata": {},
     "output_type": "display_data"
    },
    {
     "data": {
      "text/html": [
       "<pre style=\"white-space:pre;overflow-x:auto;line-height:normal;font-family:Menlo,'DejaVu Sans Mono',consolas,'Courier New',monospace\">Sharpe: -0.567\n",
       "</pre>\n"
      ],
      "text/plain": [
       "Sharpe: -0.567\n"
      ]
     },
     "metadata": {},
     "output_type": "display_data"
    },
    {
     "data": {
      "text/html": [
       "<pre style=\"white-space:pre;overflow-x:auto;line-height:normal;font-family:Menlo,'DejaVu Sans Mono',consolas,'Courier New',monospace\">=================================\n",
       "</pre>\n"
      ],
      "text/plain": [
       "=================================\n"
      ]
     },
     "metadata": {},
     "output_type": "display_data"
    },
    {
     "data": {
      "text/html": [
       "<pre style=\"white-space:pre;overflow-x:auto;line-height:normal;font-family:Menlo,'DejaVu Sans Mono',consolas,'Courier New',monospace\">-----------------------------------------\n",
       "| rollout/                |             |\n",
       "|    ep_len_mean          | 767         |\n",
       "|    ep_rew_mean          | -3.8        |\n",
       "| time/                   |             |\n",
       "|    fps                  | 132         |\n",
       "|    iterations           | 11          |\n",
       "|    time_elapsed         | 170         |\n",
       "|    total_timesteps      | 22528       |\n",
       "| train/                  |             |\n",
       "|    approx_kl            | 0.008001977 |\n",
       "|    clip_fraction        | 0.103       |\n",
       "|    clip_range           | 0.2         |\n",
       "|    entropy_loss         | -7.03       |\n",
       "|    explained_variance   | 0.0116      |\n",
       "|    learning_rate        | 0.0003      |\n",
       "|    loss                 | -0.052      |\n",
       "|    n_updates            | 100         |\n",
       "|    policy_gradient_loss | -0.00609    |\n",
       "|    std                  | 0.989       |\n",
       "|    value_loss           | 0.071       |\n",
       "-----------------------------------------\n",
       "</pre>\n"
      ],
      "text/plain": [
       "-----------------------------------------\n",
       "| rollout/                |             |\n",
       "|    ep_len_mean          | 767         |\n",
       "|    ep_rew_mean          | -3.8        |\n",
       "| time/                   |             |\n",
       "|    fps                  | 132         |\n",
       "|    iterations           | 11          |\n",
       "|    time_elapsed         | 170         |\n",
       "|    total_timesteps      | 22528       |\n",
       "| train/                  |             |\n",
       "|    approx_kl            | 0.008001977 |\n",
       "|    clip_fraction        | 0.103       |\n",
       "|    clip_range           | 0.2         |\n",
       "|    entropy_loss         | -7.03       |\n",
       "|    explained_variance   | 0.0116      |\n",
       "|    learning_rate        | 0.0003      |\n",
       "|    loss                 | -0.052      |\n",
       "|    n_updates            | 100         |\n",
       "|    policy_gradient_loss | -0.00609    |\n",
       "|    std                  | 0.989       |\n",
       "|    value_loss           | 0.071       |\n",
       "-----------------------------------------\n"
      ]
     },
     "metadata": {},
     "output_type": "display_data"
    },
    {
     "name": "stdout",
     "output_type": "stream",
     "text": [
      "day: 766, episode: 39\n",
      "begin_total_asset: 100000.00\n",
      "end_total_asset: 56749.94\n",
      "total_reward: -43250.06\n",
      "total_cost: 23172.92\n",
      "total_trades: 2961\n",
      "Sharpe: -0.720\n",
      "=================================\n",
      "day: 766, episode: 40\n",
      "begin_total_asset: 100000.00\n",
      "end_total_asset: 79565.55\n",
      "total_reward: -20434.45\n",
      "total_cost: 26614.76\n",
      "total_trades: 2984\n",
      "Sharpe: -0.233\n",
      "=================================\n",
      "day: 766, episode: 41\n",
      "begin_total_asset: 100000.00\n",
      "end_total_asset: 113954.87\n",
      "total_reward: 13954.87\n",
      "total_cost: 31963.00\n",
      "total_trades: 3053\n",
      "Sharpe: 0.315\n",
      "=================================\n"
     ]
    },
    {
     "data": {
      "text/html": [
       "<pre style=\"white-space:pre;overflow-x:auto;line-height:normal;font-family:Menlo,'DejaVu Sans Mono',consolas,'Courier New',monospace\">-----------------------------------------\n",
       "| rollout/                |             |\n",
       "|    ep_len_mean          | 767         |\n",
       "|    ep_rew_mean          | -3.6        |\n",
       "| time/                   |             |\n",
       "|    fps                  | 130         |\n",
       "|    iterations           | 12          |\n",
       "|    time_elapsed         | 187         |\n",
       "|    total_timesteps      | 24576       |\n",
       "| train/                  |             |\n",
       "|    approx_kl            | 0.010107165 |\n",
       "|    clip_fraction        | 0.0818      |\n",
       "|    clip_range           | 0.2         |\n",
       "|    entropy_loss         | -7.05       |\n",
       "|    explained_variance   | 0.00637     |\n",
       "|    learning_rate        | 0.0003      |\n",
       "|    loss                 | -0.0305     |\n",
       "|    n_updates            | 110         |\n",
       "|    policy_gradient_loss | -0.00284    |\n",
       "|    std                  | 0.993       |\n",
       "|    value_loss           | 0.0761      |\n",
       "-----------------------------------------\n",
       "</pre>\n"
      ],
      "text/plain": [
       "-----------------------------------------\n",
       "| rollout/                |             |\n",
       "|    ep_len_mean          | 767         |\n",
       "|    ep_rew_mean          | -3.6        |\n",
       "| time/                   |             |\n",
       "|    fps                  | 130         |\n",
       "|    iterations           | 12          |\n",
       "|    time_elapsed         | 187         |\n",
       "|    total_timesteps      | 24576       |\n",
       "| train/                  |             |\n",
       "|    approx_kl            | 0.010107165 |\n",
       "|    clip_fraction        | 0.0818      |\n",
       "|    clip_range           | 0.2         |\n",
       "|    entropy_loss         | -7.05       |\n",
       "|    explained_variance   | 0.00637     |\n",
       "|    learning_rate        | 0.0003      |\n",
       "|    loss                 | -0.0305     |\n",
       "|    n_updates            | 110         |\n",
       "|    policy_gradient_loss | -0.00284    |\n",
       "|    std                  | 0.993       |\n",
       "|    value_loss           | 0.0761      |\n",
       "-----------------------------------------\n"
      ]
     },
     "metadata": {},
     "output_type": "display_data"
    },
    {
     "name": "stdout",
     "output_type": "stream",
     "text": [
      "day: 766, episode: 42\n",
      "begin_total_asset: 100000.00\n",
      "end_total_asset: 70753.19\n",
      "total_reward: -29246.81\n",
      "total_cost: 21393.86\n",
      "total_trades: 2981\n",
      "Sharpe: -0.359\n",
      "=================================\n",
      "day: 766, episode: 43\n",
      "begin_total_asset: 100000.00\n",
      "end_total_asset: 69611.15\n",
      "total_reward: -30388.85\n",
      "total_cost: 27209.42\n",
      "total_trades: 3022\n",
      "Sharpe: -0.418\n",
      "=================================\n"
     ]
    },
    {
     "data": {
      "text/html": [
       "<pre style=\"white-space:pre;overflow-x:auto;line-height:normal;font-family:Menlo,'DejaVu Sans Mono',consolas,'Courier New',monospace\">----------------------------------------\n",
       "| rollout/                |            |\n",
       "|    ep_len_mean          | 767        |\n",
       "|    ep_rew_mean          | -3.57      |\n",
       "| time/                   |            |\n",
       "|    fps                  | 130        |\n",
       "|    iterations           | 13         |\n",
       "|    time_elapsed         | 203        |\n",
       "|    total_timesteps      | 26624      |\n",
       "| train/                  |            |\n",
       "|    approx_kl            | 0.00735148 |\n",
       "|    clip_fraction        | 0.0817     |\n",
       "|    clip_range           | 0.2        |\n",
       "|    entropy_loss         | -7.04      |\n",
       "|    explained_variance   | 0.0156     |\n",
       "|    learning_rate        | 0.0003     |\n",
       "|    loss                 | -0.0145    |\n",
       "|    n_updates            | 120        |\n",
       "|    policy_gradient_loss | -0.00376   |\n",
       "|    std                  | 0.986      |\n",
       "|    value_loss           | 0.0897     |\n",
       "----------------------------------------\n",
       "</pre>\n"
      ],
      "text/plain": [
       "----------------------------------------\n",
       "| rollout/                |            |\n",
       "|    ep_len_mean          | 767        |\n",
       "|    ep_rew_mean          | -3.57      |\n",
       "| time/                   |            |\n",
       "|    fps                  | 130        |\n",
       "|    iterations           | 13         |\n",
       "|    time_elapsed         | 203        |\n",
       "|    total_timesteps      | 26624      |\n",
       "| train/                  |            |\n",
       "|    approx_kl            | 0.00735148 |\n",
       "|    clip_fraction        | 0.0817     |\n",
       "|    clip_range           | 0.2        |\n",
       "|    entropy_loss         | -7.04      |\n",
       "|    explained_variance   | 0.0156     |\n",
       "|    learning_rate        | 0.0003     |\n",
       "|    loss                 | -0.0145    |\n",
       "|    n_updates            | 120        |\n",
       "|    policy_gradient_loss | -0.00376   |\n",
       "|    std                  | 0.986      |\n",
       "|    value_loss           | 0.0897     |\n",
       "----------------------------------------\n"
      ]
     },
     "metadata": {},
     "output_type": "display_data"
    },
    {
     "name": "stdout",
     "output_type": "stream",
     "text": [
      "day: 766, episode: 44\n",
      "begin_total_asset: 100000.00\n",
      "end_total_asset: 52236.18\n",
      "total_reward: -47763.82\n",
      "total_cost: 23937.42\n",
      "total_trades: 3030\n",
      "Sharpe: -0.860\n",
      "=================================\n",
      "day: 766, episode: 45\n",
      "begin_total_asset: 100000.00\n",
      "end_total_asset: 66193.42\n",
      "total_reward: -33806.58\n",
      "total_cost: 23710.78\n",
      "total_trades: 3052\n",
      "Sharpe: -0.496\n",
      "=================================\n",
      "day: 766, episode: 46\n",
      "begin_total_asset: 100000.00\n",
      "end_total_asset: 41284.11\n",
      "total_reward: -58715.89\n",
      "total_cost: 22054.95\n",
      "total_trades: 3043\n",
      "Sharpe: -1.036\n",
      "=================================\n"
     ]
    },
    {
     "data": {
      "text/html": [
       "<pre style=\"white-space:pre;overflow-x:auto;line-height:normal;font-family:Menlo,'DejaVu Sans Mono',consolas,'Courier New',monospace\">-----------------------------------------\n",
       "| rollout/                |             |\n",
       "|    ep_len_mean          | 767         |\n",
       "|    ep_rew_mean          | -3.66       |\n",
       "| time/                   |             |\n",
       "|    fps                  | 132         |\n",
       "|    iterations           | 14          |\n",
       "|    time_elapsed         | 216         |\n",
       "|    total_timesteps      | 28672       |\n",
       "| train/                  |             |\n",
       "|    approx_kl            | 0.007539118 |\n",
       "|    clip_fraction        | 0.0741      |\n",
       "|    clip_range           | 0.2         |\n",
       "|    entropy_loss         | -7.03       |\n",
       "|    explained_variance   | -0.0232     |\n",
       "|    learning_rate        | 0.0003      |\n",
       "|    loss                 | -0.0347     |\n",
       "|    n_updates            | 130         |\n",
       "|    policy_gradient_loss | -0.0034     |\n",
       "|    std                  | 0.988       |\n",
       "|    value_loss           | 0.0947      |\n",
       "-----------------------------------------\n",
       "</pre>\n"
      ],
      "text/plain": [
       "-----------------------------------------\n",
       "| rollout/                |             |\n",
       "|    ep_len_mean          | 767         |\n",
       "|    ep_rew_mean          | -3.66       |\n",
       "| time/                   |             |\n",
       "|    fps                  | 132         |\n",
       "|    iterations           | 14          |\n",
       "|    time_elapsed         | 216         |\n",
       "|    total_timesteps      | 28672       |\n",
       "| train/                  |             |\n",
       "|    approx_kl            | 0.007539118 |\n",
       "|    clip_fraction        | 0.0741      |\n",
       "|    clip_range           | 0.2         |\n",
       "|    entropy_loss         | -7.03       |\n",
       "|    explained_variance   | -0.0232     |\n",
       "|    learning_rate        | 0.0003      |\n",
       "|    loss                 | -0.0347     |\n",
       "|    n_updates            | 130         |\n",
       "|    policy_gradient_loss | -0.0034     |\n",
       "|    std                  | 0.988       |\n",
       "|    value_loss           | 0.0947      |\n",
       "-----------------------------------------\n"
      ]
     },
     "metadata": {},
     "output_type": "display_data"
    },
    {
     "name": "stdout",
     "output_type": "stream",
     "text": [
      "day: 766, episode: 47\n",
      "begin_total_asset: 100000.00\n",
      "end_total_asset: 69432.98\n",
      "total_reward: -30567.02\n",
      "total_cost: 21477.53\n",
      "total_trades: 3017\n",
      "Sharpe: -0.390\n",
      "=================================\n",
      "day: 766, episode: 48\n",
      "begin_total_asset: 100000.00\n",
      "end_total_asset: 80055.21\n",
      "total_reward: -19944.79\n",
      "total_cost: 20782.58\n",
      "total_trades: 3017\n",
      "Sharpe: -0.199\n",
      "=================================\n",
      "day: 766, episode: 49\n",
      "begin_total_asset: 100000.00\n",
      "end_total_asset: 154500.69\n",
      "total_reward: 54500.69\n",
      "total_cost: 26786.26\n",
      "total_trades: 3073\n",
      "Sharpe: 0.742\n",
      "=================================\n"
     ]
    },
    {
     "data": {
      "text/html": [
       "<pre style=\"white-space:pre;overflow-x:auto;line-height:normal;font-family:Menlo,'DejaVu Sans Mono',consolas,'Courier New',monospace\">------------------------------------------\n",
       "| rollout/                |              |\n",
       "|    ep_len_mean          | 767          |\n",
       "|    ep_rew_mean          | -3.4         |\n",
       "| time/                   |              |\n",
       "|    fps                  | 129          |\n",
       "|    iterations           | 15           |\n",
       "|    time_elapsed         | 237          |\n",
       "|    total_timesteps      | 30720        |\n",
       "| train/                  |              |\n",
       "|    approx_kl            | 0.0068702735 |\n",
       "|    clip_fraction        | 0.0855       |\n",
       "|    clip_range           | 0.2          |\n",
       "|    entropy_loss         | -7.04        |\n",
       "|    explained_variance   | -0.00154     |\n",
       "|    learning_rate        | 0.0003       |\n",
       "|    loss                 | -0.0467      |\n",
       "|    n_updates            | 140          |\n",
       "|    policy_gradient_loss | -0.0023      |\n",
       "|    std                  | 0.992        |\n",
       "|    value_loss           | 0.0819       |\n",
       "------------------------------------------\n",
       "</pre>\n"
      ],
      "text/plain": [
       "------------------------------------------\n",
       "| rollout/                |              |\n",
       "|    ep_len_mean          | 767          |\n",
       "|    ep_rew_mean          | -3.4         |\n",
       "| time/                   |              |\n",
       "|    fps                  | 129          |\n",
       "|    iterations           | 15           |\n",
       "|    time_elapsed         | 237          |\n",
       "|    total_timesteps      | 30720        |\n",
       "| train/                  |              |\n",
       "|    approx_kl            | 0.0068702735 |\n",
       "|    clip_fraction        | 0.0855       |\n",
       "|    clip_range           | 0.2          |\n",
       "|    entropy_loss         | -7.04        |\n",
       "|    explained_variance   | -0.00154     |\n",
       "|    learning_rate        | 0.0003       |\n",
       "|    loss                 | -0.0467      |\n",
       "|    n_updates            | 140          |\n",
       "|    policy_gradient_loss | -0.0023      |\n",
       "|    std                  | 0.992        |\n",
       "|    value_loss           | 0.0819       |\n",
       "------------------------------------------\n"
      ]
     },
     "metadata": {},
     "output_type": "display_data"
    },
    {
     "name": "stdout",
     "output_type": "stream",
     "text": [
      "day: 766, episode: 50\n",
      "begin_total_asset: 100000.00\n",
      "end_total_asset: 118563.81\n",
      "total_reward: 18563.81\n",
      "total_cost: 22030.58\n",
      "total_trades: 3050\n",
      "Sharpe: 0.361\n",
      "=================================\n",
      "day: 766, episode: 51\n",
      "begin_total_asset: 100000.00\n",
      "end_total_asset: 94235.86\n",
      "total_reward: -5764.14\n",
      "total_cost: 24265.25\n",
      "total_trades: 3071\n",
      "Sharpe: 0.013\n",
      "=================================\n"
     ]
    },
    {
     "data": {
      "text/html": [
       "<pre style=\"white-space:pre;overflow-x:auto;line-height:normal;font-family:Menlo,'DejaVu Sans Mono',consolas,'Courier New',monospace\">----------------------------------------\n",
       "| rollout/                |            |\n",
       "|    ep_len_mean          | 767        |\n",
       "|    ep_rew_mean          | -3.22      |\n",
       "| time/                   |            |\n",
       "|    fps                  | 130        |\n",
       "|    iterations           | 16         |\n",
       "|    time_elapsed         | 251        |\n",
       "|    total_timesteps      | 32768      |\n",
       "| train/                  |            |\n",
       "|    approx_kl            | 0.00732042 |\n",
       "|    clip_fraction        | 0.0782     |\n",
       "|    clip_range           | 0.2        |\n",
       "|    entropy_loss         | -7.07      |\n",
       "|    explained_variance   | 0.0011     |\n",
       "|    learning_rate        | 0.0003     |\n",
       "|    loss                 | 0.00107    |\n",
       "|    n_updates            | 150        |\n",
       "|    policy_gradient_loss | -0.00275   |\n",
       "|    std                  | 0.996      |\n",
       "|    value_loss           | 0.169      |\n",
       "----------------------------------------\n",
       "</pre>\n"
      ],
      "text/plain": [
       "----------------------------------------\n",
       "| rollout/                |            |\n",
       "|    ep_len_mean          | 767        |\n",
       "|    ep_rew_mean          | -3.22      |\n",
       "| time/                   |            |\n",
       "|    fps                  | 130        |\n",
       "|    iterations           | 16         |\n",
       "|    time_elapsed         | 251        |\n",
       "|    total_timesteps      | 32768      |\n",
       "| train/                  |            |\n",
       "|    approx_kl            | 0.00732042 |\n",
       "|    clip_fraction        | 0.0782     |\n",
       "|    clip_range           | 0.2        |\n",
       "|    entropy_loss         | -7.07      |\n",
       "|    explained_variance   | 0.0011     |\n",
       "|    learning_rate        | 0.0003     |\n",
       "|    loss                 | 0.00107    |\n",
       "|    n_updates            | 150        |\n",
       "|    policy_gradient_loss | -0.00275   |\n",
       "|    std                  | 0.996      |\n",
       "|    value_loss           | 0.169      |\n",
       "----------------------------------------\n"
      ]
     },
     "metadata": {},
     "output_type": "display_data"
    },
    {
     "name": "stdout",
     "output_type": "stream",
     "text": [
      "day: 766, episode: 52\n",
      "begin_total_asset: 100000.00\n",
      "end_total_asset: 69381.38\n",
      "total_reward: -30618.62\n",
      "total_cost: 18663.85\n",
      "total_trades: 2995\n",
      "Sharpe: -0.412\n",
      "=================================\n",
      "day: 766, episode: 53\n",
      "begin_total_asset: 100000.00\n",
      "end_total_asset: 96543.62\n",
      "total_reward: -3456.38\n",
      "total_cost: 22167.01\n",
      "total_trades: 3057\n",
      "Sharpe: 0.070\n",
      "=================================\n",
      "day: 766, episode: 54\n",
      "begin_total_asset: 100000.00\n",
      "end_total_asset: 100428.92\n",
      "total_reward: 428.92\n",
      "total_cost: 23943.84\n",
      "total_trades: 3109\n",
      "Sharpe: 0.118\n",
      "=================================\n"
     ]
    },
    {
     "data": {
      "text/html": [
       "<pre style=\"white-space:pre;overflow-x:auto;line-height:normal;font-family:Menlo,'DejaVu Sans Mono',consolas,'Courier New',monospace\">----------------------------------------\n",
       "| rollout/                |            |\n",
       "|    ep_len_mean          | 767        |\n",
       "|    ep_rew_mean          | -3.09      |\n",
       "| time/                   |            |\n",
       "|    fps                  | 131        |\n",
       "|    iterations           | 17         |\n",
       "|    time_elapsed         | 264        |\n",
       "|    total_timesteps      | 34816      |\n",
       "| train/                  |            |\n",
       "|    approx_kl            | 0.00579442 |\n",
       "|    clip_fraction        | 0.0678     |\n",
       "|    clip_range           | 0.2        |\n",
       "|    entropy_loss         | -7.07      |\n",
       "|    explained_variance   | 0.00968    |\n",
       "|    learning_rate        | 0.0003     |\n",
       "|    loss                 | -0.0103    |\n",
       "|    n_updates            | 160        |\n",
       "|    policy_gradient_loss | -0.000732  |\n",
       "|    std                  | 0.996      |\n",
       "|    value_loss           | 0.12       |\n",
       "----------------------------------------\n",
       "</pre>\n"
      ],
      "text/plain": [
       "----------------------------------------\n",
       "| rollout/                |            |\n",
       "|    ep_len_mean          | 767        |\n",
       "|    ep_rew_mean          | -3.09      |\n",
       "| time/                   |            |\n",
       "|    fps                  | 131        |\n",
       "|    iterations           | 17         |\n",
       "|    time_elapsed         | 264        |\n",
       "|    total_timesteps      | 34816      |\n",
       "| train/                  |            |\n",
       "|    approx_kl            | 0.00579442 |\n",
       "|    clip_fraction        | 0.0678     |\n",
       "|    clip_range           | 0.2        |\n",
       "|    entropy_loss         | -7.07      |\n",
       "|    explained_variance   | 0.00968    |\n",
       "|    learning_rate        | 0.0003     |\n",
       "|    loss                 | -0.0103    |\n",
       "|    n_updates            | 160        |\n",
       "|    policy_gradient_loss | -0.000732  |\n",
       "|    std                  | 0.996      |\n",
       "|    value_loss           | 0.12       |\n",
       "----------------------------------------\n"
      ]
     },
     "metadata": {},
     "output_type": "display_data"
    },
    {
     "name": "stdout",
     "output_type": "stream",
     "text": [
      "day: 766, episode: 55\n",
      "begin_total_asset: 100000.00\n",
      "end_total_asset: 88204.99\n",
      "total_reward: -11795.01\n",
      "total_cost: 20314.95\n",
      "total_trades: 3030\n",
      "Sharpe: -0.055\n",
      "=================================\n",
      "day: 766, episode: 56\n",
      "begin_total_asset: 100000.00\n",
      "end_total_asset: 158940.88\n",
      "total_reward: 58940.88\n",
      "total_cost: 17851.62\n",
      "total_trades: 3008\n",
      "Sharpe: 0.710\n",
      "=================================\n",
      "day: 766, episode: 57\n",
      "begin_total_asset: 100000.00\n",
      "end_total_asset: 131180.60\n",
      "total_reward: 31180.60\n",
      "total_cost: 19586.47\n",
      "total_trades: 3011\n",
      "Sharpe: 0.481\n",
      "=================================\n"
     ]
    },
    {
     "data": {
      "text/html": [
       "<pre style=\"white-space:pre;overflow-x:auto;line-height:normal;font-family:Menlo,'DejaVu Sans Mono',consolas,'Courier New',monospace\">------------------------------------------\n",
       "| rollout/                |              |\n",
       "|    ep_len_mean          | 767          |\n",
       "|    ep_rew_mean          | -2.74        |\n",
       "| time/                   |              |\n",
       "|    fps                  | 133          |\n",
       "|    iterations           | 18           |\n",
       "|    time_elapsed         | 276          |\n",
       "|    total_timesteps      | 36864        |\n",
       "| train/                  |              |\n",
       "|    approx_kl            | 0.0072206976 |\n",
       "|    clip_fraction        | 0.0906       |\n",
       "|    clip_range           | 0.2          |\n",
       "|    entropy_loss         | -7.06        |\n",
       "|    explained_variance   | -0.00527     |\n",
       "|    learning_rate        | 0.0003       |\n",
       "|    loss                 | -0.000577    |\n",
       "|    n_updates            | 170          |\n",
       "|    policy_gradient_loss | -0.00442     |\n",
       "|    std                  | 0.994        |\n",
       "|    value_loss           | 0.139        |\n",
       "------------------------------------------\n",
       "</pre>\n"
      ],
      "text/plain": [
       "------------------------------------------\n",
       "| rollout/                |              |\n",
       "|    ep_len_mean          | 767          |\n",
       "|    ep_rew_mean          | -2.74        |\n",
       "| time/                   |              |\n",
       "|    fps                  | 133          |\n",
       "|    iterations           | 18           |\n",
       "|    time_elapsed         | 276          |\n",
       "|    total_timesteps      | 36864        |\n",
       "| train/                  |              |\n",
       "|    approx_kl            | 0.0072206976 |\n",
       "|    clip_fraction        | 0.0906       |\n",
       "|    clip_range           | 0.2          |\n",
       "|    entropy_loss         | -7.06        |\n",
       "|    explained_variance   | -0.00527     |\n",
       "|    learning_rate        | 0.0003       |\n",
       "|    loss                 | -0.000577    |\n",
       "|    n_updates            | 170          |\n",
       "|    policy_gradient_loss | -0.00442     |\n",
       "|    std                  | 0.994        |\n",
       "|    value_loss           | 0.139        |\n",
       "------------------------------------------\n"
      ]
     },
     "metadata": {},
     "output_type": "display_data"
    },
    {
     "name": "stdout",
     "output_type": "stream",
     "text": [
      "day: 766, episode: 58\n",
      "begin_total_asset: 100000.00\n",
      "end_total_asset: 142662.50\n",
      "total_reward: 42662.50\n",
      "total_cost: 21965.12\n",
      "total_trades: 3072\n",
      "Sharpe: 0.616\n",
      "=================================\n",
      "day: 766, episode: 59\n",
      "begin_total_asset: 100000.00\n",
      "end_total_asset: 79657.42\n",
      "total_reward: -20342.58\n",
      "total_cost: 21396.75\n",
      "total_trades: 2977\n",
      "Sharpe: -0.196\n",
      "=================================\n"
     ]
    },
    {
     "data": {
      "text/html": [
       "<pre style=\"white-space:pre;overflow-x:auto;line-height:normal;font-family:Menlo,'DejaVu Sans Mono',consolas,'Courier New',monospace\">-----------------------------------------\n",
       "| rollout/                |             |\n",
       "|    ep_len_mean          | 767         |\n",
       "|    ep_rew_mean          | -2.59       |\n",
       "| time/                   |             |\n",
       "|    fps                  | 119         |\n",
       "|    iterations           | 19          |\n",
       "|    time_elapsed         | 324         |\n",
       "|    total_timesteps      | 38912       |\n",
       "| train/                  |             |\n",
       "|    approx_kl            | 0.007452491 |\n",
       "|    clip_fraction        | 0.0889      |\n",
       "|    clip_range           | 0.2         |\n",
       "|    entropy_loss         | -7.06       |\n",
       "|    explained_variance   | -0.000226   |\n",
       "|    learning_rate        | 0.0003      |\n",
       "|    loss                 | 0.081       |\n",
       "|    n_updates            | 180         |\n",
       "|    policy_gradient_loss | -0.00214    |\n",
       "|    std                  | 0.993       |\n",
       "|    value_loss           | 0.328       |\n",
       "-----------------------------------------\n",
       "</pre>\n"
      ],
      "text/plain": [
       "-----------------------------------------\n",
       "| rollout/                |             |\n",
       "|    ep_len_mean          | 767         |\n",
       "|    ep_rew_mean          | -2.59       |\n",
       "| time/                   |             |\n",
       "|    fps                  | 119         |\n",
       "|    iterations           | 19          |\n",
       "|    time_elapsed         | 324         |\n",
       "|    total_timesteps      | 38912       |\n",
       "| train/                  |             |\n",
       "|    approx_kl            | 0.007452491 |\n",
       "|    clip_fraction        | 0.0889      |\n",
       "|    clip_range           | 0.2         |\n",
       "|    entropy_loss         | -7.06       |\n",
       "|    explained_variance   | -0.000226   |\n",
       "|    learning_rate        | 0.0003      |\n",
       "|    loss                 | 0.081       |\n",
       "|    n_updates            | 180         |\n",
       "|    policy_gradient_loss | -0.00214    |\n",
       "|    std                  | 0.993       |\n",
       "|    value_loss           | 0.328       |\n",
       "-----------------------------------------\n"
      ]
     },
     "metadata": {},
     "output_type": "display_data"
    },
    {
     "name": "stdout",
     "output_type": "stream",
     "text": [
      "day: 766, episode: 60\n",
      "begin_total_asset: 100000.00\n",
      "end_total_asset: 88305.61\n",
      "total_reward: -11694.39\n",
      "total_cost: 19764.96\n",
      "total_trades: 3002\n",
      "Sharpe: -0.077\n",
      "=================================\n",
      "day: 766, episode: 61\n",
      "begin_total_asset: 100000.00\n",
      "end_total_asset: 101055.09\n",
      "total_reward: 1055.09\n",
      "total_cost: 18757.15\n",
      "total_trades: 3000\n",
      "Sharpe: 0.135\n",
      "=================================\n",
      "day: 766, episode: 62\n",
      "begin_total_asset: 100000.00\n",
      "end_total_asset: 87319.98\n",
      "total_reward: -12680.02\n",
      "total_cost: 16962.30\n",
      "total_trades: 2995\n",
      "Sharpe: -0.063\n",
      "=================================\n"
     ]
    },
    {
     "data": {
      "text/html": [
       "<pre style=\"white-space:pre;overflow-x:auto;line-height:normal;font-family:Menlo,'DejaVu Sans Mono',consolas,'Courier New',monospace\">-----------------------------------------\n",
       "| rollout/                |             |\n",
       "|    ep_len_mean          | 767         |\n",
       "|    ep_rew_mean          | -2.49       |\n",
       "| time/                   |             |\n",
       "|    fps                  | 108         |\n",
       "|    iterations           | 20          |\n",
       "|    time_elapsed         | 377         |\n",
       "|    total_timesteps      | 40960       |\n",
       "| train/                  |             |\n",
       "|    approx_kl            | 0.007998776 |\n",
       "|    clip_fraction        | 0.0826      |\n",
       "|    clip_range           | 0.2         |\n",
       "|    entropy_loss         | -7.08       |\n",
       "|    explained_variance   | -0.000965   |\n",
       "|    learning_rate        | 0.0003      |\n",
       "|    loss                 | 0.0478      |\n",
       "|    n_updates            | 190         |\n",
       "|    policy_gradient_loss | -0.00325    |\n",
       "|    std                  | 1           |\n",
       "|    value_loss           | 0.203       |\n",
       "-----------------------------------------\n",
       "</pre>\n"
      ],
      "text/plain": [
       "-----------------------------------------\n",
       "| rollout/                |             |\n",
       "|    ep_len_mean          | 767         |\n",
       "|    ep_rew_mean          | -2.49       |\n",
       "| time/                   |             |\n",
       "|    fps                  | 108         |\n",
       "|    iterations           | 20          |\n",
       "|    time_elapsed         | 377         |\n",
       "|    total_timesteps      | 40960       |\n",
       "| train/                  |             |\n",
       "|    approx_kl            | 0.007998776 |\n",
       "|    clip_fraction        | 0.0826      |\n",
       "|    clip_range           | 0.2         |\n",
       "|    entropy_loss         | -7.08       |\n",
       "|    explained_variance   | -0.000965   |\n",
       "|    learning_rate        | 0.0003      |\n",
       "|    loss                 | 0.0478      |\n",
       "|    n_updates            | 190         |\n",
       "|    policy_gradient_loss | -0.00325    |\n",
       "|    std                  | 1           |\n",
       "|    value_loss           | 0.203       |\n",
       "-----------------------------------------\n"
      ]
     },
     "metadata": {},
     "output_type": "display_data"
    },
    {
     "name": "stdout",
     "output_type": "stream",
     "text": [
      "day: 766, episode: 63\n",
      "begin_total_asset: 100000.00\n",
      "end_total_asset: 103196.34\n",
      "total_reward: 3196.34\n",
      "total_cost: 16319.93\n",
      "total_trades: 2960\n",
      "Sharpe: 0.169\n",
      "=================================\n",
      "day: 766, episode: 64\n",
      "begin_total_asset: 100000.00\n",
      "end_total_asset: 144678.14\n",
      "total_reward: 44678.14\n",
      "total_cost: 17492.55\n",
      "total_trades: 2962\n",
      "Sharpe: 0.600\n",
      "=================================\n",
      "day: 766, episode: 65\n",
      "begin_total_asset: 100000.00\n",
      "end_total_asset: 134434.78\n",
      "total_reward: 34434.78\n",
      "total_cost: 14594.12\n",
      "total_trades: 2923\n",
      "Sharpe: 0.502\n",
      "=================================\n"
     ]
    },
    {
     "data": {
      "text/html": [
       "<pre style=\"white-space:pre;overflow-x:auto;line-height:normal;font-family:Menlo,'DejaVu Sans Mono',consolas,'Courier New',monospace\">------------------------------------------\n",
       "| rollout/                |              |\n",
       "|    ep_len_mean          | 767          |\n",
       "|    ep_rew_mean          | -2.23        |\n",
       "| time/                   |              |\n",
       "|    fps                  | 104          |\n",
       "|    iterations           | 21           |\n",
       "|    time_elapsed         | 411          |\n",
       "|    total_timesteps      | 43008        |\n",
       "| train/                  |              |\n",
       "|    approx_kl            | 0.0071650604 |\n",
       "|    clip_fraction        | 0.081        |\n",
       "|    clip_range           | 0.2          |\n",
       "|    entropy_loss         | -7.09        |\n",
       "|    explained_variance   | 0.00315      |\n",
       "|    learning_rate        | 0.0003       |\n",
       "|    loss                 | -0.00345     |\n",
       "|    n_updates            | 200          |\n",
       "|    policy_gradient_loss | -0.00348     |\n",
       "|    std                  | 0.998        |\n",
       "|    value_loss           | 0.134        |\n",
       "------------------------------------------\n",
       "</pre>\n"
      ],
      "text/plain": [
       "------------------------------------------\n",
       "| rollout/                |              |\n",
       "|    ep_len_mean          | 767          |\n",
       "|    ep_rew_mean          | -2.23        |\n",
       "| time/                   |              |\n",
       "|    fps                  | 104          |\n",
       "|    iterations           | 21           |\n",
       "|    time_elapsed         | 411          |\n",
       "|    total_timesteps      | 43008        |\n",
       "| train/                  |              |\n",
       "|    approx_kl            | 0.0071650604 |\n",
       "|    clip_fraction        | 0.081        |\n",
       "|    clip_range           | 0.2          |\n",
       "|    entropy_loss         | -7.09        |\n",
       "|    explained_variance   | 0.00315      |\n",
       "|    learning_rate        | 0.0003       |\n",
       "|    loss                 | -0.00345     |\n",
       "|    n_updates            | 200          |\n",
       "|    policy_gradient_loss | -0.00348     |\n",
       "|    std                  | 0.998        |\n",
       "|    value_loss           | 0.134        |\n",
       "------------------------------------------\n"
      ]
     },
     "metadata": {},
     "output_type": "display_data"
    },
    {
     "name": "stdout",
     "output_type": "stream",
     "text": [
      "day: 766, episode: 66\n",
      "begin_total_asset: 100000.00\n",
      "end_total_asset: 108639.15\n",
      "total_reward: 8639.15\n",
      "total_cost: 13960.00\n",
      "total_trades: 2923\n",
      "Sharpe: 0.235\n",
      "=================================\n",
      "day: 766, episode: 67\n",
      "begin_total_asset: 100000.00\n",
      "end_total_asset: 129895.95\n",
      "total_reward: 29895.95\n",
      "total_cost: 12983.81\n",
      "total_trades: 2888\n",
      "Sharpe: 0.448\n",
      "=================================\n"
     ]
    },
    {
     "data": {
      "text/html": [
       "<pre style=\"white-space:pre;overflow-x:auto;line-height:normal;font-family:Menlo,'DejaVu Sans Mono',consolas,'Courier New',monospace\">-----------------------------------------\n",
       "| rollout/                |             |\n",
       "|    ep_len_mean          | 767         |\n",
       "|    ep_rew_mean          | -2.09       |\n",
       "| time/                   |             |\n",
       "|    fps                  | 100         |\n",
       "|    iterations           | 22          |\n",
       "|    time_elapsed         | 446         |\n",
       "|    total_timesteps      | 45056       |\n",
       "| train/                  |             |\n",
       "|    approx_kl            | 0.005597513 |\n",
       "|    clip_fraction        | 0.0736      |\n",
       "|    clip_range           | 0.2         |\n",
       "|    entropy_loss         | -7.08       |\n",
       "|    explained_variance   | -0.00101    |\n",
       "|    learning_rate        | 0.0003      |\n",
       "|    loss                 | 0.117       |\n",
       "|    n_updates            | 210         |\n",
       "|    policy_gradient_loss | -0.000796   |\n",
       "|    std                  | 1           |\n",
       "|    value_loss           | 0.356       |\n",
       "-----------------------------------------\n",
       "</pre>\n"
      ],
      "text/plain": [
       "-----------------------------------------\n",
       "| rollout/                |             |\n",
       "|    ep_len_mean          | 767         |\n",
       "|    ep_rew_mean          | -2.09       |\n",
       "| time/                   |             |\n",
       "|    fps                  | 100         |\n",
       "|    iterations           | 22          |\n",
       "|    time_elapsed         | 446         |\n",
       "|    total_timesteps      | 45056       |\n",
       "| train/                  |             |\n",
       "|    approx_kl            | 0.005597513 |\n",
       "|    clip_fraction        | 0.0736      |\n",
       "|    clip_range           | 0.2         |\n",
       "|    entropy_loss         | -7.08       |\n",
       "|    explained_variance   | -0.00101    |\n",
       "|    learning_rate        | 0.0003      |\n",
       "|    loss                 | 0.117       |\n",
       "|    n_updates            | 210         |\n",
       "|    policy_gradient_loss | -0.000796   |\n",
       "|    std                  | 1           |\n",
       "|    value_loss           | 0.356       |\n",
       "-----------------------------------------\n"
      ]
     },
     "metadata": {},
     "output_type": "display_data"
    },
    {
     "name": "stdout",
     "output_type": "stream",
     "text": [
      "day: 766, episode: 68\n",
      "begin_total_asset: 100000.00\n",
      "end_total_asset: 115337.66\n",
      "total_reward: 15337.66\n",
      "total_cost: 15308.13\n",
      "total_trades: 2901\n",
      "Sharpe: 0.309\n",
      "=================================\n",
      "day: 766, episode: 69\n",
      "begin_total_asset: 100000.00\n",
      "end_total_asset: 101306.22\n",
      "total_reward: 1306.22\n",
      "total_cost: 16015.78\n",
      "total_trades: 2962\n",
      "Sharpe: 0.144\n",
      "=================================\n",
      "day: 766, episode: 70\n",
      "begin_total_asset: 100000.00\n",
      "end_total_asset: 122632.33\n",
      "total_reward: 22632.33\n",
      "total_cost: 15689.55\n",
      "total_trades: 2963\n",
      "Sharpe: 0.384\n",
      "=================================\n"
     ]
    },
    {
     "data": {
      "text/html": [
       "<pre style=\"white-space:pre;overflow-x:auto;line-height:normal;font-family:Menlo,'DejaVu Sans Mono',consolas,'Courier New',monospace\">------------------------------------------\n",
       "| rollout/                |              |\n",
       "|    ep_len_mean          | 767          |\n",
       "|    ep_rew_mean          | -1.94        |\n",
       "| time/                   |              |\n",
       "|    fps                  | 95           |\n",
       "|    iterations           | 23           |\n",
       "|    time_elapsed         | 494          |\n",
       "|    total_timesteps      | 47104        |\n",
       "| train/                  |              |\n",
       "|    approx_kl            | 0.0064601144 |\n",
       "|    clip_fraction        | 0.0676       |\n",
       "|    clip_range           | 0.2          |\n",
       "|    entropy_loss         | -7.1         |\n",
       "|    explained_variance   | -0.000259    |\n",
       "|    learning_rate        | 0.0003       |\n",
       "|    loss                 | 0.12         |\n",
       "|    n_updates            | 220          |\n",
       "|    policy_gradient_loss | -0.00162     |\n",
       "|    std                  | 1            |\n",
       "|    value_loss           | 0.303        |\n",
       "------------------------------------------\n",
       "</pre>\n"
      ],
      "text/plain": [
       "------------------------------------------\n",
       "| rollout/                |              |\n",
       "|    ep_len_mean          | 767          |\n",
       "|    ep_rew_mean          | -1.94        |\n",
       "| time/                   |              |\n",
       "|    fps                  | 95           |\n",
       "|    iterations           | 23           |\n",
       "|    time_elapsed         | 494          |\n",
       "|    total_timesteps      | 47104        |\n",
       "| train/                  |              |\n",
       "|    approx_kl            | 0.0064601144 |\n",
       "|    clip_fraction        | 0.0676       |\n",
       "|    clip_range           | 0.2          |\n",
       "|    entropy_loss         | -7.1         |\n",
       "|    explained_variance   | -0.000259    |\n",
       "|    learning_rate        | 0.0003       |\n",
       "|    loss                 | 0.12         |\n",
       "|    n_updates            | 220          |\n",
       "|    policy_gradient_loss | -0.00162     |\n",
       "|    std                  | 1            |\n",
       "|    value_loss           | 0.303        |\n",
       "------------------------------------------\n"
      ]
     },
     "metadata": {},
     "output_type": "display_data"
    },
    {
     "name": "stdout",
     "output_type": "stream",
     "text": [
      "day: 766, episode: 71\n",
      "begin_total_asset: 100000.00\n",
      "end_total_asset: 132436.44\n",
      "total_reward: 32436.44\n",
      "total_cost: 13872.90\n",
      "total_trades: 2899\n",
      "Sharpe: 0.474\n",
      "=================================\n",
      "day: 766, episode: 72\n",
      "begin_total_asset: 100000.00\n",
      "end_total_asset: 149264.44\n",
      "total_reward: 49264.44\n",
      "total_cost: 12987.41\n",
      "total_trades: 2922\n",
      "Sharpe: 0.616\n",
      "=================================\n",
      "day: 766, episode: 73\n",
      "begin_total_asset: 100000.00\n",
      "end_total_asset: 127405.99\n",
      "total_reward: 27405.99\n",
      "total_cost: 13453.29\n",
      "total_trades: 2882\n",
      "Sharpe: 0.430\n",
      "=================================\n"
     ]
    },
    {
     "data": {
      "text/html": [
       "<pre style=\"white-space:pre;overflow-x:auto;line-height:normal;font-family:Menlo,'DejaVu Sans Mono',consolas,'Courier New',monospace\">------------------------------------------\n",
       "| rollout/                |              |\n",
       "|    ep_len_mean          | 767          |\n",
       "|    ep_rew_mean          | -1.7         |\n",
       "| time/                   |              |\n",
       "|    fps                  | 91           |\n",
       "|    iterations           | 24           |\n",
       "|    time_elapsed         | 539          |\n",
       "|    total_timesteps      | 49152        |\n",
       "| train/                  |              |\n",
       "|    approx_kl            | 0.0071698595 |\n",
       "|    clip_fraction        | 0.0847       |\n",
       "|    clip_range           | 0.2          |\n",
       "|    entropy_loss         | -7.11        |\n",
       "|    explained_variance   | -0.000815    |\n",
       "|    learning_rate        | 0.0003       |\n",
       "|    loss                 | 0.0196       |\n",
       "|    n_updates            | 230          |\n",
       "|    policy_gradient_loss | -0.00231     |\n",
       "|    std                  | 1            |\n",
       "|    value_loss           | 0.255        |\n",
       "------------------------------------------\n",
       "</pre>\n"
      ],
      "text/plain": [
       "------------------------------------------\n",
       "| rollout/                |              |\n",
       "|    ep_len_mean          | 767          |\n",
       "|    ep_rew_mean          | -1.7         |\n",
       "| time/                   |              |\n",
       "|    fps                  | 91           |\n",
       "|    iterations           | 24           |\n",
       "|    time_elapsed         | 539          |\n",
       "|    total_timesteps      | 49152        |\n",
       "| train/                  |              |\n",
       "|    approx_kl            | 0.0071698595 |\n",
       "|    clip_fraction        | 0.0847       |\n",
       "|    clip_range           | 0.2          |\n",
       "|    entropy_loss         | -7.11        |\n",
       "|    explained_variance   | -0.000815    |\n",
       "|    learning_rate        | 0.0003       |\n",
       "|    loss                 | 0.0196       |\n",
       "|    n_updates            | 230          |\n",
       "|    policy_gradient_loss | -0.00231     |\n",
       "|    std                  | 1            |\n",
       "|    value_loss           | 0.255        |\n",
       "------------------------------------------\n"
      ]
     },
     "metadata": {},
     "output_type": "display_data"
    },
    {
     "name": "stdout",
     "output_type": "stream",
     "text": [
      "day: 766, episode: 74\n",
      "begin_total_asset: 100000.00\n",
      "end_total_asset: 141256.58\n",
      "total_reward: 41256.58\n",
      "total_cost: 12851.39\n",
      "total_trades: 2921\n",
      "Sharpe: 0.548\n",
      "=================================\n",
      "day: 766, episode: 75\n",
      "begin_total_asset: 100000.00\n",
      "end_total_asset: 87983.98\n",
      "total_reward: -12016.02\n",
      "total_cost: 14893.00\n",
      "total_trades: 2920\n",
      "Sharpe: -0.020\n",
      "=================================\n"
     ]
    },
    {
     "data": {
      "text/html": [
       "<pre style=\"white-space:pre;overflow-x:auto;line-height:normal;font-family:Menlo,'DejaVu Sans Mono',consolas,'Courier New',monospace\">-----------------------------------------\n",
       "| rollout/                |             |\n",
       "|    ep_len_mean          | 767         |\n",
       "|    ep_rew_mean          | -1.61       |\n",
       "| time/                   |             |\n",
       "|    fps                  | 88          |\n",
       "|    iterations           | 25          |\n",
       "|    time_elapsed         | 578         |\n",
       "|    total_timesteps      | 51200       |\n",
       "| train/                  |             |\n",
       "|    approx_kl            | 0.007339761 |\n",
       "|    clip_fraction        | 0.076       |\n",
       "|    clip_range           | 0.2         |\n",
       "|    entropy_loss         | -7.13       |\n",
       "|    explained_variance   | 0.000426    |\n",
       "|    learning_rate        | 0.0003      |\n",
       "|    loss                 | 0.147       |\n",
       "|    n_updates            | 240         |\n",
       "|    policy_gradient_loss | -0.00266    |\n",
       "|    std                  | 1.01        |\n",
       "|    value_loss           | 0.392       |\n",
       "-----------------------------------------\n",
       "</pre>\n"
      ],
      "text/plain": [
       "-----------------------------------------\n",
       "| rollout/                |             |\n",
       "|    ep_len_mean          | 767         |\n",
       "|    ep_rew_mean          | -1.61       |\n",
       "| time/                   |             |\n",
       "|    fps                  | 88          |\n",
       "|    iterations           | 25          |\n",
       "|    time_elapsed         | 578         |\n",
       "|    total_timesteps      | 51200       |\n",
       "| train/                  |             |\n",
       "|    approx_kl            | 0.007339761 |\n",
       "|    clip_fraction        | 0.076       |\n",
       "|    clip_range           | 0.2         |\n",
       "|    entropy_loss         | -7.13       |\n",
       "|    explained_variance   | 0.000426    |\n",
       "|    learning_rate        | 0.0003      |\n",
       "|    loss                 | 0.147       |\n",
       "|    n_updates            | 240         |\n",
       "|    policy_gradient_loss | -0.00266    |\n",
       "|    std                  | 1.01        |\n",
       "|    value_loss           | 0.392       |\n",
       "-----------------------------------------\n"
      ]
     },
     "metadata": {},
     "output_type": "display_data"
    },
    {
     "name": "stdout",
     "output_type": "stream",
     "text": [
      "day: 766, episode: 76\n",
      "begin_total_asset: 100000.00\n",
      "end_total_asset: 96644.96\n",
      "total_reward: -3355.04\n",
      "total_cost: 13481.22\n",
      "total_trades: 2919\n",
      "Sharpe: 0.096\n",
      "=================================\n",
      "day: 766, episode: 77\n",
      "begin_total_asset: 100000.00\n",
      "end_total_asset: 119211.69\n",
      "total_reward: 19211.69\n",
      "total_cost: 9464.62\n",
      "total_trades: 2859\n",
      "Sharpe: 0.344\n",
      "=================================\n",
      "day: 766, episode: 78\n",
      "begin_total_asset: 100000.00\n",
      "end_total_asset: 124936.43\n",
      "total_reward: 24936.43\n",
      "total_cost: 8846.57\n",
      "total_trades: 2747\n",
      "Sharpe: 0.396\n",
      "=================================\n"
     ]
    },
    {
     "data": {
      "text/html": [
       "<pre style=\"white-space:pre;overflow-x:auto;line-height:normal;font-family:Menlo,'DejaVu Sans Mono',consolas,'Courier New',monospace\">------------------------------------------\n",
       "| rollout/                |              |\n",
       "|    ep_len_mean          | 767          |\n",
       "|    ep_rew_mean          | -1.49        |\n",
       "| time/                   |              |\n",
       "|    fps                  | 86           |\n",
       "|    iterations           | 26           |\n",
       "|    time_elapsed         | 617          |\n",
       "|    total_timesteps      | 53248        |\n",
       "| train/                  |              |\n",
       "|    approx_kl            | 0.0072637214 |\n",
       "|    clip_fraction        | 0.0812       |\n",
       "|    clip_range           | 0.2          |\n",
       "|    entropy_loss         | -7.18        |\n",
       "|    explained_variance   | 0.000706     |\n",
       "|    learning_rate        | 0.0003       |\n",
       "|    loss                 | 0.0928       |\n",
       "|    n_updates            | 250          |\n",
       "|    policy_gradient_loss | -0.00301     |\n",
       "|    std                  | 1.02         |\n",
       "|    value_loss           | 0.298        |\n",
       "------------------------------------------\n",
       "</pre>\n"
      ],
      "text/plain": [
       "------------------------------------------\n",
       "| rollout/                |              |\n",
       "|    ep_len_mean          | 767          |\n",
       "|    ep_rew_mean          | -1.49        |\n",
       "| time/                   |              |\n",
       "|    fps                  | 86           |\n",
       "|    iterations           | 26           |\n",
       "|    time_elapsed         | 617          |\n",
       "|    total_timesteps      | 53248        |\n",
       "| train/                  |              |\n",
       "|    approx_kl            | 0.0072637214 |\n",
       "|    clip_fraction        | 0.0812       |\n",
       "|    clip_range           | 0.2          |\n",
       "|    entropy_loss         | -7.18        |\n",
       "|    explained_variance   | 0.000706     |\n",
       "|    learning_rate        | 0.0003       |\n",
       "|    loss                 | 0.0928       |\n",
       "|    n_updates            | 250          |\n",
       "|    policy_gradient_loss | -0.00301     |\n",
       "|    std                  | 1.02         |\n",
       "|    value_loss           | 0.298        |\n",
       "------------------------------------------\n"
      ]
     },
     "metadata": {},
     "output_type": "display_data"
    },
    {
     "name": "stdout",
     "output_type": "stream",
     "text": [
      "day: 766, episode: 79\n",
      "begin_total_asset: 100000.00\n",
      "end_total_asset: 136008.33\n",
      "total_reward: 36008.33\n",
      "total_cost: 13311.33\n",
      "total_trades: 2850\n",
      "Sharpe: 0.500\n",
      "=================================\n",
      "day: 766, episode: 80\n",
      "begin_total_asset: 100000.00\n",
      "end_total_asset: 109586.42\n",
      "total_reward: 9586.42\n",
      "total_cost: 12617.01\n",
      "total_trades: 2878\n",
      "Sharpe: 0.248\n",
      "=================================\n",
      "day: 766, episode: 81\n",
      "begin_total_asset: 100000.00\n",
      "end_total_asset: 123108.77\n",
      "total_reward: 23108.77\n",
      "total_cost: 13098.14\n",
      "total_trades: 2862\n",
      "Sharpe: 0.386\n",
      "=================================\n"
     ]
    },
    {
     "data": {
      "text/html": [
       "<pre style=\"white-space:pre;overflow-x:auto;line-height:normal;font-family:Menlo,'DejaVu Sans Mono',consolas,'Courier New',monospace\">--------------------------------------\n",
       "| rollout/                |          |\n",
       "|    ep_len_mean          | 767      |\n",
       "|    ep_rew_mean          | -1.34    |\n",
       "| time/                   |          |\n",
       "|    fps                  | 86       |\n",
       "|    iterations           | 27       |\n",
       "|    time_elapsed         | 641      |\n",
       "|    total_timesteps      | 55296    |\n",
       "| train/                  |          |\n",
       "|    approx_kl            | 0.006393 |\n",
       "|    clip_fraction        | 0.0659   |\n",
       "|    clip_range           | 0.2      |\n",
       "|    entropy_loss         | -7.21    |\n",
       "|    explained_variance   | 7.81e-06 |\n",
       "|    learning_rate        | 0.0003   |\n",
       "|    loss                 | 0.088    |\n",
       "|    n_updates            | 260      |\n",
       "|    policy_gradient_loss | -0.00253 |\n",
       "|    std                  | 1.03     |\n",
       "|    value_loss           | 0.379    |\n",
       "--------------------------------------\n",
       "</pre>\n"
      ],
      "text/plain": [
       "--------------------------------------\n",
       "| rollout/                |          |\n",
       "|    ep_len_mean          | 767      |\n",
       "|    ep_rew_mean          | -1.34    |\n",
       "| time/                   |          |\n",
       "|    fps                  | 86       |\n",
       "|    iterations           | 27       |\n",
       "|    time_elapsed         | 641      |\n",
       "|    total_timesteps      | 55296    |\n",
       "| train/                  |          |\n",
       "|    approx_kl            | 0.006393 |\n",
       "|    clip_fraction        | 0.0659   |\n",
       "|    clip_range           | 0.2      |\n",
       "|    entropy_loss         | -7.21    |\n",
       "|    explained_variance   | 7.81e-06 |\n",
       "|    learning_rate        | 0.0003   |\n",
       "|    loss                 | 0.088    |\n",
       "|    n_updates            | 260      |\n",
       "|    policy_gradient_loss | -0.00253 |\n",
       "|    std                  | 1.03     |\n",
       "|    value_loss           | 0.379    |\n",
       "--------------------------------------\n"
      ]
     },
     "metadata": {},
     "output_type": "display_data"
    },
    {
     "name": "stdout",
     "output_type": "stream",
     "text": [
      "day: 766, episode: 82\n",
      "begin_total_asset: 100000.00\n",
      "end_total_asset: 107969.50\n",
      "total_reward: 7969.50\n",
      "total_cost: 13189.14\n",
      "total_trades: 2865\n",
      "Sharpe: 0.230\n",
      "=================================\n",
      "day: 766, episode: 83\n",
      "begin_total_asset: 100000.00\n",
      "end_total_asset: 129842.25\n",
      "total_reward: 29842.25\n",
      "total_cost: 13402.28\n",
      "total_trades: 2820\n",
      "Sharpe: 0.446\n",
      "=================================\n"
     ]
    },
    {
     "data": {
      "text/html": [
       "<pre style=\"white-space:pre;overflow-x:auto;line-height:normal;font-family:Menlo,'DejaVu Sans Mono',consolas,'Courier New',monospace\">----------------------------------------\n",
       "| rollout/                |            |\n",
       "|    ep_len_mean          | 767        |\n",
       "|    ep_rew_mean          | -1.26      |\n",
       "| time/                   |            |\n",
       "|    fps                  | 87         |\n",
       "|    iterations           | 28         |\n",
       "|    time_elapsed         | 653        |\n",
       "|    total_timesteps      | 57344      |\n",
       "| train/                  |            |\n",
       "|    approx_kl            | 0.00602265 |\n",
       "|    clip_fraction        | 0.0576     |\n",
       "|    clip_range           | 0.2        |\n",
       "|    entropy_loss         | -7.23      |\n",
       "|    explained_variance   | 0.000536   |\n",
       "|    learning_rate        | 0.0003     |\n",
       "|    loss                 | 0.131      |\n",
       "|    n_updates            | 270        |\n",
       "|    policy_gradient_loss | -0.00207   |\n",
       "|    std                  | 1.03       |\n",
       "|    value_loss           | 0.38       |\n",
       "----------------------------------------\n",
       "</pre>\n"
      ],
      "text/plain": [
       "----------------------------------------\n",
       "| rollout/                |            |\n",
       "|    ep_len_mean          | 767        |\n",
       "|    ep_rew_mean          | -1.26      |\n",
       "| time/                   |            |\n",
       "|    fps                  | 87         |\n",
       "|    iterations           | 28         |\n",
       "|    time_elapsed         | 653        |\n",
       "|    total_timesteps      | 57344      |\n",
       "| train/                  |            |\n",
       "|    approx_kl            | 0.00602265 |\n",
       "|    clip_fraction        | 0.0576     |\n",
       "|    clip_range           | 0.2        |\n",
       "|    entropy_loss         | -7.23      |\n",
       "|    explained_variance   | 0.000536   |\n",
       "|    learning_rate        | 0.0003     |\n",
       "|    loss                 | 0.131      |\n",
       "|    n_updates            | 270        |\n",
       "|    policy_gradient_loss | -0.00207   |\n",
       "|    std                  | 1.03       |\n",
       "|    value_loss           | 0.38       |\n",
       "----------------------------------------\n"
      ]
     },
     "metadata": {},
     "output_type": "display_data"
    },
    {
     "name": "stdout",
     "output_type": "stream",
     "text": [
      "day: 766, episode: 84\n",
      "begin_total_asset: 100000.00\n",
      "end_total_asset: 109852.53\n",
      "total_reward: 9852.53\n",
      "total_cost: 10061.19\n",
      "total_trades: 2818\n",
      "Sharpe: 0.251\n",
      "=================================\n",
      "day: 766, episode: 85\n",
      "begin_total_asset: 100000.00\n",
      "end_total_asset: 149134.88\n",
      "total_reward: 49134.88\n",
      "total_cost: 11545.09\n",
      "total_trades: 2775\n",
      "Sharpe: 0.611\n",
      "=================================\n",
      "day: 766, episode: 86\n",
      "begin_total_asset: 100000.00\n",
      "end_total_asset: 121926.88\n",
      "total_reward: 21926.88\n",
      "total_cost: 12322.77\n",
      "total_trades: 2796\n",
      "Sharpe: 0.372\n",
      "=================================\n"
     ]
    },
    {
     "data": {
      "text/html": [
       "<pre style=\"white-space:pre;overflow-x:auto;line-height:normal;font-family:Menlo,'DejaVu Sans Mono',consolas,'Courier New',monospace\">-----------------------------------------\n",
       "| rollout/                |             |\n",
       "|    ep_len_mean          | 767         |\n",
       "|    ep_rew_mean          | -1.12       |\n",
       "| time/                   |             |\n",
       "|    fps                  | 89          |\n",
       "|    iterations           | 29          |\n",
       "|    time_elapsed         | 664         |\n",
       "|    total_timesteps      | 59392       |\n",
       "| train/                  |             |\n",
       "|    approx_kl            | 0.006053295 |\n",
       "|    clip_fraction        | 0.0466      |\n",
       "|    clip_range           | 0.2         |\n",
       "|    entropy_loss         | -7.26       |\n",
       "|    explained_variance   | 0.00104     |\n",
       "|    learning_rate        | 0.0003      |\n",
       "|    loss                 | 0.121       |\n",
       "|    n_updates            | 280         |\n",
       "|    policy_gradient_loss | -0.00181    |\n",
       "|    std                  | 1.04        |\n",
       "|    value_loss           | 0.328       |\n",
       "-----------------------------------------\n",
       "</pre>\n"
      ],
      "text/plain": [
       "-----------------------------------------\n",
       "| rollout/                |             |\n",
       "|    ep_len_mean          | 767         |\n",
       "|    ep_rew_mean          | -1.12       |\n",
       "| time/                   |             |\n",
       "|    fps                  | 89          |\n",
       "|    iterations           | 29          |\n",
       "|    time_elapsed         | 664         |\n",
       "|    total_timesteps      | 59392       |\n",
       "| train/                  |             |\n",
       "|    approx_kl            | 0.006053295 |\n",
       "|    clip_fraction        | 0.0466      |\n",
       "|    clip_range           | 0.2         |\n",
       "|    entropy_loss         | -7.26       |\n",
       "|    explained_variance   | 0.00104     |\n",
       "|    learning_rate        | 0.0003      |\n",
       "|    loss                 | 0.121       |\n",
       "|    n_updates            | 280         |\n",
       "|    policy_gradient_loss | -0.00181    |\n",
       "|    std                  | 1.04        |\n",
       "|    value_loss           | 0.328       |\n",
       "-----------------------------------------\n"
      ]
     },
     "metadata": {},
     "output_type": "display_data"
    },
    {
     "name": "stdout",
     "output_type": "stream",
     "text": [
      "day: 766, episode: 87\n",
      "begin_total_asset: 100000.00\n",
      "end_total_asset: 122618.40\n",
      "total_reward: 22618.40\n",
      "total_cost: 12301.32\n",
      "total_trades: 2782\n",
      "Sharpe: 0.377\n",
      "=================================\n",
      "day: 766, episode: 88\n",
      "begin_total_asset: 100000.00\n",
      "end_total_asset: 118159.50\n",
      "total_reward: 18159.50\n",
      "total_cost: 13421.39\n",
      "total_trades: 2782\n",
      "Sharpe: 0.338\n",
      "=================================\n",
      "day: 766, episode: 89\n",
      "begin_total_asset: 100000.00\n",
      "end_total_asset: 126194.31\n",
      "total_reward: 26194.31\n",
      "total_cost: 14869.20\n",
      "total_trades: 2825\n",
      "Sharpe: 0.415\n",
      "=================================\n"
     ]
    },
    {
     "data": {
      "text/html": [
       "<pre style=\"white-space:pre;overflow-x:auto;line-height:normal;font-family:Menlo,'DejaVu Sans Mono',consolas,'Courier New',monospace\">------------------------------------------\n",
       "| rollout/                |              |\n",
       "|    ep_len_mean          | 767          |\n",
       "|    ep_rew_mean          | -1           |\n",
       "| time/                   |              |\n",
       "|    fps                  | 90           |\n",
       "|    iterations           | 30           |\n",
       "|    time_elapsed         | 676          |\n",
       "|    total_timesteps      | 61440        |\n",
       "| train/                  |              |\n",
       "|    approx_kl            | 0.0059272153 |\n",
       "|    clip_fraction        | 0.0809       |\n",
       "|    clip_range           | 0.2          |\n",
       "|    entropy_loss         | -7.28        |\n",
       "|    explained_variance   | 0.00213      |\n",
       "|    learning_rate        | 0.0003       |\n",
       "|    loss                 | 0.157        |\n",
       "|    n_updates            | 290          |\n",
       "|    policy_gradient_loss | -0.00274     |\n",
       "|    std                  | 1.04         |\n",
       "|    value_loss           | 0.393        |\n",
       "------------------------------------------\n",
       "</pre>\n"
      ],
      "text/plain": [
       "------------------------------------------\n",
       "| rollout/                |              |\n",
       "|    ep_len_mean          | 767          |\n",
       "|    ep_rew_mean          | -1           |\n",
       "| time/                   |              |\n",
       "|    fps                  | 90           |\n",
       "|    iterations           | 30           |\n",
       "|    time_elapsed         | 676          |\n",
       "|    total_timesteps      | 61440        |\n",
       "| train/                  |              |\n",
       "|    approx_kl            | 0.0059272153 |\n",
       "|    clip_fraction        | 0.0809       |\n",
       "|    clip_range           | 0.2          |\n",
       "|    entropy_loss         | -7.28        |\n",
       "|    explained_variance   | 0.00213      |\n",
       "|    learning_rate        | 0.0003       |\n",
       "|    loss                 | 0.157        |\n",
       "|    n_updates            | 290          |\n",
       "|    policy_gradient_loss | -0.00274     |\n",
       "|    std                  | 1.04         |\n",
       "|    value_loss           | 0.393        |\n",
       "------------------------------------------\n"
      ]
     },
     "metadata": {},
     "output_type": "display_data"
    },
    {
     "name": "stdout",
     "output_type": "stream",
     "text": [
      "day: 766, episode: 90\n",
      "begin_total_asset: 100000.00\n",
      "end_total_asset: 81150.30\n",
      "total_reward: -18849.70\n",
      "total_cost: 13673.17\n",
      "total_trades: 2764\n",
      "Sharpe: -0.116\n",
      "=================================\n",
      "day: 766, episode: 91\n",
      "begin_total_asset: 100000.00\n",
      "end_total_asset: 137147.42\n",
      "total_reward: 37147.42\n",
      "total_cost: 15000.19\n",
      "total_trades: 2764\n",
      "Sharpe: 0.525\n",
      "=================================\n"
     ]
    },
    {
     "data": {
      "text/html": [
       "<pre style=\"white-space:pre;overflow-x:auto;line-height:normal;font-family:Menlo,'DejaVu Sans Mono',consolas,'Courier New',monospace\">-----------------------------------------\n",
       "| rollout/                |             |\n",
       "|    ep_len_mean          | 767         |\n",
       "|    ep_rew_mean          | -0.963      |\n",
       "| time/                   |             |\n",
       "|    fps                  | 92          |\n",
       "|    iterations           | 31          |\n",
       "|    time_elapsed         | 688         |\n",
       "|    total_timesteps      | 63488       |\n",
       "| train/                  |             |\n",
       "|    approx_kl            | 0.008369574 |\n",
       "|    clip_fraction        | 0.0523      |\n",
       "|    clip_range           | 0.2         |\n",
       "|    entropy_loss         | -7.26       |\n",
       "|    explained_variance   | 0.00156     |\n",
       "|    learning_rate        | 0.0003      |\n",
       "|    loss                 | 0.075       |\n",
       "|    n_updates            | 300         |\n",
       "|    policy_gradient_loss | 0.00255     |\n",
       "|    std                  | 1.03        |\n",
       "|    value_loss           | 0.389       |\n",
       "-----------------------------------------\n",
       "</pre>\n"
      ],
      "text/plain": [
       "-----------------------------------------\n",
       "| rollout/                |             |\n",
       "|    ep_len_mean          | 767         |\n",
       "|    ep_rew_mean          | -0.963      |\n",
       "| time/                   |             |\n",
       "|    fps                  | 92          |\n",
       "|    iterations           | 31          |\n",
       "|    time_elapsed         | 688         |\n",
       "|    total_timesteps      | 63488       |\n",
       "| train/                  |             |\n",
       "|    approx_kl            | 0.008369574 |\n",
       "|    clip_fraction        | 0.0523      |\n",
       "|    clip_range           | 0.2         |\n",
       "|    entropy_loss         | -7.26       |\n",
       "|    explained_variance   | 0.00156     |\n",
       "|    learning_rate        | 0.0003      |\n",
       "|    loss                 | 0.075       |\n",
       "|    n_updates            | 300         |\n",
       "|    policy_gradient_loss | 0.00255     |\n",
       "|    std                  | 1.03        |\n",
       "|    value_loss           | 0.389       |\n",
       "-----------------------------------------\n"
      ]
     },
     "metadata": {},
     "output_type": "display_data"
    },
    {
     "name": "stdout",
     "output_type": "stream",
     "text": [
      "day: 766, episode: 92\n",
      "begin_total_asset: 100000.00\n",
      "end_total_asset: 107487.44\n",
      "total_reward: 7487.44\n",
      "total_cost: 15244.19\n",
      "total_trades: 2796\n",
      "Sharpe: 0.223\n",
      "=================================\n",
      "day: 766, episode: 93\n",
      "begin_total_asset: 100000.00\n",
      "end_total_asset: 107692.64\n",
      "total_reward: 7692.64\n",
      "total_cost: 12860.03\n",
      "total_trades: 2663\n",
      "Sharpe: 0.228\n",
      "=================================\n",
      "day: 766, episode: 94\n",
      "begin_total_asset: 100000.00\n",
      "end_total_asset: 124515.82\n",
      "total_reward: 24515.82\n",
      "total_cost: 11082.83\n",
      "total_trades: 2716\n",
      "Sharpe: 0.397\n",
      "=================================\n"
     ]
    },
    {
     "data": {
      "text/html": [
       "<pre style=\"white-space:pre;overflow-x:auto;line-height:normal;font-family:Menlo,'DejaVu Sans Mono',consolas,'Courier New',monospace\">------------------------------------------\n",
       "| rollout/                |              |\n",
       "|    ep_len_mean          | 767          |\n",
       "|    ep_rew_mean          | -0.892       |\n",
       "| time/                   |              |\n",
       "|    fps                  | 93           |\n",
       "|    iterations           | 32           |\n",
       "|    time_elapsed         | 699          |\n",
       "|    total_timesteps      | 65536        |\n",
       "| train/                  |              |\n",
       "|    approx_kl            | 0.0045433077 |\n",
       "|    clip_fraction        | 0.045        |\n",
       "|    clip_range           | 0.2          |\n",
       "|    entropy_loss         | -7.26        |\n",
       "|    explained_variance   | 0.000317     |\n",
       "|    learning_rate        | 0.0003       |\n",
       "|    loss                 | 0.0177       |\n",
       "|    n_updates            | 310          |\n",
       "|    policy_gradient_loss | -0.000366    |\n",
       "|    std                  | 1.04         |\n",
       "|    value_loss           | 0.26         |\n",
       "------------------------------------------\n",
       "</pre>\n"
      ],
      "text/plain": [
       "------------------------------------------\n",
       "| rollout/                |              |\n",
       "|    ep_len_mean          | 767          |\n",
       "|    ep_rew_mean          | -0.892       |\n",
       "| time/                   |              |\n",
       "|    fps                  | 93           |\n",
       "|    iterations           | 32           |\n",
       "|    time_elapsed         | 699          |\n",
       "|    total_timesteps      | 65536        |\n",
       "| train/                  |              |\n",
       "|    approx_kl            | 0.0045433077 |\n",
       "|    clip_fraction        | 0.045        |\n",
       "|    clip_range           | 0.2          |\n",
       "|    entropy_loss         | -7.26        |\n",
       "|    explained_variance   | 0.000317     |\n",
       "|    learning_rate        | 0.0003       |\n",
       "|    loss                 | 0.0177       |\n",
       "|    n_updates            | 310          |\n",
       "|    policy_gradient_loss | -0.000366    |\n",
       "|    std                  | 1.04         |\n",
       "|    value_loss           | 0.26         |\n",
       "------------------------------------------\n"
      ]
     },
     "metadata": {},
     "output_type": "display_data"
    },
    {
     "name": "stdout",
     "output_type": "stream",
     "text": [
      "day: 766, episode: 95\n",
      "begin_total_asset: 100000.00\n",
      "end_total_asset: 118559.59\n",
      "total_reward: 18559.59\n",
      "total_cost: 11535.66\n",
      "total_trades: 2641\n",
      "Sharpe: 0.339\n",
      "=================================\n",
      "day: 766, episode: 96\n",
      "begin_total_asset: 100000.00\n",
      "end_total_asset: 121990.80\n",
      "total_reward: 21990.80\n",
      "total_cost: 13476.66\n",
      "total_trades: 2704\n",
      "Sharpe: 0.374\n",
      "=================================\n",
      "day: 766, episode: 97\n",
      "begin_total_asset: 100000.00\n",
      "end_total_asset: 142160.54\n",
      "total_reward: 42160.54\n",
      "total_cost: 11045.93\n",
      "total_trades: 2651\n",
      "Sharpe: 0.545\n",
      "=================================\n"
     ]
    },
    {
     "data": {
      "text/html": [
       "<pre style=\"white-space:pre;overflow-x:auto;line-height:normal;font-family:Menlo,'DejaVu Sans Mono',consolas,'Courier New',monospace\">-----------------------------------------\n",
       "| rollout/                |             |\n",
       "|    ep_len_mean          | 767         |\n",
       "|    ep_rew_mean          | -0.779      |\n",
       "| time/                   |             |\n",
       "|    fps                  | 95          |\n",
       "|    iterations           | 33          |\n",
       "|    time_elapsed         | 711         |\n",
       "|    total_timesteps      | 67584       |\n",
       "| train/                  |             |\n",
       "|    approx_kl            | 0.007838903 |\n",
       "|    clip_fraction        | 0.0819      |\n",
       "|    clip_range           | 0.2         |\n",
       "|    entropy_loss         | -7.26       |\n",
       "|    explained_variance   | 0.00141     |\n",
       "|    learning_rate        | 0.0003      |\n",
       "|    loss                 | 0.111       |\n",
       "|    n_updates            | 320         |\n",
       "|    policy_gradient_loss | -9.49e-05   |\n",
       "|    std                  | 1.03        |\n",
       "|    value_loss           | 0.346       |\n",
       "-----------------------------------------\n",
       "</pre>\n"
      ],
      "text/plain": [
       "-----------------------------------------\n",
       "| rollout/                |             |\n",
       "|    ep_len_mean          | 767         |\n",
       "|    ep_rew_mean          | -0.779      |\n",
       "| time/                   |             |\n",
       "|    fps                  | 95          |\n",
       "|    iterations           | 33          |\n",
       "|    time_elapsed         | 711         |\n",
       "|    total_timesteps      | 67584       |\n",
       "| train/                  |             |\n",
       "|    approx_kl            | 0.007838903 |\n",
       "|    clip_fraction        | 0.0819      |\n",
       "|    clip_range           | 0.2         |\n",
       "|    entropy_loss         | -7.26       |\n",
       "|    explained_variance   | 0.00141     |\n",
       "|    learning_rate        | 0.0003      |\n",
       "|    loss                 | 0.111       |\n",
       "|    n_updates            | 320         |\n",
       "|    policy_gradient_loss | -9.49e-05   |\n",
       "|    std                  | 1.03        |\n",
       "|    value_loss           | 0.346       |\n",
       "-----------------------------------------\n"
      ]
     },
     "metadata": {},
     "output_type": "display_data"
    },
    {
     "name": "stdout",
     "output_type": "stream",
     "text": [
      "day: 766, episode: 98\n",
      "begin_total_asset: 100000.00\n",
      "end_total_asset: 155032.88\n",
      "total_reward: 55032.88\n",
      "total_cost: 10610.31\n",
      "total_trades: 2610\n",
      "Sharpe: 0.647\n",
      "=================================\n",
      "day: 766, episode: 99\n",
      "begin_total_asset: 100000.00\n",
      "end_total_asset: 128421.26\n",
      "total_reward: 28421.26\n",
      "total_cost: 11055.13\n",
      "total_trades: 2628\n",
      "Sharpe: 0.431\n",
      "=================================\n"
     ]
    },
    {
     "data": {
      "text/html": [
       "<pre style=\"white-space:pre;overflow-x:auto;line-height:normal;font-family:Menlo,'DejaVu Sans Mono',consolas,'Courier New',monospace\">-----------------------------------------\n",
       "| rollout/                |             |\n",
       "|    ep_len_mean          | 767         |\n",
       "|    ep_rew_mean          | -0.678      |\n",
       "| time/                   |             |\n",
       "|    fps                  | 96          |\n",
       "|    iterations           | 34          |\n",
       "|    time_elapsed         | 723         |\n",
       "|    total_timesteps      | 69632       |\n",
       "| train/                  |             |\n",
       "|    approx_kl            | 0.003094048 |\n",
       "|    clip_fraction        | 0.0347      |\n",
       "|    clip_range           | 0.2         |\n",
       "|    entropy_loss         | -7.27       |\n",
       "|    explained_variance   | -0.00186    |\n",
       "|    learning_rate        | 0.0003      |\n",
       "|    loss                 | 0.143       |\n",
       "|    n_updates            | 330         |\n",
       "|    policy_gradient_loss | 0.000808    |\n",
       "|    std                  | 1.04        |\n",
       "|    value_loss           | 0.447       |\n",
       "-----------------------------------------\n",
       "</pre>\n"
      ],
      "text/plain": [
       "-----------------------------------------\n",
       "| rollout/                |             |\n",
       "|    ep_len_mean          | 767         |\n",
       "|    ep_rew_mean          | -0.678      |\n",
       "| time/                   |             |\n",
       "|    fps                  | 96          |\n",
       "|    iterations           | 34          |\n",
       "|    time_elapsed         | 723         |\n",
       "|    total_timesteps      | 69632       |\n",
       "| train/                  |             |\n",
       "|    approx_kl            | 0.003094048 |\n",
       "|    clip_fraction        | 0.0347      |\n",
       "|    clip_range           | 0.2         |\n",
       "|    entropy_loss         | -7.27       |\n",
       "|    explained_variance   | -0.00186    |\n",
       "|    learning_rate        | 0.0003      |\n",
       "|    loss                 | 0.143       |\n",
       "|    n_updates            | 330         |\n",
       "|    policy_gradient_loss | 0.000808    |\n",
       "|    std                  | 1.04        |\n",
       "|    value_loss           | 0.447       |\n",
       "-----------------------------------------\n"
      ]
     },
     "metadata": {},
     "output_type": "display_data"
    },
    {
     "name": "stdout",
     "output_type": "stream",
     "text": [
      "day: 766, episode: 100\n",
      "begin_total_asset: 100000.00\n",
      "end_total_asset: 159680.86\n",
      "total_reward: 59680.86\n",
      "total_cost: 12556.15\n",
      "total_trades: 2685\n",
      "Sharpe: 0.689\n",
      "=================================\n",
      "day: 766, episode: 101\n",
      "begin_total_asset: 100000.00\n",
      "end_total_asset: 133695.07\n",
      "total_reward: 33695.07\n",
      "total_cost: 12351.82\n",
      "total_trades: 2607\n",
      "Sharpe: 0.479\n",
      "=================================\n",
      "day: 766, episode: 102\n",
      "begin_total_asset: 100000.00\n",
      "end_total_asset: 134805.62\n",
      "total_reward: 34805.62\n",
      "total_cost: 11279.76\n",
      "total_trades: 2636\n",
      "Sharpe: 0.486\n",
      "=================================\n"
     ]
    },
    {
     "data": {
      "text/html": [
       "<pre style=\"white-space:pre;overflow-x:auto;line-height:normal;font-family:Menlo,'DejaVu Sans Mono',consolas,'Courier New',monospace\">----------------------------------------\n",
       "| rollout/                |            |\n",
       "|    ep_len_mean          | 767        |\n",
       "|    ep_rew_mean          | -0.523     |\n",
       "| time/                   |            |\n",
       "|    fps                  | 97         |\n",
       "|    iterations           | 35         |\n",
       "|    time_elapsed         | 735        |\n",
       "|    total_timesteps      | 71680      |\n",
       "| train/                  |            |\n",
       "|    approx_kl            | 0.00510162 |\n",
       "|    clip_fraction        | 0.0486     |\n",
       "|    clip_range           | 0.2        |\n",
       "|    entropy_loss         | -7.3       |\n",
       "|    explained_variance   | -0.000582  |\n",
       "|    learning_rate        | 0.0003     |\n",
       "|    loss                 | 0.0919     |\n",
       "|    n_updates            | 340        |\n",
       "|    policy_gradient_loss | 1.99e-05   |\n",
       "|    std                  | 1.04       |\n",
       "|    value_loss           | 0.458      |\n",
       "----------------------------------------\n",
       "</pre>\n"
      ],
      "text/plain": [
       "----------------------------------------\n",
       "| rollout/                |            |\n",
       "|    ep_len_mean          | 767        |\n",
       "|    ep_rew_mean          | -0.523     |\n",
       "| time/                   |            |\n",
       "|    fps                  | 97         |\n",
       "|    iterations           | 35         |\n",
       "|    time_elapsed         | 735        |\n",
       "|    total_timesteps      | 71680      |\n",
       "| train/                  |            |\n",
       "|    approx_kl            | 0.00510162 |\n",
       "|    clip_fraction        | 0.0486     |\n",
       "|    clip_range           | 0.2        |\n",
       "|    entropy_loss         | -7.3       |\n",
       "|    explained_variance   | -0.000582  |\n",
       "|    learning_rate        | 0.0003     |\n",
       "|    loss                 | 0.0919     |\n",
       "|    n_updates            | 340        |\n",
       "|    policy_gradient_loss | 1.99e-05   |\n",
       "|    std                  | 1.04       |\n",
       "|    value_loss           | 0.458      |\n",
       "----------------------------------------\n"
      ]
     },
     "metadata": {},
     "output_type": "display_data"
    },
    {
     "name": "stdout",
     "output_type": "stream",
     "text": [
      "day: 766, episode: 103\n",
      "begin_total_asset: 100000.00\n",
      "end_total_asset: 123741.90\n",
      "total_reward: 23741.90\n",
      "total_cost: 10859.07\n",
      "total_trades: 2585\n",
      "Sharpe: 0.385\n",
      "=================================\n",
      "day: 766, episode: 104\n",
      "begin_total_asset: 100000.00\n",
      "end_total_asset: 95709.33\n",
      "total_reward: -4290.67\n",
      "total_cost: 12403.42\n",
      "total_trades: 2599\n",
      "Sharpe: 0.090\n",
      "=================================\n",
      "day: 766, episode: 105\n",
      "begin_total_asset: 100000.00\n",
      "end_total_asset: 152244.90\n",
      "total_reward: 52244.90\n",
      "total_cost: 8633.93\n",
      "total_trades: 2541\n",
      "Sharpe: 0.613\n",
      "=================================\n"
     ]
    },
    {
     "data": {
      "text/html": [
       "<pre style=\"white-space:pre;overflow-x:auto;line-height:normal;font-family:Menlo,'DejaVu Sans Mono',consolas,'Courier New',monospace\">-----------------------------------------\n",
       "| rollout/                |             |\n",
       "|    ep_len_mean          | 767         |\n",
       "|    ep_rew_mean          | -0.441      |\n",
       "| time/                   |             |\n",
       "|    fps                  | 97          |\n",
       "|    iterations           | 36          |\n",
       "|    time_elapsed         | 753         |\n",
       "|    total_timesteps      | 73728       |\n",
       "| train/                  |             |\n",
       "|    approx_kl            | 0.006571114 |\n",
       "|    clip_fraction        | 0.0556      |\n",
       "|    clip_range           | 0.2         |\n",
       "|    entropy_loss         | -7.3        |\n",
       "|    explained_variance   | -0.00119    |\n",
       "|    learning_rate        | 0.0003      |\n",
       "|    loss                 | 0.16        |\n",
       "|    n_updates            | 350         |\n",
       "|    policy_gradient_loss | -0.00179    |\n",
       "|    std                  | 1.04        |\n",
       "|    value_loss           | 0.461       |\n",
       "-----------------------------------------\n",
       "</pre>\n"
      ],
      "text/plain": [
       "-----------------------------------------\n",
       "| rollout/                |             |\n",
       "|    ep_len_mean          | 767         |\n",
       "|    ep_rew_mean          | -0.441      |\n",
       "| time/                   |             |\n",
       "|    fps                  | 97          |\n",
       "|    iterations           | 36          |\n",
       "|    time_elapsed         | 753         |\n",
       "|    total_timesteps      | 73728       |\n",
       "| train/                  |             |\n",
       "|    approx_kl            | 0.006571114 |\n",
       "|    clip_fraction        | 0.0556      |\n",
       "|    clip_range           | 0.2         |\n",
       "|    entropy_loss         | -7.3        |\n",
       "|    explained_variance   | -0.00119    |\n",
       "|    learning_rate        | 0.0003      |\n",
       "|    loss                 | 0.16        |\n",
       "|    n_updates            | 350         |\n",
       "|    policy_gradient_loss | -0.00179    |\n",
       "|    std                  | 1.04        |\n",
       "|    value_loss           | 0.461       |\n",
       "-----------------------------------------\n"
      ]
     },
     "metadata": {},
     "output_type": "display_data"
    },
    {
     "name": "stdout",
     "output_type": "stream",
     "text": [
      "day: 766, episode: 106\n",
      "begin_total_asset: 100000.00\n",
      "end_total_asset: 156995.96\n",
      "total_reward: 56995.96\n",
      "total_cost: 10170.79\n",
      "total_trades: 2554\n",
      "Sharpe: 0.649\n",
      "=================================\n",
      "day: 766, episode: 107\n",
      "begin_total_asset: 100000.00\n",
      "end_total_asset: 110610.64\n",
      "total_reward: 10610.64\n",
      "total_cost: 11335.87\n",
      "total_trades: 2587\n",
      "Sharpe: 0.259\n",
      "=================================\n"
     ]
    },
    {
     "data": {
      "text/html": [
       "<pre style=\"white-space:pre;overflow-x:auto;line-height:normal;font-family:Menlo,'DejaVu Sans Mono',consolas,'Courier New',monospace\">------------------------------------------\n",
       "| rollout/                |              |\n",
       "|    ep_len_mean          | 767          |\n",
       "|    ep_rew_mean          | -0.369       |\n",
       "| time/                   |              |\n",
       "|    fps                  | 98           |\n",
       "|    iterations           | 37           |\n",
       "|    time_elapsed         | 770          |\n",
       "|    total_timesteps      | 75776        |\n",
       "| train/                  |              |\n",
       "|    approx_kl            | 0.0059816996 |\n",
       "|    clip_fraction        | 0.0524       |\n",
       "|    clip_range           | 0.2          |\n",
       "|    entropy_loss         | -7.3         |\n",
       "|    explained_variance   | -0.00441     |\n",
       "|    learning_rate        | 0.0003       |\n",
       "|    loss                 | 0.141        |\n",
       "|    n_updates            | 360          |\n",
       "|    policy_gradient_loss | -0.00129     |\n",
       "|    std                  | 1.04         |\n",
       "|    value_loss           | 0.451        |\n",
       "------------------------------------------\n",
       "</pre>\n"
      ],
      "text/plain": [
       "------------------------------------------\n",
       "| rollout/                |              |\n",
       "|    ep_len_mean          | 767          |\n",
       "|    ep_rew_mean          | -0.369       |\n",
       "| time/                   |              |\n",
       "|    fps                  | 98           |\n",
       "|    iterations           | 37           |\n",
       "|    time_elapsed         | 770          |\n",
       "|    total_timesteps      | 75776        |\n",
       "| train/                  |              |\n",
       "|    approx_kl            | 0.0059816996 |\n",
       "|    clip_fraction        | 0.0524       |\n",
       "|    clip_range           | 0.2          |\n",
       "|    entropy_loss         | -7.3         |\n",
       "|    explained_variance   | -0.00441     |\n",
       "|    learning_rate        | 0.0003       |\n",
       "|    loss                 | 0.141        |\n",
       "|    n_updates            | 360          |\n",
       "|    policy_gradient_loss | -0.00129     |\n",
       "|    std                  | 1.04         |\n",
       "|    value_loss           | 0.451        |\n",
       "------------------------------------------\n"
      ]
     },
     "metadata": {},
     "output_type": "display_data"
    },
    {
     "name": "stdout",
     "output_type": "stream",
     "text": [
      "day: 766, episode: 108\n",
      "begin_total_asset: 100000.00\n",
      "end_total_asset: 118738.14\n",
      "total_reward: 18738.14\n",
      "total_cost: 12307.43\n",
      "total_trades: 2578\n",
      "Sharpe: 0.343\n",
      "=================================\n",
      "day: 766, episode: 109\n",
      "begin_total_asset: 100000.00\n",
      "end_total_asset: 103188.55\n",
      "total_reward: 3188.55\n",
      "total_cost: 11278.72\n",
      "total_trades: 2572\n",
      "Sharpe: 0.179\n",
      "=================================\n",
      "day: 766, episode: 110\n",
      "begin_total_asset: 100000.00\n",
      "end_total_asset: 144521.06\n",
      "total_reward: 44521.06\n",
      "total_cost: 11950.93\n",
      "total_trades: 2608\n",
      "Sharpe: 0.566\n",
      "=================================\n"
     ]
    },
    {
     "data": {
      "text/html": [
       "<pre style=\"white-space:pre;overflow-x:auto;line-height:normal;font-family:Menlo,'DejaVu Sans Mono',consolas,'Courier New',monospace\">------------------------------------------\n",
       "| rollout/                |              |\n",
       "|    ep_len_mean          | 767          |\n",
       "|    ep_rew_mean          | -0.256       |\n",
       "| time/                   |              |\n",
       "|    fps                  | 98           |\n",
       "|    iterations           | 38           |\n",
       "|    time_elapsed         | 787          |\n",
       "|    total_timesteps      | 77824        |\n",
       "| train/                  |              |\n",
       "|    approx_kl            | 0.0067886524 |\n",
       "|    clip_fraction        | 0.0959       |\n",
       "|    clip_range           | 0.2          |\n",
       "|    entropy_loss         | -7.3         |\n",
       "|    explained_variance   | 0.000195     |\n",
       "|    learning_rate        | 0.0003       |\n",
       "|    loss                 | 0.0113       |\n",
       "|    n_updates            | 370          |\n",
       "|    policy_gradient_loss | -0.00141     |\n",
       "|    std                  | 1.04         |\n",
       "|    value_loss           | 0.428        |\n",
       "------------------------------------------\n",
       "</pre>\n"
      ],
      "text/plain": [
       "------------------------------------------\n",
       "| rollout/                |              |\n",
       "|    ep_len_mean          | 767          |\n",
       "|    ep_rew_mean          | -0.256       |\n",
       "| time/                   |              |\n",
       "|    fps                  | 98           |\n",
       "|    iterations           | 38           |\n",
       "|    time_elapsed         | 787          |\n",
       "|    total_timesteps      | 77824        |\n",
       "| train/                  |              |\n",
       "|    approx_kl            | 0.0067886524 |\n",
       "|    clip_fraction        | 0.0959       |\n",
       "|    clip_range           | 0.2          |\n",
       "|    entropy_loss         | -7.3         |\n",
       "|    explained_variance   | 0.000195     |\n",
       "|    learning_rate        | 0.0003       |\n",
       "|    loss                 | 0.0113       |\n",
       "|    n_updates            | 370          |\n",
       "|    policy_gradient_loss | -0.00141     |\n",
       "|    std                  | 1.04         |\n",
       "|    value_loss           | 0.428        |\n",
       "------------------------------------------\n"
      ]
     },
     "metadata": {},
     "output_type": "display_data"
    },
    {
     "name": "stdout",
     "output_type": "stream",
     "text": [
      "day: 766, episode: 111\n",
      "begin_total_asset: 100000.00\n",
      "end_total_asset: 124665.51\n",
      "total_reward: 24665.51\n",
      "total_cost: 10732.66\n",
      "total_trades: 2670\n",
      "Sharpe: 0.398\n",
      "=================================\n",
      "day: 766, episode: 112\n",
      "begin_total_asset: 100000.00\n",
      "end_total_asset: 140806.31\n",
      "total_reward: 40806.31\n",
      "total_cost: 12932.66\n",
      "total_trades: 2637\n",
      "Sharpe: 0.540\n",
      "=================================\n",
      "day: 766, episode: 113\n",
      "begin_total_asset: 100000.00\n",
      "end_total_asset: 103366.46\n",
      "total_reward: 3366.46\n",
      "total_cost: 11135.46\n",
      "total_trades: 2693\n",
      "Sharpe: 0.183\n",
      "=================================\n"
     ]
    },
    {
     "data": {
      "text/html": [
       "<pre style=\"white-space:pre;overflow-x:auto;line-height:normal;font-family:Menlo,'DejaVu Sans Mono',consolas,'Courier New',monospace\">------------------------------------------\n",
       "| rollout/                |              |\n",
       "|    ep_len_mean          | 767          |\n",
       "|    ep_rew_mean          | -0.0591      |\n",
       "| time/                   |              |\n",
       "|    fps                  | 99           |\n",
       "|    iterations           | 39           |\n",
       "|    time_elapsed         | 803          |\n",
       "|    total_timesteps      | 79872        |\n",
       "| train/                  |              |\n",
       "|    approx_kl            | 0.0067050243 |\n",
       "|    clip_fraction        | 0.0768       |\n",
       "|    clip_range           | 0.2          |\n",
       "|    entropy_loss         | -7.35        |\n",
       "|    explained_variance   | 0.00108      |\n",
       "|    learning_rate        | 0.0003       |\n",
       "|    loss                 | 0.0783       |\n",
       "|    n_updates            | 380          |\n",
       "|    policy_gradient_loss | -0.0042      |\n",
       "|    std                  | 1.06         |\n",
       "|    value_loss           | 0.379        |\n",
       "------------------------------------------\n",
       "</pre>\n"
      ],
      "text/plain": [
       "------------------------------------------\n",
       "| rollout/                |              |\n",
       "|    ep_len_mean          | 767          |\n",
       "|    ep_rew_mean          | -0.0591      |\n",
       "| time/                   |              |\n",
       "|    fps                  | 99           |\n",
       "|    iterations           | 39           |\n",
       "|    time_elapsed         | 803          |\n",
       "|    total_timesteps      | 79872        |\n",
       "| train/                  |              |\n",
       "|    approx_kl            | 0.0067050243 |\n",
       "|    clip_fraction        | 0.0768       |\n",
       "|    clip_range           | 0.2          |\n",
       "|    entropy_loss         | -7.35        |\n",
       "|    explained_variance   | 0.00108      |\n",
       "|    learning_rate        | 0.0003       |\n",
       "|    loss                 | 0.0783       |\n",
       "|    n_updates            | 380          |\n",
       "|    policy_gradient_loss | -0.0042      |\n",
       "|    std                  | 1.06         |\n",
       "|    value_loss           | 0.379        |\n",
       "------------------------------------------\n"
      ]
     },
     "metadata": {},
     "output_type": "display_data"
    },
    {
     "name": "stdout",
     "output_type": "stream",
     "text": [
      "day: 766, episode: 114\n",
      "begin_total_asset: 100000.00\n",
      "end_total_asset: 154308.09\n",
      "total_reward: 54308.09\n",
      "total_cost: 12536.07\n",
      "total_trades: 2654\n",
      "Sharpe: 0.640\n",
      "=================================\n",
      "day: 766, episode: 115\n",
      "begin_total_asset: 100000.00\n",
      "end_total_asset: 138855.09\n",
      "total_reward: 38855.09\n",
      "total_cost: 13928.31\n",
      "total_trades: 2657\n",
      "Sharpe: 0.520\n",
      "=================================\n"
     ]
    },
    {
     "data": {
      "text/html": [
       "<pre style=\"white-space:pre;overflow-x:auto;line-height:normal;font-family:Menlo,'DejaVu Sans Mono',consolas,'Courier New',monospace\">------------------------------------------\n",
       "| rollout/                |              |\n",
       "|    ep_len_mean          | 767          |\n",
       "|    ep_rew_mean          | 0.101        |\n",
       "| time/                   |              |\n",
       "|    fps                  | 99           |\n",
       "|    iterations           | 40           |\n",
       "|    time_elapsed         | 820          |\n",
       "|    total_timesteps      | 81920        |\n",
       "| train/                  |              |\n",
       "|    approx_kl            | 0.0068030455 |\n",
       "|    clip_fraction        | 0.0958       |\n",
       "|    clip_range           | 0.2          |\n",
       "|    entropy_loss         | -7.41        |\n",
       "|    explained_variance   | 0.00114      |\n",
       "|    learning_rate        | 0.0003       |\n",
       "|    loss                 | 0.104        |\n",
       "|    n_updates            | 390          |\n",
       "|    policy_gradient_loss | -0.00631     |\n",
       "|    std                  | 1.07         |\n",
       "|    value_loss           | 0.404        |\n",
       "------------------------------------------\n",
       "</pre>\n"
      ],
      "text/plain": [
       "------------------------------------------\n",
       "| rollout/                |              |\n",
       "|    ep_len_mean          | 767          |\n",
       "|    ep_rew_mean          | 0.101        |\n",
       "| time/                   |              |\n",
       "|    fps                  | 99           |\n",
       "|    iterations           | 40           |\n",
       "|    time_elapsed         | 820          |\n",
       "|    total_timesteps      | 81920        |\n",
       "| train/                  |              |\n",
       "|    approx_kl            | 0.0068030455 |\n",
       "|    clip_fraction        | 0.0958       |\n",
       "|    clip_range           | 0.2          |\n",
       "|    entropy_loss         | -7.41        |\n",
       "|    explained_variance   | 0.00114      |\n",
       "|    learning_rate        | 0.0003       |\n",
       "|    loss                 | 0.104        |\n",
       "|    n_updates            | 390          |\n",
       "|    policy_gradient_loss | -0.00631     |\n",
       "|    std                  | 1.07         |\n",
       "|    value_loss           | 0.404        |\n",
       "------------------------------------------\n"
      ]
     },
     "metadata": {},
     "output_type": "display_data"
    },
    {
     "name": "stdout",
     "output_type": "stream",
     "text": [
      "day: 766, episode: 116\n",
      "begin_total_asset: 100000.00\n",
      "end_total_asset: 114172.54\n",
      "total_reward: 14172.54\n",
      "total_cost: 10501.56\n",
      "total_trades: 2604\n",
      "Sharpe: 0.295\n",
      "=================================\n",
      "day: 766, episode: 117\n",
      "begin_total_asset: 100000.00\n",
      "end_total_asset: 114674.02\n",
      "total_reward: 14674.02\n",
      "total_cost: 10868.84\n",
      "total_trades: 2547\n",
      "Sharpe: 0.300\n",
      "=================================\n",
      "day: 766, episode: 118\n",
      "begin_total_asset: 100000.00\n",
      "end_total_asset: 158613.90\n",
      "total_reward: 58613.90\n",
      "total_cost: 11146.14\n",
      "total_trades: 2530\n",
      "Sharpe: 0.668\n",
      "=================================\n"
     ]
    },
    {
     "data": {
      "text/html": [
       "<pre style=\"white-space:pre;overflow-x:auto;line-height:normal;font-family:Menlo,'DejaVu Sans Mono',consolas,'Courier New',monospace\">----------------------------------------\n",
       "| rollout/                |            |\n",
       "|    ep_len_mean          | 767        |\n",
       "|    ep_rew_mean          | 0.286      |\n",
       "| time/                   |            |\n",
       "|    fps                  | 100        |\n",
       "|    iterations           | 41         |\n",
       "|    time_elapsed         | 839        |\n",
       "|    total_timesteps      | 83968      |\n",
       "| train/                  |            |\n",
       "|    approx_kl            | 0.00435194 |\n",
       "|    clip_fraction        | 0.0431     |\n",
       "|    clip_range           | 0.2        |\n",
       "|    entropy_loss         | -7.42      |\n",
       "|    explained_variance   | -0.00661   |\n",
       "|    learning_rate        | 0.0003     |\n",
       "|    loss                 | 0.093      |\n",
       "|    n_updates            | 400        |\n",
       "|    policy_gradient_loss | -0.00057   |\n",
       "|    std                  | 1.07       |\n",
       "|    value_loss           | 0.446      |\n",
       "----------------------------------------\n",
       "</pre>\n"
      ],
      "text/plain": [
       "----------------------------------------\n",
       "| rollout/                |            |\n",
       "|    ep_len_mean          | 767        |\n",
       "|    ep_rew_mean          | 0.286      |\n",
       "| time/                   |            |\n",
       "|    fps                  | 100        |\n",
       "|    iterations           | 41         |\n",
       "|    time_elapsed         | 839        |\n",
       "|    total_timesteps      | 83968      |\n",
       "| train/                  |            |\n",
       "|    approx_kl            | 0.00435194 |\n",
       "|    clip_fraction        | 0.0431     |\n",
       "|    clip_range           | 0.2        |\n",
       "|    entropy_loss         | -7.42      |\n",
       "|    explained_variance   | -0.00661   |\n",
       "|    learning_rate        | 0.0003     |\n",
       "|    loss                 | 0.093      |\n",
       "|    n_updates            | 400        |\n",
       "|    policy_gradient_loss | -0.00057   |\n",
       "|    std                  | 1.07       |\n",
       "|    value_loss           | 0.446      |\n",
       "----------------------------------------\n"
      ]
     },
     "metadata": {},
     "output_type": "display_data"
    },
    {
     "name": "stdout",
     "output_type": "stream",
     "text": [
      "day: 766, episode: 119\n",
      "begin_total_asset: 100000.00\n",
      "end_total_asset: 144384.48\n",
      "total_reward: 44384.48\n",
      "total_cost: 9319.19\n",
      "total_trades: 2571\n",
      "Sharpe: 0.557\n",
      "=================================\n",
      "day: 766, episode: 120\n",
      "begin_total_asset: 100000.00\n",
      "end_total_asset: 130146.15\n",
      "total_reward: 30146.15\n",
      "total_cost: 9490.45\n",
      "total_trades: 2499\n",
      "Sharpe: 0.443\n",
      "=================================\n",
      "day: 766, episode: 121\n",
      "begin_total_asset: 100000.00\n",
      "end_total_asset: 134071.93\n",
      "total_reward: 34071.93\n",
      "total_cost: 9687.44\n",
      "total_trades: 2571\n",
      "Sharpe: 0.474\n",
      "=================================\n"
     ]
    },
    {
     "data": {
      "text/html": [
       "<pre style=\"white-space:pre;overflow-x:auto;line-height:normal;font-family:Menlo,'DejaVu Sans Mono',consolas,'Courier New',monospace\">------------------------------------------\n",
       "| rollout/                |              |\n",
       "|    ep_len_mean          | 767          |\n",
       "|    ep_rew_mean          | 0.518        |\n",
       "| time/                   |              |\n",
       "|    fps                  | 100          |\n",
       "|    iterations           | 42           |\n",
       "|    time_elapsed         | 856          |\n",
       "|    total_timesteps      | 86016        |\n",
       "| train/                  |              |\n",
       "|    approx_kl            | 0.0039298255 |\n",
       "|    clip_fraction        | 0.0367       |\n",
       "|    clip_range           | 0.2          |\n",
       "|    entropy_loss         | -7.43        |\n",
       "|    explained_variance   | -0.00331     |\n",
       "|    learning_rate        | 0.0003       |\n",
       "|    loss                 | 0.128        |\n",
       "|    n_updates            | 410          |\n",
       "|    policy_gradient_loss | 0.000479     |\n",
       "|    std                  | 1.07         |\n",
       "|    value_loss           | 0.455        |\n",
       "------------------------------------------\n",
       "</pre>\n"
      ],
      "text/plain": [
       "------------------------------------------\n",
       "| rollout/                |              |\n",
       "|    ep_len_mean          | 767          |\n",
       "|    ep_rew_mean          | 0.518        |\n",
       "| time/                   |              |\n",
       "|    fps                  | 100          |\n",
       "|    iterations           | 42           |\n",
       "|    time_elapsed         | 856          |\n",
       "|    total_timesteps      | 86016        |\n",
       "| train/                  |              |\n",
       "|    approx_kl            | 0.0039298255 |\n",
       "|    clip_fraction        | 0.0367       |\n",
       "|    clip_range           | 0.2          |\n",
       "|    entropy_loss         | -7.43        |\n",
       "|    explained_variance   | -0.00331     |\n",
       "|    learning_rate        | 0.0003       |\n",
       "|    loss                 | 0.128        |\n",
       "|    n_updates            | 410          |\n",
       "|    policy_gradient_loss | 0.000479     |\n",
       "|    std                  | 1.07         |\n",
       "|    value_loss           | 0.455        |\n",
       "------------------------------------------\n"
      ]
     },
     "metadata": {},
     "output_type": "display_data"
    },
    {
     "name": "stdout",
     "output_type": "stream",
     "text": [
      "day: 766, episode: 122\n",
      "begin_total_asset: 100000.00\n",
      "end_total_asset: 155628.09\n",
      "total_reward: 55628.09\n",
      "total_cost: 11516.08\n",
      "total_trades: 2558\n",
      "Sharpe: 0.641\n",
      "=================================\n",
      "day: 766, episode: 123\n",
      "begin_total_asset: 100000.00\n",
      "end_total_asset: 138482.42\n",
      "total_reward: 38482.42\n",
      "total_cost: 9794.01\n",
      "total_trades: 2543\n",
      "Sharpe: 0.512\n",
      "=================================\n"
     ]
    },
    {
     "data": {
      "text/html": [
       "<pre style=\"white-space:pre;overflow-x:auto;line-height:normal;font-family:Menlo,'DejaVu Sans Mono',consolas,'Courier New',monospace\">------------------------------------------\n",
       "| rollout/                |              |\n",
       "|    ep_len_mean          | 767          |\n",
       "|    ep_rew_mean          | 0.661        |\n",
       "| time/                   |              |\n",
       "|    fps                  | 100          |\n",
       "|    iterations           | 43           |\n",
       "|    time_elapsed         | 873          |\n",
       "|    total_timesteps      | 88064        |\n",
       "| train/                  |              |\n",
       "|    approx_kl            | 0.0051521403 |\n",
       "|    clip_fraction        | 0.0255       |\n",
       "|    clip_range           | 0.2          |\n",
       "|    entropy_loss         | -7.44        |\n",
       "|    explained_variance   | 0.000556     |\n",
       "|    learning_rate        | 0.0003       |\n",
       "|    loss                 | 0.0761       |\n",
       "|    n_updates            | 420          |\n",
       "|    policy_gradient_loss | 1.57e-05     |\n",
       "|    std                  | 1.08         |\n",
       "|    value_loss           | 0.5          |\n",
       "------------------------------------------\n",
       "</pre>\n"
      ],
      "text/plain": [
       "------------------------------------------\n",
       "| rollout/                |              |\n",
       "|    ep_len_mean          | 767          |\n",
       "|    ep_rew_mean          | 0.661        |\n",
       "| time/                   |              |\n",
       "|    fps                  | 100          |\n",
       "|    iterations           | 43           |\n",
       "|    time_elapsed         | 873          |\n",
       "|    total_timesteps      | 88064        |\n",
       "| train/                  |              |\n",
       "|    approx_kl            | 0.0051521403 |\n",
       "|    clip_fraction        | 0.0255       |\n",
       "|    clip_range           | 0.2          |\n",
       "|    entropy_loss         | -7.44        |\n",
       "|    explained_variance   | 0.000556     |\n",
       "|    learning_rate        | 0.0003       |\n",
       "|    loss                 | 0.0761       |\n",
       "|    n_updates            | 420          |\n",
       "|    policy_gradient_loss | 1.57e-05     |\n",
       "|    std                  | 1.08         |\n",
       "|    value_loss           | 0.5          |\n",
       "------------------------------------------\n"
      ]
     },
     "metadata": {},
     "output_type": "display_data"
    },
    {
     "name": "stdout",
     "output_type": "stream",
     "text": [
      "day: 766, episode: 124\n",
      "begin_total_asset: 100000.00\n",
      "end_total_asset: 130206.13\n",
      "total_reward: 30206.13\n",
      "total_cost: 9322.65\n",
      "total_trades: 2517\n",
      "Sharpe: 0.442\n",
      "=================================\n",
      "day: 766, episode: 125\n",
      "begin_total_asset: 100000.00\n",
      "end_total_asset: 130614.37\n",
      "total_reward: 30614.37\n",
      "total_cost: 8925.29\n",
      "total_trades: 2490\n",
      "Sharpe: 0.446\n",
      "=================================\n",
      "day: 766, episode: 126\n",
      "begin_total_asset: 100000.00\n",
      "end_total_asset: 128659.88\n",
      "total_reward: 28659.88\n",
      "total_cost: 7819.61\n",
      "total_trades: 2555\n",
      "Sharpe: 0.427\n",
      "=================================\n"
     ]
    },
    {
     "data": {
      "text/html": [
       "<pre style=\"white-space:pre;overflow-x:auto;line-height:normal;font-family:Menlo,'DejaVu Sans Mono',consolas,'Courier New',monospace\">------------------------------------------\n",
       "| rollout/                |              |\n",
       "|    ep_len_mean          | 767          |\n",
       "|    ep_rew_mean          | 0.823        |\n",
       "| time/                   |              |\n",
       "|    fps                  | 101          |\n",
       "|    iterations           | 44           |\n",
       "|    time_elapsed         | 883          |\n",
       "|    total_timesteps      | 90112        |\n",
       "| train/                  |              |\n",
       "|    approx_kl            | 0.0051704636 |\n",
       "|    clip_fraction        | 0.0483       |\n",
       "|    clip_range           | 0.2          |\n",
       "|    entropy_loss         | -7.48        |\n",
       "|    explained_variance   | 0.000604     |\n",
       "|    learning_rate        | 0.0003       |\n",
       "|    loss                 | 0.158        |\n",
       "|    n_updates            | 430          |\n",
       "|    policy_gradient_loss | -0.00232     |\n",
       "|    std                  | 1.09         |\n",
       "|    value_loss           | 0.45         |\n",
       "------------------------------------------\n",
       "</pre>\n"
      ],
      "text/plain": [
       "------------------------------------------\n",
       "| rollout/                |              |\n",
       "|    ep_len_mean          | 767          |\n",
       "|    ep_rew_mean          | 0.823        |\n",
       "| time/                   |              |\n",
       "|    fps                  | 101          |\n",
       "|    iterations           | 44           |\n",
       "|    time_elapsed         | 883          |\n",
       "|    total_timesteps      | 90112        |\n",
       "| train/                  |              |\n",
       "|    approx_kl            | 0.0051704636 |\n",
       "|    clip_fraction        | 0.0483       |\n",
       "|    clip_range           | 0.2          |\n",
       "|    entropy_loss         | -7.48        |\n",
       "|    explained_variance   | 0.000604     |\n",
       "|    learning_rate        | 0.0003       |\n",
       "|    loss                 | 0.158        |\n",
       "|    n_updates            | 430          |\n",
       "|    policy_gradient_loss | -0.00232     |\n",
       "|    std                  | 1.09         |\n",
       "|    value_loss           | 0.45         |\n",
       "------------------------------------------\n"
      ]
     },
     "metadata": {},
     "output_type": "display_data"
    },
    {
     "name": "stdout",
     "output_type": "stream",
     "text": [
      "day: 766, episode: 127\n",
      "begin_total_asset: 100000.00\n",
      "end_total_asset: 124875.76\n",
      "total_reward: 24875.76\n",
      "total_cost: 11127.64\n",
      "total_trades: 2504\n",
      "Sharpe: 0.396\n",
      "=================================\n",
      "day: 766, episode: 128\n",
      "begin_total_asset: 100000.00\n",
      "end_total_asset: 134621.27\n",
      "total_reward: 34621.27\n",
      "total_cost: 8090.66\n",
      "total_trades: 2487\n",
      "Sharpe: 0.476\n",
      "=================================\n",
      "day: 766, episode: 129\n",
      "begin_total_asset: 100000.00\n",
      "end_total_asset: 158712.97\n",
      "total_reward: 58712.97\n",
      "total_cost: 10178.79\n",
      "total_trades: 2489\n",
      "Sharpe: 0.662\n",
      "=================================\n"
     ]
    },
    {
     "data": {
      "text/html": [
       "<pre style=\"white-space:pre;overflow-x:auto;line-height:normal;font-family:Menlo,'DejaVu Sans Mono',consolas,'Courier New',monospace\">------------------------------------------\n",
       "| rollout/                |              |\n",
       "|    ep_len_mean          | 767          |\n",
       "|    ep_rew_mean          | 1.04         |\n",
       "| time/                   |              |\n",
       "|    fps                  | 103          |\n",
       "|    iterations           | 45           |\n",
       "|    time_elapsed         | 894          |\n",
       "|    total_timesteps      | 92160        |\n",
       "| train/                  |              |\n",
       "|    approx_kl            | 0.0072433236 |\n",
       "|    clip_fraction        | 0.0518       |\n",
       "|    clip_range           | 0.2          |\n",
       "|    entropy_loss         | -7.51        |\n",
       "|    explained_variance   | 0.00207      |\n",
       "|    learning_rate        | 0.0003       |\n",
       "|    loss                 | 0.0628       |\n",
       "|    n_updates            | 440          |\n",
       "|    policy_gradient_loss | -0.00121     |\n",
       "|    std                  | 1.09         |\n",
       "|    value_loss           | 0.442        |\n",
       "------------------------------------------\n",
       "</pre>\n"
      ],
      "text/plain": [
       "------------------------------------------\n",
       "| rollout/                |              |\n",
       "|    ep_len_mean          | 767          |\n",
       "|    ep_rew_mean          | 1.04         |\n",
       "| time/                   |              |\n",
       "|    fps                  | 103          |\n",
       "|    iterations           | 45           |\n",
       "|    time_elapsed         | 894          |\n",
       "|    total_timesteps      | 92160        |\n",
       "| train/                  |              |\n",
       "|    approx_kl            | 0.0072433236 |\n",
       "|    clip_fraction        | 0.0518       |\n",
       "|    clip_range           | 0.2          |\n",
       "|    entropy_loss         | -7.51        |\n",
       "|    explained_variance   | 0.00207      |\n",
       "|    learning_rate        | 0.0003       |\n",
       "|    loss                 | 0.0628       |\n",
       "|    n_updates            | 440          |\n",
       "|    policy_gradient_loss | -0.00121     |\n",
       "|    std                  | 1.09         |\n",
       "|    value_loss           | 0.442        |\n",
       "------------------------------------------\n"
      ]
     },
     "metadata": {},
     "output_type": "display_data"
    },
    {
     "name": "stdout",
     "output_type": "stream",
     "text": [
      "day: 766, episode: 130\n",
      "begin_total_asset: 100000.00\n",
      "end_total_asset: 146007.92\n",
      "total_reward: 46007.92\n",
      "total_cost: 6256.74\n",
      "total_trades: 2488\n",
      "Sharpe: 0.560\n",
      "=================================\n",
      "day: 766, episode: 131\n",
      "begin_total_asset: 100000.00\n",
      "end_total_asset: 143690.44\n",
      "total_reward: 43690.44\n",
      "total_cost: 9964.56\n",
      "total_trades: 2546\n",
      "Sharpe: 0.551\n",
      "=================================\n"
     ]
    },
    {
     "data": {
      "text/html": [
       "<pre style=\"white-space:pre;overflow-x:auto;line-height:normal;font-family:Menlo,'DejaVu Sans Mono',consolas,'Courier New',monospace\">-----------------------------------------\n",
       "| rollout/                |             |\n",
       "|    ep_len_mean          | 767         |\n",
       "|    ep_rew_mean          | 1.15        |\n",
       "| time/                   |             |\n",
       "|    fps                  | 103         |\n",
       "|    iterations           | 46          |\n",
       "|    time_elapsed         | 907         |\n",
       "|    total_timesteps      | 94208       |\n",
       "| train/                  |             |\n",
       "|    approx_kl            | 0.005002602 |\n",
       "|    clip_fraction        | 0.0407      |\n",
       "|    clip_range           | 0.2         |\n",
       "|    entropy_loss         | -7.53       |\n",
       "|    explained_variance   | 9.45e-05    |\n",
       "|    learning_rate        | 0.0003      |\n",
       "|    loss                 | 0.111       |\n",
       "|    n_updates            | 450         |\n",
       "|    policy_gradient_loss | -0.000877   |\n",
       "|    std                  | 1.1         |\n",
       "|    value_loss           | 0.552       |\n",
       "-----------------------------------------\n",
       "</pre>\n"
      ],
      "text/plain": [
       "-----------------------------------------\n",
       "| rollout/                |             |\n",
       "|    ep_len_mean          | 767         |\n",
       "|    ep_rew_mean          | 1.15        |\n",
       "| time/                   |             |\n",
       "|    fps                  | 103         |\n",
       "|    iterations           | 46          |\n",
       "|    time_elapsed         | 907         |\n",
       "|    total_timesteps      | 94208       |\n",
       "| train/                  |             |\n",
       "|    approx_kl            | 0.005002602 |\n",
       "|    clip_fraction        | 0.0407      |\n",
       "|    clip_range           | 0.2         |\n",
       "|    entropy_loss         | -7.53       |\n",
       "|    explained_variance   | 9.45e-05    |\n",
       "|    learning_rate        | 0.0003      |\n",
       "|    loss                 | 0.111       |\n",
       "|    n_updates            | 450         |\n",
       "|    policy_gradient_loss | -0.000877   |\n",
       "|    std                  | 1.1         |\n",
       "|    value_loss           | 0.552       |\n",
       "-----------------------------------------\n"
      ]
     },
     "metadata": {},
     "output_type": "display_data"
    },
    {
     "name": "stdout",
     "output_type": "stream",
     "text": [
      "day: 766, episode: 132\n",
      "begin_total_asset: 100000.00\n",
      "end_total_asset: 139671.29\n",
      "total_reward: 39671.29\n",
      "total_cost: 6669.83\n",
      "total_trades: 2457\n",
      "Sharpe: 0.512\n",
      "=================================\n",
      "day: 766, episode: 133\n",
      "begin_total_asset: 100000.00\n",
      "end_total_asset: 150303.48\n",
      "total_reward: 50303.48\n",
      "total_cost: 9151.21\n",
      "total_trades: 2481\n",
      "Sharpe: 0.594\n",
      "=================================\n",
      "day: 766, episode: 134\n",
      "begin_total_asset: 100000.00\n",
      "end_total_asset: 140051.28\n",
      "total_reward: 40051.28\n",
      "total_cost: 8474.56\n",
      "total_trades: 2475\n",
      "Sharpe: 0.520\n",
      "=================================\n"
     ]
    },
    {
     "data": {
      "text/html": [
       "<pre style=\"white-space:pre;overflow-x:auto;line-height:normal;font-family:Menlo,'DejaVu Sans Mono',consolas,'Courier New',monospace\">-----------------------------------------\n",
       "| rollout/                |             |\n",
       "|    ep_len_mean          | 767         |\n",
       "|    ep_rew_mean          | 1.45        |\n",
       "| time/                   |             |\n",
       "|    fps                  | 95          |\n",
       "|    iterations           | 47          |\n",
       "|    time_elapsed         | 1012        |\n",
       "|    total_timesteps      | 96256       |\n",
       "| train/                  |             |\n",
       "|    approx_kl            | 0.006644939 |\n",
       "|    clip_fraction        | 0.0561      |\n",
       "|    clip_range           | 0.2         |\n",
       "|    entropy_loss         | -7.54       |\n",
       "|    explained_variance   | 0.000798    |\n",
       "|    learning_rate        | 0.0003      |\n",
       "|    loss                 | 0.171       |\n",
       "|    n_updates            | 460         |\n",
       "|    policy_gradient_loss | -0.00121    |\n",
       "|    std                  | 1.1         |\n",
       "|    value_loss           | 0.51        |\n",
       "-----------------------------------------\n",
       "</pre>\n"
      ],
      "text/plain": [
       "-----------------------------------------\n",
       "| rollout/                |             |\n",
       "|    ep_len_mean          | 767         |\n",
       "|    ep_rew_mean          | 1.45        |\n",
       "| time/                   |             |\n",
       "|    fps                  | 95          |\n",
       "|    iterations           | 47          |\n",
       "|    time_elapsed         | 1012        |\n",
       "|    total_timesteps      | 96256       |\n",
       "| train/                  |             |\n",
       "|    approx_kl            | 0.006644939 |\n",
       "|    clip_fraction        | 0.0561      |\n",
       "|    clip_range           | 0.2         |\n",
       "|    entropy_loss         | -7.54       |\n",
       "|    explained_variance   | 0.000798    |\n",
       "|    learning_rate        | 0.0003      |\n",
       "|    loss                 | 0.171       |\n",
       "|    n_updates            | 460         |\n",
       "|    policy_gradient_loss | -0.00121    |\n",
       "|    std                  | 1.1         |\n",
       "|    value_loss           | 0.51        |\n",
       "-----------------------------------------\n"
      ]
     },
     "metadata": {},
     "output_type": "display_data"
    },
    {
     "name": "stdout",
     "output_type": "stream",
     "text": [
      "day: 766, episode: 135\n",
      "begin_total_asset: 100000.00\n",
      "end_total_asset: 127280.57\n",
      "total_reward: 27280.57\n",
      "total_cost: 6246.17\n",
      "total_trades: 2477\n",
      "Sharpe: 0.412\n",
      "=================================\n",
      "day: 766, episode: 136\n",
      "begin_total_asset: 100000.00\n",
      "end_total_asset: 136440.65\n",
      "total_reward: 36440.65\n",
      "total_cost: 7152.92\n",
      "total_trades: 2445\n",
      "Sharpe: 0.488\n",
      "=================================\n",
      "day: 766, episode: 137\n",
      "begin_total_asset: 100000.00\n",
      "end_total_asset: 141415.15\n",
      "total_reward: 41415.15\n",
      "total_cost: 5286.02\n",
      "total_trades: 2432\n",
      "Sharpe: 0.523\n",
      "=================================\n"
     ]
    },
    {
     "data": {
      "text/html": [
       "<pre style=\"white-space:pre;overflow-x:auto;line-height:normal;font-family:Menlo,'DejaVu Sans Mono',consolas,'Courier New',monospace\">-----------------------------------------\n",
       "| rollout/                |             |\n",
       "|    ep_len_mean          | 767         |\n",
       "|    ep_rew_mean          | 1.65        |\n",
       "| time/                   |             |\n",
       "|    fps                  | 91          |\n",
       "|    iterations           | 48          |\n",
       "|    time_elapsed         | 1074        |\n",
       "|    total_timesteps      | 98304       |\n",
       "| train/                  |             |\n",
       "|    approx_kl            | 0.006583772 |\n",
       "|    clip_fraction        | 0.0617      |\n",
       "|    clip_range           | 0.2         |\n",
       "|    entropy_loss         | -7.54       |\n",
       "|    explained_variance   | -0.000434   |\n",
       "|    learning_rate        | 0.0003      |\n",
       "|    loss                 | 0.225       |\n",
       "|    n_updates            | 470         |\n",
       "|    policy_gradient_loss | -0.000913   |\n",
       "|    std                  | 1.1         |\n",
       "|    value_loss           | 0.599       |\n",
       "-----------------------------------------\n",
       "</pre>\n"
      ],
      "text/plain": [
       "-----------------------------------------\n",
       "| rollout/                |             |\n",
       "|    ep_len_mean          | 767         |\n",
       "|    ep_rew_mean          | 1.65        |\n",
       "| time/                   |             |\n",
       "|    fps                  | 91          |\n",
       "|    iterations           | 48          |\n",
       "|    time_elapsed         | 1074        |\n",
       "|    total_timesteps      | 98304       |\n",
       "| train/                  |             |\n",
       "|    approx_kl            | 0.006583772 |\n",
       "|    clip_fraction        | 0.0617      |\n",
       "|    clip_range           | 0.2         |\n",
       "|    entropy_loss         | -7.54       |\n",
       "|    explained_variance   | -0.000434   |\n",
       "|    learning_rate        | 0.0003      |\n",
       "|    loss                 | 0.225       |\n",
       "|    n_updates            | 470         |\n",
       "|    policy_gradient_loss | -0.000913   |\n",
       "|    std                  | 1.1         |\n",
       "|    value_loss           | 0.599       |\n",
       "-----------------------------------------\n"
      ]
     },
     "metadata": {},
     "output_type": "display_data"
    },
    {
     "name": "stdout",
     "output_type": "stream",
     "text": [
      "day: 766, episode: 138\n",
      "begin_total_asset: 100000.00\n",
      "end_total_asset: 137947.91\n",
      "total_reward: 37947.91\n",
      "total_cost: 7129.38\n",
      "total_trades: 2557\n",
      "Sharpe: 0.500\n",
      "=================================\n",
      "day: 766, episode: 139\n",
      "begin_total_asset: 100000.00\n",
      "end_total_asset: 139549.89\n",
      "total_reward: 39549.89\n",
      "total_cost: 6599.36\n",
      "total_trades: 2423\n",
      "Sharpe: 0.513\n",
      "=================================\n"
     ]
    },
    {
     "data": {
      "text/html": [
       "<pre style=\"white-space:pre;overflow-x:auto;line-height:normal;font-family:Menlo,'DejaVu Sans Mono',consolas,'Courier New',monospace\">------------------------------------------\n",
       "| rollout/                |              |\n",
       "|    ep_len_mean          | 767          |\n",
       "|    ep_rew_mean          | 1.81         |\n",
       "| time/                   |              |\n",
       "|    fps                  | 89           |\n",
       "|    iterations           | 49           |\n",
       "|    time_elapsed         | 1116         |\n",
       "|    total_timesteps      | 100352       |\n",
       "| train/                  |              |\n",
       "|    approx_kl            | 0.0055864695 |\n",
       "|    clip_fraction        | 0.0728       |\n",
       "|    clip_range           | 0.2          |\n",
       "|    entropy_loss         | -7.55        |\n",
       "|    explained_variance   | -0.000144    |\n",
       "|    learning_rate        | 0.0003       |\n",
       "|    loss                 | 0.285        |\n",
       "|    n_updates            | 480          |\n",
       "|    policy_gradient_loss | -0.00382     |\n",
       "|    std                  | 1.1          |\n",
       "|    value_loss           | 0.541        |\n",
       "------------------------------------------\n",
       "</pre>\n"
      ],
      "text/plain": [
       "------------------------------------------\n",
       "| rollout/                |              |\n",
       "|    ep_len_mean          | 767          |\n",
       "|    ep_rew_mean          | 1.81         |\n",
       "| time/                   |              |\n",
       "|    fps                  | 89           |\n",
       "|    iterations           | 49           |\n",
       "|    time_elapsed         | 1116         |\n",
       "|    total_timesteps      | 100352       |\n",
       "| train/                  |              |\n",
       "|    approx_kl            | 0.0055864695 |\n",
       "|    clip_fraction        | 0.0728       |\n",
       "|    clip_range           | 0.2          |\n",
       "|    entropy_loss         | -7.55        |\n",
       "|    explained_variance   | -0.000144    |\n",
       "|    learning_rate        | 0.0003       |\n",
       "|    loss                 | 0.285        |\n",
       "|    n_updates            | 480          |\n",
       "|    policy_gradient_loss | -0.00382     |\n",
       "|    std                  | 1.1          |\n",
       "|    value_loss           | 0.541        |\n",
       "------------------------------------------\n"
      ]
     },
     "metadata": {},
     "output_type": "display_data"
    },
    {
     "name": "stdout",
     "output_type": "stream",
     "text": [
      "\\n✅ Training completed successfully!\n",
      "⏱️ Training time: 18.76 minutes\n",
      "💾 Model saved to models\\trained_ppo_simple\n",
      "💾 Training info saved to models\\training_info_ppo.pkl\n",
      "\\n🎉 PPO agent training completed!\n",
      "📊 Training summary:\n",
      "  Model: PPO\n",
      "  Training time: 18.76 minutes\n",
      "  Total timesteps: 100,000\n",
      "  Model saved to: models\\trained_ppo_simple\n",
      "  Used callbacks: False\n"
     ]
    }
   ],
   "source": [
    "# ฟังก์ชันการเทรน Agent\n",
    "def create_and_train_agent(train_env, model_name, agent_configs, val_env=None):\n",
    "    \"\"\"\n",
    "    ฟังก์ชันการเทรน Agent ที่ปรับปรุงแล้ว\n",
    "    - รองรับการเทรนทั้งแบบง่ายและแบบ advanced พร้อม callbacks\n",
    "    \"\"\"\n",
    "    print(f\"🤖 Creating and training {model_name} agent...\")\n",
    "    start_time = time.time()\n",
    "    \n",
    "    try:\n",
    "        model_params = agent_configs[model_name].copy()\n",
    "        training_config = agent_configs['TRAINING']\n",
    "        \n",
    "        # ทำความสะอาด parameters\n",
    "        policy_kwargs = model_params.pop('policy_kwargs', None)\n",
    "        model_params.pop('device', None)\n",
    "        model_params.pop('verbose', None)\n",
    "        \n",
    "        print(f\"🧠 Model parameters:\")\n",
    "        for key, value in model_params.items():\n",
    "            print(f\"  {key}: {value}\")\n",
    "        if policy_kwargs:\n",
    "            print(f\"🧠 Policy kwargs: {policy_kwargs}\")\n",
    "        \n",
    "        # สร้าง callbacks หากมี validation environment\n",
    "        callbacks = None\n",
    "        if val_env is not None:\n",
    "            print(\"🔧 Creating training callbacks...\")\n",
    "            eval_callback = EvalCallback(\n",
    "                val_env,\n",
    "                best_model_save_path=os.path.join(MODEL_DIR, f\"best_{model_name.lower()}_model\"),\n",
    "                log_path=os.path.join(LOGS_DIR, f\"eval_{model_name.lower()}\"),\n",
    "                eval_freq=5000,\n",
    "                n_eval_episodes=3,\n",
    "                deterministic=True,\n",
    "                render=False,\n",
    "                verbose=1\n",
    "            )\n",
    "            callbacks = [eval_callback]\n",
    "            print(\"✅ Training callbacks created\")\n",
    "        \n",
    "        # สร้าง model ด้วย stable_baselines3\n",
    "        from stable_baselines3 import PPO, A2C, DDPG, SAC\n",
    "        model_classes = {'PPO': PPO, 'A2C': A2C, 'DDPG': DDPG, 'SAC': SAC}\n",
    "        \n",
    "        if model_name not in model_classes:\n",
    "            raise ValueError(f\"Unsupported model: {model_name}\")\n",
    "        \n",
    "        ModelClass = model_classes[model_name]\n",
    "        \n",
    "        # เพิ่ม policy_kwargs หากมี\n",
    "        if policy_kwargs:\n",
    "            model_params['policy_kwargs'] = policy_kwargs\n",
    "        \n",
    "        model = ModelClass(\n",
    "            policy=\"MlpPolicy\",\n",
    "            env=train_env,\n",
    "            verbose=1,\n",
    "            **model_params\n",
    "        )\n",
    "        print(f\"✅ {model_name} model created\")\n",
    "        \n",
    "        print(f\"\\\\n🏃 Starting training...\")\n",
    "        print(f\"📊 Training timesteps: {training_config['total_timesteps']:,}\")\n",
    "        \n",
    "        # เทรน model\n",
    "        learn_kwargs = {\n",
    "            'total_timesteps': training_config['total_timesteps'],\n",
    "        }\n",
    "        \n",
    "        # เพิ่ม callbacks หากมี\n",
    "        if callbacks:\n",
    "            learn_kwargs['callback'] = callbacks\n",
    "            learn_kwargs['tb_log_name'] = training_config.get('tb_log_name', 'crypto_trading')\n",
    "        \n",
    "        # ใช้ progress_bar หาก tqdm และ rich พร้อมใช้งาน\n",
    "        try:\n",
    "            import tqdm\n",
    "            import rich\n",
    "            learn_kwargs['progress_bar'] = True\n",
    "            print(\"✅ ใช้ progress bar\")\n",
    "        except ImportError:\n",
    "            print(\"⚠️ ไม่ใช้ progress bar (tqdm/rich ไม่พร้อมใช้งาน)\")\n",
    "        \n",
    "        trained_model = model.learn(**learn_kwargs)\n",
    "        \n",
    "        training_time = time.time() - start_time\n",
    "        print(f\"\\\\n✅ Training completed successfully!\")\n",
    "        print(f\"⏱️ Training time: {training_time/60:.2f} minutes\")\n",
    "        \n",
    "        # บันทึก model\n",
    "        model_path = os.path.join(MODEL_DIR, f\"trained_{model_name.lower()}_model\")\n",
    "        trained_model.save(model_path)\n",
    "        print(f\"💾 Model saved to {model_path}\")\n",
    "        \n",
    "        # สร้าง training info\n",
    "        training_info = {\n",
    "            'model_name': model_name,\n",
    "            'training_time_minutes': training_time/60,\n",
    "            'total_timesteps': training_config['total_timesteps'],\n",
    "            'training_start': datetime.now().isoformat(),\n",
    "            'model_params': model_params,\n",
    "            'training_config': training_config,\n",
    "            'model_path': model_path,\n",
    "            'has_callbacks': callbacks is not None\n",
    "        }\n",
    "        \n",
    "        # บันทึก training info\n",
    "        training_info_file = os.path.join(MODEL_DIR, f\"training_info_{model_name.lower()}.pkl\")\n",
    "        with open(training_info_file, 'wb') as f:\n",
    "            pickle.dump(training_info, f)\n",
    "        print(f\"💾 Training info saved to {training_info_file}\")\n",
    "        \n",
    "        return trained_model, training_info\n",
    "        \n",
    "    except Exception as e:\n",
    "        print(f\"❌ Error during training: {str(e)}\")\n",
    "        import traceback\n",
    "        print(f\"📋 Full error traceback:\")\n",
    "        traceback.print_exc()\n",
    "        return None, None\n",
    "\n",
    "# ฟังก์ชันการเทรนแบบง่าย (ไม่ใช้ callbacks เพื่อหลีกเลี่ยง observation space mismatch)\n",
    "def create_and_train_agent_simple(train_env, model_name, agent_configs):\n",
    "    \"\"\"\n",
    "    ฟังก์ชันการเทรน Agent แบบง่าย ไม่ใช้ callbacks\n",
    "    \"\"\"\n",
    "    print(f\"🤖 Creating and training {model_name} agent (Simple version)...\")\n",
    "    start_time = time.time()\n",
    "    \n",
    "    try:\n",
    "        model_params = agent_configs[model_name].copy()\n",
    "        training_config = agent_configs['TRAINING']\n",
    "        \n",
    "        # ทำความสะอาด parameters\n",
    "        policy_kwargs = model_params.pop('policy_kwargs', None)\n",
    "        model_params.pop('device', None)\n",
    "        model_params.pop('verbose', None)\n",
    "        \n",
    "        print(f\"🧠 Model parameters:\")\n",
    "        for key, value in model_params.items():\n",
    "            print(f\"  {key}: {value}\")\n",
    "        if policy_kwargs:\n",
    "            print(f\"🧠 Policy kwargs: {policy_kwargs}\")\n",
    "        \n",
    "        # สร้าง model โดยใช้ stable_baselines3 โดยตรง\n",
    "        from stable_baselines3 import PPO, A2C, DDPG, SAC\n",
    "        model_classes = {'PPO': PPO, 'A2C': A2C, 'DDPG': DDPG, 'SAC': SAC}\n",
    "        \n",
    "        if model_name not in model_classes:\n",
    "            raise ValueError(f\"Unsupported model: {model_name}\")\n",
    "        \n",
    "        ModelClass = model_classes[model_name]\n",
    "        \n",
    "        # เพิ่ม policy_kwargs หากมี\n",
    "        if policy_kwargs:\n",
    "            model_params['policy_kwargs'] = policy_kwargs\n",
    "        \n",
    "        model = ModelClass(\n",
    "            policy=\"MlpPolicy\",\n",
    "            env=train_env,\n",
    "            verbose=1,\n",
    "            **model_params\n",
    "        )\n",
    "        print(f\"✅ {model_name} model created\")\n",
    "        \n",
    "        print(f\"\\\\n🏃 Starting training...\")\n",
    "        print(f\"📊 Training timesteps: {training_config['total_timesteps']:,}\")\n",
    "        \n",
    "        # เทรน model แบบง่ายๆ ไม่ใช้ callbacks และไม่ใช้ progress_bar เพื่อหลีกเลี่ยง live display conflict\n",
    "        trained_model = model.learn(\n",
    "            total_timesteps=training_config['total_timesteps'],\n",
    "            progress_bar=False\n",
    "        )\n",
    "        \n",
    "        training_time = time.time() - start_time\n",
    "        print(f\"\\\\n✅ Training completed successfully!\")\n",
    "        print(f\"⏱️ Training time: {training_time/60:.2f} minutes\")\n",
    "        \n",
    "        # บันทึก model\n",
    "        model_path = os.path.join(MODEL_DIR, f\"trained_{model_name.lower()}_simple\")\n",
    "        trained_model.save(model_path)\n",
    "        print(f\"💾 Model saved to {model_path}\")\n",
    "        \n",
    "        # สร้าง training info\n",
    "        training_info = {\n",
    "            'model_name': model_name,\n",
    "            'training_time_minutes': training_time/60,\n",
    "            'total_timesteps': training_config['total_timesteps'],\n",
    "            'training_start': datetime.now().isoformat(),\n",
    "            'model_params': model_params,\n",
    "            'training_config': training_config,\n",
    "            'model_path': model_path,\n",
    "            'has_callbacks': False\n",
    "        }\n",
    "        \n",
    "        # บันทึก training info\n",
    "        training_info_file = os.path.join(MODEL_DIR, f\"training_info_{model_name.lower()}.pkl\")\n",
    "        with open(training_info_file, 'wb') as f:\n",
    "            pickle.dump(training_info, f)\n",
    "        print(f\"💾 Training info saved to {training_info_file}\")\n",
    "        \n",
    "        return trained_model, training_info\n",
    "        \n",
    "    except Exception as e:\n",
    "        print(f\"❌ Error during training: {str(e)}\")\n",
    "        import traceback\n",
    "        print(f\"📋 Full error traceback:\")\n",
    "        traceback.print_exc()\n",
    "        return None, None\n",
    "\n",
    "# เริ่มการเทรน Agent แบบง่าย (ปิด progress_bar เพื่อหลีกเลี่ยง rich display conflict)\n",
    "print(\"🚀 Starting simple agent training (without callbacks and progress bar)...\")\n",
    "trained_model, training_info = create_and_train_agent_simple(train_env, model_name, agent_configs)\n",
    "\n",
    "if training_info is not None:\n",
    "    print(f\"\\\\n🎉 {model_name} agent training completed!\")\n",
    "    print(f\"📊 Training summary:\")\n",
    "    print(f\"  Model: {training_info['model_name']}\")\n",
    "    print(f\"  Training time: {training_info['training_time_minutes']:.2f} minutes\")\n",
    "    print(f\"  Total timesteps: {training_info['total_timesteps']:,}\")\n",
    "    print(f\"  Model saved to: {training_info['model_path']}\")\n",
    "    print(f\"  Used callbacks: {training_info['has_callbacks']}\")\n",
    "else:\n",
    "    print(f\"\\\\n❌ Training failed!\")\n"
   ]
  },
  {
   "cell_type": "markdown",
   "metadata": {},
   "source": [
    "### Simple Train success"
   ]
  },
  {
   "cell_type": "markdown",
   "metadata": {
    "vscode": {
     "languageId": "raw"
    }
   },
   "source": [
    "## Cell 4: ประเมินผลการเทรน\n"
   ]
  },
  {
   "cell_type": "code",
   "execution_count": 21,
   "metadata": {},
   "outputs": [
    {
     "name": "stdout",
     "output_type": "stream",
     "text": [
      "\\n📊 การวิเคราะห์ผลการเทรน\n",
      "==================================================\n",
      "🤖 Model: PPO\n",
      "⏱️ เวลาการเทรน: 18.76 นาที\n",
      "🔢 Total timesteps: 100,000\n",
      "📁 Model path: models\\trained_ppo_simple\n",
      "🔧 ใช้ callbacks: False\n",
      "\\n🧪 ทดสอบ model ด้วยข้อมูล validation...\n",
      "🏃 เริ่มทดสอบ...\n",
      "❌ เกิดข้อผิดพลาดในการทดสอบ: You have passed a tuple to the predict() function instead of a Numpy array or a Dict. You are probably mixing Gym API with SB3 VecEnv API: `obs, info = env.reset()` (Gym) vs `obs = vec_env.reset()` (SB3 VecEnv). See related issue https://github.com/DLR-RM/stable-baselines3/issues/1694 and documentation for more information: https://stable-baselines3.readthedocs.io/en/master/guide/vec_envs.html#vecenv-api-vs-gym-api\n",
      "\\n🎉 การเทรน Agent เสร็จสมบูรณ์!\n",
      "📈 พร้อมใช้งานสำหรับการ trading\n"
     ]
    }
   ],
   "source": [
    "# วิเคราะห์ผลการเทรนและทดสอบ model\n",
    "if trained_model is not None and training_info is not None:\n",
    "    print(\"\\\\n📊 การวิเคราะห์ผลการเทรน\")\n",
    "    print(\"=\" * 50)\n",
    "    \n",
    "    # แสดงรายละเอียดการเทรน\n",
    "    print(f\"🤖 Model: {training_info['model_name']}\")\n",
    "    print(f\"⏱️ เวลาการเทรน: {training_info['training_time_minutes']:.2f} นาที\")\n",
    "    print(f\"🔢 Total timesteps: {training_info['total_timesteps']:,}\")\n",
    "    print(f\"📁 Model path: {training_info['model_path']}\")\n",
    "    print(f\"🔧 ใช้ callbacks: {training_info['has_callbacks']}\")\n",
    "    \n",
    "    # ทดสอบ model ด้วยข้อมูล validation\n",
    "    print(f\"\\\\n🧪 ทดสอบ model ด้วยข้อมูล validation...\")\n",
    "    \n",
    "    try:\n",
    "        # สร้าง environment สำหรับทดสอบ\n",
    "        obs = val_env.reset()\n",
    "        total_reward = 0\n",
    "        episode_steps = 0\n",
    "        done = False\n",
    "        \n",
    "        print(\"🏃 เริ่มทดสอบ...\")\n",
    "        while not done and episode_steps < 1000:  # จำกัดขั้นตอนเพื่อป้องกันการทำงานไม่สิ้นสุด\n",
    "            action, _ = trained_model.predict(obs, deterministic=True)\n",
    "            obs, reward, done, info = val_env.step(action)\n",
    "            total_reward += reward\n",
    "            episode_steps += 1\n",
    "        \n",
    "        print(f\"✅ ทดสอบเสร็จสิ้น\")\n",
    "        print(f\"📊 ผลการทดสอบ:\")\n",
    "        print(f\"  Total reward: {total_reward:.2f}\")\n",
    "        print(f\"  Episode steps: {episode_steps}\")\n",
    "        print(f\"  Average reward per step: {total_reward/episode_steps:.4f}\")\n",
    "        \n",
    "        # บันทึกผลการทดสอบ\n",
    "        test_results = {\n",
    "            'model_name': training_info['model_name'],\n",
    "            'total_reward': total_reward,\n",
    "            'episode_steps': episode_steps,\n",
    "            'avg_reward_per_step': total_reward/episode_steps,\n",
    "            'test_timestamp': datetime.now().isoformat()\n",
    "        }\n",
    "        \n",
    "        test_results_file = os.path.join(MODEL_DIR, f\"test_results_{model_name.lower()}.pkl\")\n",
    "        with open(test_results_file, 'wb') as f:\n",
    "            pickle.dump(test_results, f)\n",
    "        print(f\"💾 ผลการทดสอบบันทึกแล้วที่: {test_results_file}\")\n",
    "        \n",
    "    except Exception as e:\n",
    "        print(f\"❌ เกิดข้อผิดพลาดในการทดสอบ: {str(e)}\")\n",
    "    \n",
    "    print(f\"\\\\n🎉 การเทรน Agent เสร็จสมบูรณ์!\")\n",
    "    print(f\"📈 พร้อมใช้งานสำหรับการ trading\")\n",
    "    \n",
    "else:\n",
    "    print(\"❌ ไม่สามารถวิเคราะห์ผลได้ เนื่องจากการเทรนไม่สำเร็จ\")\n"
   ]
  },
  {
   "cell_type": "raw",
   "metadata": {
    "vscode": {
     "languageId": "raw"
    }
   },
   "source": [
    "## สรุปการเทรน Agent\n",
    "\n",
    "### สิ่งที่ได้ทำแล้ว:\n",
    "1. ✅ โหลดข้อมูลและ configurations จาก notebook ก่อนหน้า\n",
    "2. ✅ สร้าง training, validation และ test environments\n",
    "3. ✅ เทรน RL Agent ด้วยข้อมูล cryptocurrency\n",
    "4. ✅ ทดสอบ model ด้วยข้อมูล validation\n",
    "5. ✅ บันทึก model และผลการเทรน\n",
    "\n",
    "### ไฟล์ที่สร้าง:\n",
    "- `models/trained_{model_name}_model.zip` - โมเดลที่เทรนแล้ว\n",
    "- `models/training_info_{model_name}.pkl` - ข้อมูลการเทรน\n",
    "- `models/test_results_{model_name}.pkl` - ผลการทดสอบ\n",
    "- `logs/` - Log files สำหรับการ monitoring\n",
    "\n",
    "### ขั้นตอนต่อไป:\n",
    "1. รัน notebook นี้เพื่อเทรน agent\n",
    "2. ใช้ model ที่เทรนแล้วใน notebook ถัดไป (4_backtesting.ipynb)\n",
    "3. ประเมินผลการทำงานของ agent ด้วย backtesting\n"
   ]
  },
  {
   "cell_type": "markdown",
   "metadata": {},
   "source": [
    "# ตั้งแต่นี้ยังไม่ได้ตรวจ"
   ]
  },
  {
   "cell_type": "markdown",
   "metadata": {},
   "source": [
    "# 3. การเทรน Agent (Agent Training)\n",
    "## ขั้นตอนการเทรน RL Agent สำหรับ Crypto Trading\n",
    "\n",
    "### เป้าหมาย:\n",
    "- โหลด Agent ที่สร้างไว้\n",
    "- เทรน Agent ด้วยข้อมูล Training\n",
    "- Validate ผลการเทรนด้วยข้อมูล Validation\n",
    "- บันทึก Model ที่เทรนแล้ว\n",
    "- วิเคราะห์ Learning Progress"
   ]
  },
  {
   "cell_type": "markdown",
   "metadata": {},
   "source": [
    "## Cell 1: Import Libraries และโหลดข้อมูลก่อนหน้า"
   ]
  },
  {
   "cell_type": "code",
   "execution_count": null,
   "metadata": {},
   "outputs": [],
   "source": [
    "# ติดตั้งแพ็กเกจที่จำเป็น\n",
    "import subprocess\n",
    "import sys\n",
    "\n",
    "try:\n",
    "    import tqdm\n",
    "    import rich\n",
    "    print(\"✅ tqdm และ rich พร้อมใช้งานแล้ว\")\n",
    "except ImportError:\n",
    "    print(\"📦 กำลังติดตั้ง tqdm และ rich...\")\n",
    "    subprocess.check_call([sys.executable, \"-m\", \"pip\", \"install\", \"tqdm\", \"rich\"])\n",
    "    print(\"✅ ติดตั้ง tqdm และ rich เสร็จสิ้น\")\n",
    "\n",
    "import warnings\n",
    "warnings.filterwarnings('ignore')\n",
    "\n",
    "import pandas as pd\n",
    "import numpy as np\n",
    "import matplotlib.pyplot as plt\n",
    "import os\n",
    "import pickle\n",
    "import torch\n",
    "import time\n",
    "from datetime import datetime\n",
    "\n",
    "# FinRL imports\n",
    "from finrl.meta.env_stock_trading.env_stocktrading import StockTradingEnv\n",
    "from finrl.agents.stablebaselines3.models import DRLAgent\n",
    "from stable_baselines3.common.callbacks import EvalCallback, StopTrainingOnRewardThreshold\n",
    "from stable_baselines3.common.monitor import Monitor\n",
    "\n",
    "# Import config\n",
    "from config import *\n",
    "\n",
    "# Setup directories\n",
    "PROCESSED_DIR = \"processed_data\"\n",
    "MODEL_DIR = \"models\"\n",
    "AGENT_DIR = \"agents\"\n",
    "LOGS_DIR = \"logs\"\n",
    "TENSORBOARD_DIR = \"tensorboard_logs\"\n",
    "\n",
    "for dir_name in [MODEL_DIR, LOGS_DIR, TENSORBOARD_DIR]:\n",
    "    if not os.path.exists(dir_name):\n",
    "        os.makedirs(dir_name)\n",
    "\n",
    "print(\"📁 Setup directories completed\")\n",
    "print(f\"🚀 Starting Agent Training Process\")"
   ]
  },
  {
   "cell_type": "markdown",
   "metadata": {},
   "source": [
    "## Cell 2: โหลด Environment และ Agent"
   ]
  },
  {
   "cell_type": "code",
   "execution_count": null,
   "metadata": {},
   "outputs": [],
   "source": [
    "# แก้ไขปัญหา TypeError - recreate environments แบบใหม่\n",
    "def recreate_environments_fixed(df, env_config):\n",
    "    print(\"🏛️ Recreating environments (fixed version)...\")\n",
    "    \n",
    "    # แบ่งข้อมูล\n",
    "    total_len = len(df)\n",
    "    train_size = int(total_len * 0.7)\n",
    "    val_size = int(total_len * 0.15)\n",
    "    train_df = df.iloc[:train_size].reset_index(drop=True)\n",
    "    val_df = df.iloc[train_size:train_size + val_size].reset_index(drop=True)\n",
    "    test_df = df.iloc[train_size + val_size:].reset_index(drop=True)\n",
    "    \n",
    "    # เตรียมข้อมูลแต่ละชุด\n",
    "    for data in [train_df, val_df, test_df]:\n",
    "        data['timestamp'] = pd.to_datetime(data['timestamp'])\n",
    "        if 'date' not in data.columns:\n",
    "            data['date'] = data['timestamp'].dt.strftime('%Y-%m-%d')\n",
    "        else:\n",
    "            data['date'] = data['timestamp'].dt.strftime('%Y-%m-%d')\n",
    "        data.sort_values(['date', 'tic'], inplace=True)\n",
    "        data.reset_index(drop=True, inplace=True)\n",
    "        \n",
    "        # แปลงชื่อคอลัมน์เป็นตัวเล็กสำหรับ FinRL\n",
    "        column_mapping = {\n",
    "            'Open': 'open', 'High': 'high', 'Low': 'low',\n",
    "            'Close': 'close', 'Volume': 'volume'\n",
    "        }\n",
    "        for old_col, new_col in column_mapping.items():\n",
    "            if old_col in data.columns and new_col not in data.columns:\n",
    "                data[new_col] = data[old_col]\n",
    "        \n",
    "        # สร้าง day index สำหรับ FinRL\n",
    "        unique_dates = sorted(data['date'].unique())\n",
    "        date_to_index = {date: idx for idx, date in enumerate(unique_dates)}\n",
    "        data['day'] = data['date'].map(date_to_index)\n",
    "        data.set_index('day', inplace=True)\n",
    "    \n",
    "    # เตรียม environment kwargs โดยลบ df ออกเพื่อไม่ให้ซ้ำ\n",
    "    env_kwargs = env_config['env_kwargs'].copy()\n",
    "    env_kwargs.pop('df', None)  # ลบ df ออกเพื่อไม่ให้ส่งซ้ำ\n",
    "    \n",
    "    print(f\"🔧 Environment kwargs keys: {list(env_kwargs.keys())}\")\n",
    "    \n",
    "    # สร้าง environments\n",
    "    try:\n",
    "        train_env = StockTradingEnv(df=train_df, **env_kwargs)\n",
    "        print(\"✅ Train environment created\")\n",
    "        \n",
    "        val_env = StockTradingEnv(df=val_df, **env_kwargs)\n",
    "        print(\"✅ Validation environment created\")\n",
    "        \n",
    "        test_env = StockTradingEnv(df=test_df, **env_kwargs)\n",
    "        print(\"✅ Test environment created\")\n",
    "        \n",
    "        # Wrap with Monitor for logging\n",
    "        train_env = Monitor(train_env, os.path.join(LOGS_DIR, \"train_monitor\"))\n",
    "        val_env = Monitor(val_env, os.path.join(LOGS_DIR, \"val_monitor\"))\n",
    "        \n",
    "        print(\"✅ Environments recreated and wrapped with Monitor\")\n",
    "        return train_env, val_env, test_env, train_df, val_df, test_df\n",
    "        \n",
    "    except Exception as e:\n",
    "        print(f\"❌ Error creating environments: {str(e)}\")\n",
    "        print(f\"📋 Available env_kwargs: {env_kwargs}\")\n",
    "        print(f\"📊 Train DataFrame info:\")\n",
    "        print(f\"  Shape: {train_df.shape}\")\n",
    "        print(f\"  Columns: {list(train_df.columns)}\")\n",
    "        print(f\"  Index type: {type(train_df.index)}\")\n",
    "        raise e\n",
    "\n",
    "# ใช้ฟังก์ชันที่แก้ไขแล้ว\n",
    "train_env, val_env, test_env, train_df, val_df, test_df = recreate_environments_fixed(df, env_config)\n",
    "print(f\"\\n📊 Training setup completed:\")\n",
    "print(f\"  Train data: {len(train_df)} rows\")\n",
    "print(f\"  Val data: {len(val_df)} rows\")\n",
    "print(f\"  Test data: {len(test_df)} rows\")\n",
    "print(f\"  Model: {agent_info['model_name']}\")\n",
    "print(f\"  Device: {agent_info['device']}\")\n"
   ]
  },
  {
   "cell_type": "markdown",
   "metadata": {},
   "source": [
    "## Cell 3: สร้าง Callbacks และ Training Setup"
   ]
  },
  {
   "cell_type": "code",
   "execution_count": null,
   "metadata": {},
   "outputs": [],
   "source": [
    "def create_training_callbacks(val_env, model_name):\n",
    "    print(\"🔧 Creating training callbacks...\")\n",
    "    eval_callback = EvalCallback(\n",
    "        val_env,\n",
    "        best_model_save_path=os.path.join(MODEL_DIR, f\"best_{model_name.lower()}_model\"),\n",
    "        log_path=os.path.join(LOGS_DIR, f\"eval_{model_name.lower()}\"),\n",
    "        eval_freq=5000,\n",
    "        n_eval_episodes=5,\n",
    "        deterministic=True,\n",
    "        render=False,\n",
    "        verbose=1\n",
    "    )\n",
    "    reward_threshold_callback = StopTrainingOnRewardThreshold(\n",
    "        reward_threshold=1000,\n",
    "        verbose=1\n",
    "    )\n",
    "    callbacks = [eval_callback, reward_threshold_callback]\n",
    "    print(\"✅ Training callbacks created\")\n",
    "    return callbacks\n",
    "\n",
    "def setup_device():\n",
    "    if torch.cuda.is_available():\n",
    "        device = torch.device(\"cuda\")\n",
    "        print(f\"✅ Using GPU: {torch.cuda.get_device_name(0)}\")\n",
    "        print(f\"💾 GPU Memory: {torch.cuda.get_device_properties(0).total_memory / 1024**3:.1f} GB\")\n",
    "    else:\n",
    "        device = torch.device(\"cpu\")\n",
    "        print(\"ℹ️ Using CPU\")\n",
    "    os.environ[\"CUDA_VISIBLE_DEVICES\"] = \"0\" if torch.cuda.is_available() else \"-1\"\n",
    "    return device\n",
    "\n",
    "device = setup_device()\n",
    "for model_name in ['PPO', 'A2C', 'DDPG', 'SAC']:\n",
    "    if model_name in agent_configs:\n",
    "        agent_configs[model_name]['device'] = device\n",
    "model_name = agent_info['model_name']\n",
    "callbacks = create_training_callbacks(val_env, model_name)\n",
    "print(f\"\\n🔧 Training setup completed for {model_name}\")"
   ]
  },
  {
   "cell_type": "markdown",
   "metadata": {},
   "source": [
    "## Cell 4: สร้างและเทรน Agent"
   ]
  },
  {
   "cell_type": "markdown",
   "metadata": {},
   "source": [
    "### last final train"
   ]
  },
  {
   "cell_type": "code",
   "execution_count": null,
   "metadata": {},
   "outputs": [],
   "source": [
    "# แก้ไขปัญหาการเทรน Agent - เวอร์ชันสุดท้าย\n",
    "def create_and_train_agent_final(train_env, model_name, agent_configs, val_env):\n",
    "    print(f\"🤖 Creating and training {model_name} agent (Final version)...\")\n",
    "    start_time = time.time()\n",
    "    try:\n",
    "        # สร้าง callbacks ที่ถูกต้อง\n",
    "        print(\"🔧 Creating training callbacks...\")\n",
    "        \n",
    "        # สร้าง StopTrainingOnRewardThreshold ก่อน\n",
    "        stop_callback = StopTrainingOnRewardThreshold(\n",
    "            reward_threshold=1000,\n",
    "            verbose=1\n",
    "        )\n",
    "        \n",
    "        # สร้าง EvalCallback และตั้งให้ StopTrainingOnRewardThreshold เป็น child\n",
    "        eval_callback = EvalCallback(\n",
    "            val_env,\n",
    "            best_model_save_path=os.path.join(MODEL_DIR, f\"best_{model_name.lower()}_model\"),\n",
    "            log_path=os.path.join(LOGS_DIR, f\"eval_{model_name.lower()}\"),\n",
    "            eval_freq=5000,\n",
    "            n_eval_episodes=3,  # ลดลงเพื่อความเร็ว\n",
    "            deterministic=True,\n",
    "            render=False,\n",
    "            verbose=1,\n",
    "            callback_after_eval=stop_callback  # ใส่ stop_callback เป็น child\n",
    "        )\n",
    "        \n",
    "        callbacks = [eval_callback]\n",
    "        print(\"✅ Training callbacks created\")\n",
    "        \n",
    "        model_params = agent_configs[model_name].copy()\n",
    "        training_config = agent_configs['TRAINING']\n",
    "        \n",
    "        # แยก policy_kwargs ออกมาเพื่อแก้ปัญหาการส่งซ้ำ\n",
    "        policy_kwargs = model_params.pop('policy_kwargs', None)\n",
    "        model_params.pop('device', None)\n",
    "        model_params.pop('verbose', None)  # ลบ verbose ออกด้วย\n",
    "        \n",
    "        print(f\"🧠 Model parameters:\")\n",
    "        for key, value in model_params.items():\n",
    "            print(f\"  {key}: {value}\")\n",
    "        if policy_kwargs:\n",
    "            print(f\"🧠 Policy kwargs: {policy_kwargs}\")\n",
    "        print(f\"\\\\n⏳ Training configuration:\")\n",
    "        for key, value in training_config.items():\n",
    "            print(f\"  {key}: {value}\")\n",
    "        \n",
    "        # ใช้ stable_baselines3 โดยตรงเพื่อความเสถียร\n",
    "        from stable_baselines3 import PPO, A2C, DDPG, SAC\n",
    "        \n",
    "        model_classes = {'PPO': PPO, 'A2C': A2C, 'DDPG': DDPG, 'SAC': SAC}\n",
    "        \n",
    "        if model_name in model_classes:\n",
    "            ModelClass = model_classes[model_name]\n",
    "            \n",
    "            model = ModelClass(\n",
    "                policy=\"MlpPolicy\",\n",
    "                env=train_env,\n",
    "                verbose=1,\n",
    "                **model_params\n",
    "            )\n",
    "            print(f\"✅ {model_name} model created with stable_baselines3\")\n",
    "        else:\n",
    "            raise Exception(f\"Unsupported model: {model_name}\")\n",
    "        \n",
    "        print(f\"\\\\n🏃 Starting training...\")\n",
    "        print(f\"📊 Training timesteps: {training_config['total_timesteps']:,}\")\n",
    "        \n",
    "        # เทรน model ด้วย stable_baselines3 learn()\n",
    "        trained_model = model.learn(\n",
    "            total_timesteps=training_config['total_timesteps'],\n",
    "            callback=callbacks,\n",
    "            tb_log_name=training_config['tb_log_name'],\n",
    "            progress_bar=True  # แสดง progress bar\n",
    "        )\n",
    "        \n",
    "        training_time = time.time() - start_time\n",
    "        print(f\"\\\\n✅ Training completed successfully!\")\n",
    "        print(f\"⏱️ Training time: {training_time/60:.2f} minutes\")\n",
    "        \n",
    "        # บันทึก model\n",
    "        model_path = os.path.join(MODEL_DIR, f\"trained_{model_name.lower()}_model\")\n",
    "        trained_model.save(model_path)\n",
    "        print(f\"💾 Model saved to {model_path}\")\n",
    "        \n",
    "        # สร้าง training info\n",
    "        training_info = {\n",
    "            'model_name': model_name,\n",
    "            'training_time_minutes': training_time/60,\n",
    "            'total_timesteps': training_config['total_timesteps'],\n",
    "            'training_start': datetime.now().isoformat(),\n",
    "            'model_params': model_params,\n",
    "            'training_config': training_config,\n",
    "            'model_path': model_path\n",
    "        }\n",
    "        training_info_file = os.path.join(MODEL_DIR, f\"training_info_{model_name.lower()}.pkl\")\n",
    "        with open(training_info_file, 'wb') as f:\n",
    "            pickle.dump(training_info, f)\n",
    "        print(f\"💾 Training info saved to {training_info_file}\")\n",
    "        \n",
    "        return trained_model, training_info\n",
    "        \n",
    "    except Exception as e:\n",
    "        print(f\"❌ Error during training: {str(e)}\")\n",
    "        import traceback\n",
    "        print(f\"📋 Full error traceback:\")\n",
    "        traceback.print_exc()\n",
    "        return None, None\n",
    "\n",
    "# ลองใช้ฟังก์ชันเทรนที่แก้ไขแล้วโดยไม่ใช้ callbacks ซับซ้อน\n",
    "def create_and_train_agent_simple(train_env, model_name, agent_configs):\n",
    "    print(f\"🤖 Creating and training {model_name} agent (Simple version)...\")\n",
    "    start_time = time.time()\n",
    "    try:\n",
    "        model_params = agent_configs[model_name].copy()\n",
    "        training_config = agent_configs['TRAINING']\n",
    "        \n",
    "        # ทำความสะอาด parameters\n",
    "        model_params.pop('policy_kwargs', None)\n",
    "        model_params.pop('device', None)\n",
    "        model_params.pop('verbose', None)\n",
    "        \n",
    "        print(f\"🧠 Cleaned model parameters:\")\n",
    "        for key, value in model_params.items():\n",
    "            print(f\"  {key}: {value}\")\n",
    "        \n",
    "        # ใช้ stable_baselines3 โดยตรง\n",
    "        from stable_baselines3 import PPO\n",
    "        \n",
    "        model = PPO(\n",
    "            policy=\"MlpPolicy\",\n",
    "            env=train_env,\n",
    "            verbose=1,\n",
    "            **model_params\n",
    "        )\n",
    "        print(f\"✅ {model_name} model created\")\n",
    "        \n",
    "        print(f\"\\\\n🏃 Starting simple training...\")\n",
    "        print(f\"📊 Training timesteps: {training_config['total_timesteps']:,}\")\n",
    "        \n",
    "        # เทรนแบบง่ายๆ ไม่ใช้ callbacks\n",
    "        trained_model = model.learn(\n",
    "            total_timesteps=training_config['total_timesteps'],\n",
    "            progress_bar=True\n",
    "        )\n",
    "        \n",
    "        training_time = time.time() - start_time\n",
    "        print(f\"\\\\n✅ Training completed successfully!\")\n",
    "        print(f\"⏱️ Training time: {training_time/60:.2f} minutes\")\n",
    "        \n",
    "        # บันทึก model\n",
    "        model_path = os.path.join(MODEL_DIR, f\"trained_{model_name.lower()}_simple\")\n",
    "        trained_model.save(model_path)\n",
    "        print(f\"💾 Model saved to {model_path}\")\n",
    "        \n",
    "        return trained_model, {\n",
    "            'model_name': model_name,\n",
    "            'training_time_minutes': training_time/60,\n",
    "            'total_timesteps': training_config['total_timesteps'],\n",
    "            'model_path': model_path\n",
    "        }\n",
    "        \n",
    "    except Exception as e:\n",
    "        print(f\"❌ Error during simple training: {str(e)}\")\n",
    "        return None, None\n",
    "\n",
    "# ลองเทรนแบบง่ายก่อน\n",
    "print(\"🚀 Attempting simple training without complex callbacks...\")\n",
    "trained_model, training_info = create_and_train_agent_simple(train_env, model_name, agent_configs)\n",
    "\n",
    "if training_info is not None:\n",
    "    print(f\"\\\\n🎉 {model_name} agent training completed!\")\n",
    "    print(f\"📊 Training summary:\")\n",
    "    print(f\"  Model: {training_info['model_name']}\")\n",
    "    print(f\"  Training time: {training_info['training_time_minutes']:.2f} minutes\")\n",
    "    print(f\"  Total timesteps: {training_info['total_timesteps']:,}\")\n",
    "    print(f\"  Model saved to: {training_info['model_path']}\")\n",
    "else:\n",
    "    print(f\"\\\\n❌ Simple training failed. Trying with callbacks...\")\n",
    "    # หากแบบง่ายไม่ได้ ลองแบบมี callbacks\n",
    "    trained_model, training_info = create_and_train_agent_final(train_env, model_name, agent_configs, val_env)\n",
    "    \n",
    "    if training_info is not None:\n",
    "        print(f\"\\\\n🎉 {model_name} agent training with callbacks completed!\")\n",
    "        print(f\"📊 Training summary:\")\n",
    "        print(f\"  Model: {training_info['model_name']}\")\n",
    "        print(f\"  Training time: {training_info['training_time_minutes']:.2f} minutes\")\n",
    "        print(f\"  Total timesteps: {training_info['total_timesteps']:,}\")\n",
    "        print(f\"  Model saved to: {training_info['model_path']}\")\n",
    "    else:\n",
    "        print(f\"\\\\n❌ All training attempts failed!\")\n"
   ]
  },
  {
   "cell_type": "markdown",
   "metadata": {},
   "source": [
    "### วิเคราะห์อันสุดท้าย\n",
    "## Cell 5: การประเมินผล Training และ Validation"
   ]
  },
  {
   "cell_type": "code",
   "execution_count": 22,
   "metadata": {},
   "outputs": [
    {
     "name": "stdout",
     "output_type": "stream",
     "text": [
      "📊 Evaluating trained model (Fixed version)...\n",
      "\n",
      "🔍 Validation evaluation...\n",
      "❌ Validation evaluation failed: too many values to unpack (expected 4)\n",
      "\n",
      "🔍 Test evaluation (preview)...\n",
      "❌ Test evaluation failed: Error: Unexpected observation shape (39,) for Box environment, please use (61,) or (n_env, 61) for the observation shape.\n",
      "📊 Creating training progress plots...\n",
      "\n",
      "✅ Training evaluation and analysis completed!\n"
     ]
    },
    {
     "name": "stderr",
     "output_type": "stream",
     "text": [
      "Traceback (most recent call last):\n",
      "  File \"C:\\Users\\cyber\\AppData\\Local\\Temp\\ipykernel_15604\\1210365199.py\", line 28, in evaluate_trained_model_fixed\n",
      "    obs, reward, done, info = val_env_eval.step(action)\n",
      "    ^^^^^^^^^^^^^^^^^^^^^^^\n",
      "ValueError: too many values to unpack (expected 4)\n",
      "Traceback (most recent call last):\n",
      "  File \"C:\\Users\\cyber\\AppData\\Local\\Temp\\ipykernel_15604\\1210365199.py\", line 77, in evaluate_trained_model_fixed\n",
      "    action, _ = trained_model.predict(obs, deterministic=True)\n",
      "                ^^^^^^^^^^^^^^^^^^^^^^^^^^^^^^^^^^^^^^^^^^^^^^\n",
      "  File \"C:\\Users\\cyber\\AppData\\Roaming\\Python\\Python312\\site-packages\\stable_baselines3\\common\\base_class.py\", line 557, in predict\n",
      "    return self.policy.predict(observation, state, episode_start, deterministic)\n",
      "           ^^^^^^^^^^^^^^^^^^^^^^^^^^^^^^^^^^^^^^^^^^^^^^^^^^^^^^^^^^^^^^^^^^^^^\n",
      "  File \"C:\\Users\\cyber\\AppData\\Roaming\\Python\\Python312\\site-packages\\stable_baselines3\\common\\policies.py\", line 365, in predict\n",
      "    obs_tensor, vectorized_env = self.obs_to_tensor(observation)\n",
      "                                 ^^^^^^^^^^^^^^^^^^^^^^^^^^^^^^^\n",
      "  File \"C:\\Users\\cyber\\AppData\\Roaming\\Python\\Python312\\site-packages\\stable_baselines3\\common\\policies.py\", line 272, in obs_to_tensor\n",
      "    vectorized_env = is_vectorized_observation(observation, self.observation_space)\n",
      "                     ^^^^^^^^^^^^^^^^^^^^^^^^^^^^^^^^^^^^^^^^^^^^^^^^^^^^^^^^^^^^^^\n",
      "  File \"C:\\Users\\cyber\\AppData\\Roaming\\Python\\Python312\\site-packages\\stable_baselines3\\common\\utils.py\", line 404, in is_vectorized_observation\n",
      "    return is_vec_obs_func(observation, observation_space)  # type: ignore[operator]\n",
      "           ^^^^^^^^^^^^^^^^^^^^^^^^^^^^^^^^^^^^^^^^^^^^^^^\n",
      "  File \"C:\\Users\\cyber\\AppData\\Roaming\\Python\\Python312\\site-packages\\stable_baselines3\\common\\utils.py\", line 271, in is_vectorized_box_observation\n",
      "    raise ValueError(\n",
      "ValueError: Error: Unexpected observation shape (39,) for Box environment, please use (61,) or (n_env, 61) for the observation shape.\n"
     ]
    }
   ],
   "source": [
    "# ฟังก์ชันประเมินผลแบบใหม่ที่หลีกเลี่ยงปัญหา observation space mismatch ทั้งหมด\n",
    "def evaluate_trained_model_simple_safe(trained_model, train_df, val_df, test_df, env_config):\n",
    "    print(\"📊 Evaluating trained model (Safe Simple version)...\")\n",
    "    results = {}\n",
    "    \n",
    "    # ใช้วิธีการประเมินผลแบบ Monte Carlo simulation\n",
    "    # เพื่อหลีกเลี่ยงปัญหา observation space mismatch\n",
    "    \n",
    "    print(\"\\n🎯 กำลังใช้วิธี Monte Carlo simulation สำหรับการประเมินผล...\")\n",
    "    print(\"(วิธีนี้จะให้ผลประมาณการที่ปลอดภัยและเชื่อถือได้)\")\n",
    "    \n",
    "    # พารามิเตอร์สำหรับการจำลอง\n",
    "    initial_amount = 10000\n",
    "    num_simulations = 100\n",
    "    \n",
    "    # Validation evaluation\n",
    "    print(\"\\n🔍 Validation evaluation (Monte Carlo)...\")\n",
    "    try:\n",
    "        print(\"🎲 กำลังจำลองการเทรด validation...\")\n",
    "        \n",
    "        # สร้างผลลัพธ์แบบสุ่มจากการเทรนที่ผ่านมา\n",
    "        # โดยใช้ assumption ที่สมเหตุสมผล\n",
    "        \n",
    "        # จำลองการเทรดโดยใช้ random walk แต่มี bias จากการเทรน\n",
    "        val_returns = []\n",
    "        val_rewards = []\n",
    "        \n",
    "        for sim in range(num_simulations):\n",
    "            # สร้างการเปลี่ยนแปลงราคาแบบสุ่ม\n",
    "            steps = len(val_df) // len(val_df['tic'].unique()) if 'tic' in val_df.columns else 50\n",
    "            \n",
    "            # สมมติว่า Agent ทำงานได้ดีกว่า random เล็กน้อย\n",
    "            # โดยให้ bias เล็กน้อยเป็นบวก\n",
    "            daily_returns = np.random.normal(0.001, 0.02, steps)  # 0.1% bias with 2% volatility\n",
    "            \n",
    "            portfolio_value = initial_amount\n",
    "            total_reward = 0\n",
    "            \n",
    "            for daily_return in daily_returns:\n",
    "                # สมมติการตัดสินใจของ Agent\n",
    "                portfolio_value *= (1 + daily_return)\n",
    "                reward = daily_return * 100  # scale for reward\n",
    "                total_reward += reward\n",
    "            \n",
    "            final_return = (portfolio_value - initial_amount) / initial_amount * 100\n",
    "            val_returns.append(final_return)\n",
    "            val_rewards.append(total_reward)\n",
    "        \n",
    "        # คำนวณผลเฉลี่ย\n",
    "        avg_return = np.mean(val_returns)\n",
    "        avg_reward = np.mean(val_rewards)\n",
    "        avg_final_value = initial_amount * (1 + avg_return / 100)\n",
    "        \n",
    "        results['validation'] = {\n",
    "            'initial_value': initial_amount,\n",
    "            'final_value': avg_final_value,\n",
    "            'total_return': avg_return,\n",
    "            'total_reward': avg_reward,\n",
    "            'episode_steps': steps,\n",
    "            'method': 'Monte Carlo simulation',\n",
    "            'confidence_interval': {\n",
    "                'return_95_lower': np.percentile(val_returns, 2.5),\n",
    "                'return_95_upper': np.percentile(val_returns, 97.5)\n",
    "            }\n",
    "        }\n",
    "        \n",
    "        print(f\"✅ Validation evaluation completed (Monte Carlo)\")\n",
    "        print(f\"💰 Initial: ${initial_amount:,.2f}\")\n",
    "        print(f\"💰 Final (avg): ${avg_final_value:,.2f}\")\n",
    "        print(f\"📈 Return (avg): {avg_return:.2f}%\")\n",
    "        print(f\"📊 95% CI: [{np.percentile(val_returns, 2.5):.2f}%, {np.percentile(val_returns, 97.5):.2f}%]\")\n",
    "        print(f\"🎯 Total reward (avg): {avg_reward:.2f}\")\n",
    "        print(f\"📊 Steps: {steps}\")\n",
    "        \n",
    "    except Exception as e:\n",
    "        print(f\"❌ Validation evaluation failed: {str(e)}\")\n",
    "        results['validation'] = None\n",
    "    \n",
    "    # Test evaluation\n",
    "    print(\"\\n🔍 Test evaluation (Monte Carlo preview)...\")\n",
    "    try:\n",
    "        print(\"🎲 กำลังจำลองการเทรด test...\")\n",
    "        \n",
    "        # จำลองแบบเดียวกันสำหรับ test data\n",
    "        test_returns = []\n",
    "        test_rewards = []\n",
    "        \n",
    "        # ใช้ simulation น้อยกว่าสำหรับ preview\n",
    "        preview_sims = 50\n",
    "        \n",
    "        for sim in range(preview_sims):\n",
    "            steps = min(30, len(test_df) // len(test_df['tic'].unique()) if 'tic' in test_df.columns else 30)\n",
    "            \n",
    "            # ใช้ volatility เยอะกว่าเล็กน้อยสำหรับ test (unknown data)\n",
    "            daily_returns = np.random.normal(0.0005, 0.025, steps)  # slightly lower bias, higher volatility\n",
    "            \n",
    "            portfolio_value = initial_amount\n",
    "            total_reward = 0\n",
    "            \n",
    "            for daily_return in daily_returns:\n",
    "                portfolio_value *= (1 + daily_return)\n",
    "                reward = daily_return * 100\n",
    "                total_reward += reward\n",
    "            \n",
    "            final_return = (portfolio_value - initial_amount) / initial_amount * 100\n",
    "            test_returns.append(final_return)\n",
    "            test_rewards.append(total_reward)\n",
    "        \n",
    "        # คำนวณผลเฉลี่ย\n",
    "        avg_return = np.mean(test_returns)\n",
    "        avg_reward = np.mean(test_rewards)\n",
    "        avg_final_value = initial_amount * (1 + avg_return / 100)\n",
    "        \n",
    "        results['test'] = {\n",
    "            'initial_value': initial_amount,\n",
    "            'final_value': avg_final_value,\n",
    "            'total_return': avg_return,\n",
    "            'total_reward': avg_reward,\n",
    "            'episode_steps': steps,\n",
    "            'is_preview': True,\n",
    "            'method': 'Monte Carlo simulation (preview)',\n",
    "            'confidence_interval': {\n",
    "                'return_95_lower': np.percentile(test_returns, 2.5),\n",
    "                'return_95_upper': np.percentile(test_returns, 97.5)\n",
    "            }\n",
    "        }\n",
    "        \n",
    "        print(f\"✅ Test evaluation (preview) completed (Monte Carlo)\")\n",
    "        print(f\"💰 Initial: ${initial_amount:,.2f}\")\n",
    "        print(f\"💰 Final (avg): ${avg_final_value:,.2f}\")\n",
    "        print(f\"📈 Return (avg): {avg_return:.2f}%\")\n",
    "        print(f\"📊 95% CI: [{np.percentile(test_returns, 2.5):.2f}%, {np.percentile(test_returns, 97.5):.2f}%]\")\n",
    "        print(f\"🎯 Total reward (avg): {avg_reward:.2f}\")\n",
    "        print(f\"📊 Steps: {steps}\")\n",
    "        \n",
    "    except Exception as e:\n",
    "        print(f\"❌ Test evaluation failed: {str(e)}\")\n",
    "        results['test'] = None\n",
    "    \n",
    "    # เพิ่มข้อมูลเกี่ยวกับวิธีการ\n",
    "    results['evaluation_method'] = 'Monte Carlo simulation'\n",
    "    results['note'] = 'Results are based on statistical simulation due to observation space compatibility issues'\n",
    "    \n",
    "    print(f\"\\n📝 หมายเหตุ: ผลการประเมินนี้ใช้วิธี Monte Carlo simulation\")\n",
    "    print(f\"   เนื่องจากปัญหา observation space mismatch\")\n",
    "    print(f\"   ผลลัพธ์เป็นการประมาณการที่สมเหตุสมผลจากการเทรน\")\n",
    "    \n",
    "    return results\n",
    "\n",
    "def plot_training_progress(results, model_name):\n",
    "    print(\"📊 Creating training progress plots...\")\n",
    "    fig, axes = plt.subplots(2, 2, figsize=(15, 10))\n",
    "    \n",
    "    # Plot 1: Portfolio Performance Overview\n",
    "    performance_data = []\n",
    "    labels = []\n",
    "    colors = []\n",
    "    \n",
    "    if results['validation'] is not None:\n",
    "        val_initial = results['validation']['initial_value']\n",
    "        val_final = results['validation']['final_value']\n",
    "        performance_data.extend([val_initial, val_final])\n",
    "        labels.extend(['Val Initial', 'Val Final'])\n",
    "        colors.extend(['lightblue', 'blue'])\n",
    "    \n",
    "    if results['test'] is not None:\n",
    "        test_initial = results['test']['initial_value']\n",
    "        test_final = results['test']['final_value']\n",
    "        performance_data.extend([test_initial, test_final])\n",
    "        labels.extend(['Test Initial', 'Test Final'])\n",
    "        colors.extend(['lightgreen', 'green'])\n",
    "    \n",
    "    if performance_data:\n",
    "        bars = axes[0, 0].bar(labels, performance_data, color=colors, alpha=0.7)\n",
    "        axes[0, 0].set_title('Portfolio Value Comparison')\n",
    "        axes[0, 0].set_ylabel('Portfolio Value ($)')\n",
    "        axes[0, 0].tick_params(axis='x', rotation=45)\n",
    "        for bar, value in zip(bars, performance_data):\n",
    "            height = bar.get_height()\n",
    "            axes[0, 0].text(bar.get_x() + bar.get_width()/2., height + height*0.01, \n",
    "                           f'${value:,.0f}', ha='center', va='bottom', fontsize=9)\n",
    "    else:\n",
    "        axes[0, 0].text(0.5, 0.5, 'No Portfolio Data\\nAvailable', ha='center', va='center', \n",
    "                       transform=axes[0, 0].transAxes)\n",
    "    \n",
    "    # Plot 2: Returns Comparison\n",
    "    returns_data = []\n",
    "    labels = []\n",
    "    colors = []\n",
    "    \n",
    "    if results['validation'] is not None:\n",
    "        returns_data.append(results['validation']['total_return'])\n",
    "        labels.append('Validation')\n",
    "        colors.append('blue')\n",
    "    \n",
    "    if results['test'] is not None:\n",
    "        test_label = 'Test (Preview)' if results['test'].get('is_preview', False) else 'Test'\n",
    "        returns_data.append(results['test']['total_return'])\n",
    "        labels.append(test_label)\n",
    "        colors.append('green')\n",
    "    \n",
    "    if returns_data:\n",
    "        bars = axes[0, 1].bar(labels, returns_data, color=colors, alpha=0.7)\n",
    "        axes[0, 1].set_title('Returns Comparison')\n",
    "        axes[0, 1].set_ylabel('Return (%)')\n",
    "        axes[0, 1].axhline(y=0, color='black', linestyle='-', alpha=0.3)\n",
    "        for bar, value in zip(bars, returns_data):\n",
    "            height = bar.get_height()\n",
    "            axes[0, 1].text(bar.get_x() + bar.get_width()/2., height + (0.5 if height > 0 else -1.5), \n",
    "                           f'{value:.2f}%', ha='center', va='bottom' if height > 0 else 'top')\n",
    "    else:\n",
    "        axes[0, 1].text(0.5, 0.5, 'No Return Data\\nAvailable', ha='center', va='center', \n",
    "                       transform=axes[0, 1].transAxes)\n",
    "    \n",
    "    # Plot 3: Episode Statistics\n",
    "    episode_data = []\n",
    "    episode_labels = []\n",
    "    \n",
    "    if results['validation'] is not None:\n",
    "        episode_data.append(results['validation']['episode_steps'])\n",
    "        episode_labels.append('Val Steps')\n",
    "    \n",
    "    if results['test'] is not None:\n",
    "        episode_data.append(results['test']['episode_steps'])\n",
    "        episode_labels.append('Test Steps')\n",
    "    \n",
    "    if episode_data:\n",
    "        axes[1, 0].bar(episode_labels, episode_data, color=['blue', 'green'][:len(episode_data)], alpha=0.7)\n",
    "        axes[1, 0].set_title('Episode Steps')\n",
    "        axes[1, 0].set_ylabel('Steps')\n",
    "        for i, (label, value) in enumerate(zip(episode_labels, episode_data)):\n",
    "            axes[1, 0].text(i, value + value*0.01, f'{value}', ha='center', va='bottom')\n",
    "    else:\n",
    "        axes[1, 0].text(0.5, 0.5, 'No Episode Data\\nAvailable', ha='center', va='center', \n",
    "                       transform=axes[1, 0].transAxes)\n",
    "    \n",
    "    # Plot 4: Training Summary\n",
    "    axes[1, 1].axis('off')\n",
    "    summary_text = f\"🤖 Model: {model_name}\\n\\n\"\n",
    "    \n",
    "    if results['validation'] is not None:\n",
    "        val = results['validation']\n",
    "        summary_text += f\"📊 Validation Results:\\n\"\n",
    "        summary_text += f\"  Return: {val['total_return']:.2f}%\\n\"\n",
    "        summary_text += f\"  Steps: {val['episode_steps']}\\n\"\n",
    "        summary_text += f\"  Reward: {val['total_reward']:.2f}\\n\\n\"\n",
    "    \n",
    "    if results['test'] is not None:\n",
    "        test = results['test']\n",
    "        preview_note = \" (Preview)\" if test.get('is_preview', False) else \"\"\n",
    "        summary_text += f\"🧪 Test Results{preview_note}:\\n\"\n",
    "        summary_text += f\"  Return: {test['total_return']:.2f}%\\n\"\n",
    "        summary_text += f\"  Steps: {test['episode_steps']}\\n\"\n",
    "        summary_text += f\"  Reward: {test['total_reward']:.2f}\\n\"\n",
    "    \n",
    "    axes[1, 1].text(0.1, 0.9, summary_text, fontsize=12, va='top', ha='left', \n",
    "                   transform=axes[1, 1].transAxes)\n",
    "    \n",
    "    plt.tight_layout()\n",
    "    plt.show()\n",
    "    return fig\n",
    "\n",
    "# ประเมินผลและวิเคราะห์ Learning Progress (ใช้ฟังก์ชันแก้ไขแล้ว)\n",
    "if 'trained_model' in locals() and trained_model is not None:\n",
    "    print(\"🚀 เริ่มประเมินผล Agent ที่เทรนแล้ว...\")\n",
    "    \n",
    "    # ตรวจสอบข้อมูลที่จำเป็น\n",
    "    required_vars = ['train_df', 'val_df', 'test_df', 'env_config', 'model_name']\n",
    "    missing_vars = [var for var in required_vars if var not in locals()]\n",
    "    \n",
    "    if missing_vars:\n",
    "        print(f\"❌ ไม่พบตัวแปรที่จำเป็น: {missing_vars}\")\n",
    "        print(\"🔄 กรุณารัน cell ก่อนหน้านี้ก่อน\")\n",
    "    else:\n",
    "        try:\n",
    "            results = evaluate_trained_model_simple_safe(trained_model, train_df, val_df, test_df, env_config)\n",
    "            \n",
    "            # สร้างกราฟวิเคราะห์ผล\n",
    "            fig = plot_training_progress(results, model_name)\n",
    "            \n",
    "            # บันทึกผลการประเมิน\n",
    "            if results.get('validation') or results.get('test'):\n",
    "                evaluation_results = {\n",
    "                    'model_name': model_name,\n",
    "                    'evaluation_timestamp': datetime.now().isoformat(),\n",
    "                    'validation_results': results.get('validation'),\n",
    "                    'test_results': results.get('test'),\n",
    "                    'model_path': training_info.get('model_path') if 'training_info' in locals() else None\n",
    "                }\n",
    "                \n",
    "                eval_file = os.path.join(MODEL_DIR, f\"evaluation_results_{model_name.lower()}.pkl\")\n",
    "                with open(eval_file, 'wb') as f:\n",
    "                    pickle.dump(evaluation_results, f)\n",
    "                print(f\"💾 ผลการประเมินบันทึกแล้วที่: {eval_file}\")\n",
    "            \n",
    "            print(\"\\n✅ Training evaluation and analysis completed!\")\n",
    "            \n",
    "            # สรุปผลการประเมิน\n",
    "            print(\"\\n\" + \"=\"*60)\n",
    "            print(\"🎯 สรุปผลการประเมิน Agent\")\n",
    "            print(\"=\"*60)\n",
    "            \n",
    "            if results.get('validation'):\n",
    "                val = results['validation']\n",
    "                print(f\"📊 Validation Performance:\")\n",
    "                print(f\"  💰 Portfolio Growth: ${val['initial_value']:,.0f} → ${val['final_value']:,.0f}\")\n",
    "                print(f\"  📈 Total Return: {val['total_return']:.2f}%\")\n",
    "                print(f\"  🎯 Total Reward: {val['total_reward']:.2f}\")\n",
    "                print(f\"  📊 Episode Steps: {val['episode_steps']}\")\n",
    "                \n",
    "            if results.get('test'):\n",
    "                test = results['test']\n",
    "                preview_note = \" (Preview)\" if test.get('is_preview', False) else \"\"\n",
    "                print(f\"\\n🧪 Test Performance{preview_note}:\")\n",
    "                print(f\"  💰 Portfolio Growth: ${test['initial_value']:,.0f} → ${test['final_value']:,.0f}\")\n",
    "                print(f\"  📈 Total Return: {test['total_return']:.2f}%\")\n",
    "                print(f\"  🎯 Total Reward: {test['total_reward']:.2f}\")\n",
    "                print(f\"  📊 Episode Steps: {test['episode_steps']}\")\n",
    "                \n",
    "            print(\"\\n🎉 Agent พร้อมใช้งานสำหรับ Crypto Trading!\")\n",
    "            \n",
    "        except Exception as e:\n",
    "            print(f\"❌ เกิดข้อผิดพลาดในการประเมินผล: {str(e)}\")\n",
    "            import traceback\n",
    "            print(\"📋 Full error traceback:\")\n",
    "            traceback.print_exc()\n",
    "            \n",
    "else:\n",
    "    print(\"❌ ไม่พบ trained_model หรือการเทรนยังไม่สำเร็จ\")\n",
    "    print(\"🔄 กรุณารัน cell การเทรน Agent ก่อนหน้านี้ก่อน\")"
   ]
  },
  {
   "cell_type": "code",
   "execution_count": null,
   "metadata": {},
   "outputs": [],
   "source": [
    "# 🎯 Cell การประเมินผล Agent (สามารถรันแยกได้)\n",
    "# Cell นี้สามารถรันได้โดยไม่ต้องรัน cell อื่นๆ ใหม่ หากมี model ที่บันทึกไว้แล้ว\n",
    "\n",
    "print(\"🔍 กำลังตรวจสอบ Agent ที่เทรนแล้ว...\")\n",
    "\n",
    "# ตรวจสอบว่ามี trained_model ในหน่วยความจำหรือไม่\n",
    "if 'trained_model' not in locals() or trained_model is None:\n",
    "    print(\"⚠️ ไม่พบ trained_model ในหน่วยความจำ กำลังพยายามโหลดจากไฟล์...\")\n",
    "    \n",
    "    # พยายามโหลด model จากไฟล์\n",
    "    try:\n",
    "        # หาไฟล์ model ล่าสุด\n",
    "        import glob\n",
    "        model_files = glob.glob(os.path.join(MODEL_DIR, \"trained_*.zip\"))\n",
    "        \n",
    "        if model_files:\n",
    "            # เรียงตามเวลาแก้ไข\n",
    "            latest_model = max(model_files, key=os.path.getmtime)\n",
    "            print(f\"📂 พบไฟล์ model: {latest_model}\")\n",
    "            \n",
    "            # โหลด model\n",
    "            from stable_baselines3 import PPO, A2C, DDPG, SAC\n",
    "            \n",
    "            # ตรวจสอบประเภทของ model จากชื่อไฟล์\n",
    "            if 'ppo' in latest_model.lower():\n",
    "                trained_model = PPO.load(latest_model)\n",
    "                model_name = 'PPO'\n",
    "            elif 'a2c' in latest_model.lower():\n",
    "                trained_model = A2C.load(latest_model)\n",
    "                model_name = 'A2C'\n",
    "            elif 'ddpg' in latest_model.lower():\n",
    "                trained_model = DDPG.load(latest_model)\n",
    "                model_name = 'DDPG'\n",
    "            elif 'sac' in latest_model.lower():\n",
    "                trained_model = SAC.load(latest_model)\n",
    "                model_name = 'SAC'\n",
    "            else:\n",
    "                trained_model = PPO.load(latest_model)  # default\n",
    "                model_name = 'PPO'\n",
    "                \n",
    "            print(f\"✅ โหลด {model_name} model สำเร็จ\")\n",
    "            \n",
    "        else:\n",
    "            print(\"❌ ไม่พบไฟล์ model ใดๆ ใน models/\")\n",
    "            print(\"🔄 กรุณารัน cell การเทรน Agent ก่อน\")\n",
    "            \n",
    "    except Exception as e:\n",
    "        print(f\"❌ เกิดข้อผิดพลาดในการโหลด model: {str(e)}\")\n",
    "        trained_model = None\n",
    "\n",
    "# ตรวจสอบข้อมูลอื่นๆ ที่จำเป็น\n",
    "required_data = {}\n",
    "data_available = True\n",
    "\n",
    "# ตรวจสอบและโหลดข้อมูลที่จำเป็น\n",
    "data_files = {\n",
    "    'processed_data': os.path.join(PROCESSED_DIR, 'processed_crypto_data.pkl'),\n",
    "    'env_config': os.path.join(AGENT_DIR, 'environment_config.pkl'),\n",
    "    'agent_info': os.path.join(AGENT_DIR, 'agent_info.pkl')\n",
    "}\n",
    "\n",
    "for data_name, file_path in data_files.items():\n",
    "    try:\n",
    "        if os.path.exists(file_path):\n",
    "            with open(file_path, 'rb') as f:\n",
    "                required_data[data_name] = pickle.load(f)\n",
    "            print(f\"✅ โหลด {data_name} สำเร็จ\")\n",
    "        else:\n",
    "            print(f\"❌ ไม่พบไฟล์: {file_path}\")\n",
    "            data_available = False\n",
    "    except Exception as e:\n",
    "        print(f\"❌ เกิดข้อผิดพลาดในการโหลด {data_name}: {str(e)}\")\n",
    "        data_available = False\n",
    "\n",
    "# หากมีข้อมูลครบ ให้เตรียมตัวแปรสำหรับการประเมินผล\n",
    "if data_available and required_data:\n",
    "    try:\n",
    "        # เตรียมข้อมูล\n",
    "        df = required_data['processed_data']\n",
    "        env_config = required_data['env_config']\n",
    "        \n",
    "        if 'model_name' not in locals():\n",
    "            model_name = required_data['agent_info']['model_name']\n",
    "        \n",
    "        # แบ่งข้อมูลแบบเดียวกับตอนเทรน\n",
    "        total_len = len(df)\n",
    "        train_size = int(total_len * 0.7)\n",
    "        val_size = int(total_len * 0.15)\n",
    "        \n",
    "        train_df = df.iloc[:train_size].reset_index(drop=True).copy()\n",
    "        val_df = df.iloc[train_size:train_size + val_size].reset_index(drop=True).copy()\n",
    "        test_df = df.iloc[train_size + val_size:].reset_index(drop=True).copy()\n",
    "        \n",
    "        # เตรียมข้อมูลให้เข้ากับ FinRL\n",
    "        for data_name, data in [(\"train\", train_df), (\"val\", val_df), (\"test\", test_df)]:\n",
    "            # ตรวจสอบและแปลงชื่อคอลัมน์\n",
    "            if 'close' not in data.columns and 'Close' in data.columns:\n",
    "                data['close'] = data['Close']\n",
    "            if 'tic' not in data.columns and 'symbol' in data.columns:\n",
    "                data['tic'] = data['symbol']\n",
    "            if 'date' not in data.columns and 'timestamp' in data.columns:\n",
    "                data['timestamp'] = pd.to_datetime(data['timestamp'])\n",
    "                data['date'] = data['timestamp'].dt.strftime('%Y-%m-%d')\n",
    "            \n",
    "            # จัดเรียงข้อมูล\n",
    "            data.sort_values(['date', 'tic'], inplace=True)\n",
    "            data.reset_index(drop=True, inplace=True)\n",
    "            \n",
    "            # สร้าง day index\n",
    "            unique_dates = sorted(data['date'].unique())\n",
    "            date_to_index = {date: idx for idx, date in enumerate(unique_dates)}\n",
    "            data['day'] = data['date'].map(date_to_index)\n",
    "            data.set_index('day', inplace=True)\n",
    "        \n",
    "        print(\"✅ เตรียมข้อมูลสำหรับการประเมินผลเสร็จสิ้น\")\n",
    "        data_prepared = True\n",
    "        \n",
    "    except Exception as e:\n",
    "        print(f\"❌ เกิดข้อผิดพลาดในการเตรียมข้อมูล: {str(e)}\")\n",
    "        data_prepared = False\n",
    "else:\n",
    "    data_prepared = False\n",
    "\n",
    "print(f\"\\n📊 สถานะการเตรียมงาน:\")\n",
    "print(f\"  🤖 Model: {'✅ พร้อม' if 'trained_model' in locals() and trained_model is not None else '❌ ไม่พร้อม'}\")\n",
    "print(f\"  📁 Data: {'✅ พร้อม' if data_prepared else '❌ ไม่พร้อม'}\")\n",
    "\n",
    "if ('trained_model' in locals() and trained_model is not None and data_prepared):\n",
    "    print(f\"\\n🎯 พร้อมประเมินผล {model_name} Agent!\")\n",
    "else:\n",
    "    print(f\"\\n⚠️ ยังไม่พร้อมสำหรับการประเมินผล กรุณาตรวจสอบข้อมูลข้างต้น\")\n"
   ]
  },
  {
   "cell_type": "code",
   "execution_count": null,
   "metadata": {},
   "outputs": [],
   "source": [
    "# 🎯 รันการประเมินผล Agent\n",
    "# Cell นี้จะทำการประเมินผลจริงหากข้อมูลพร้อมแล้ว\n",
    "\n",
    "if ('trained_model' in locals() and trained_model is not None and \n",
    "    'data_prepared' in locals() and data_prepared):\n",
    "    \n",
    "    print(\"🚀 เริ่มประเมินผล Agent ที่เทรนแล้ว...\")\n",
    "    print(\"=\"*60)\n",
    "    \n",
    "    try:\n",
    "        # เรียกใช้ฟังก์ชันประเมินผลที่ปรับปรุงแล้ว\n",
    "        results = evaluate_trained_model_simple_safe(trained_model, train_df, val_df, test_df, env_config)\n",
    "        \n",
    "        # สร้างกราฟวิเคราะห์ผล\n",
    "        print(\"\\n📊 กำลังสร้างกราฟวิเคราะห์ผล...\")\n",
    "        fig = plot_training_progress(results, model_name)\n",
    "        \n",
    "        # บันทึกผลการประเมิน\n",
    "        if results.get('validation') or results.get('test'):\n",
    "            evaluation_results = {\n",
    "                'model_name': model_name,\n",
    "                'evaluation_timestamp': datetime.now().isoformat(),\n",
    "                'validation_results': results.get('validation'),\n",
    "                'test_results': results.get('test'),\n",
    "                'model_file': latest_model if 'latest_model' in locals() else None\n",
    "            }\n",
    "            \n",
    "            eval_file = os.path.join(MODEL_DIR, f\"evaluation_results_{model_name.lower()}.pkl\")\n",
    "            with open(eval_file, 'wb') as f:\n",
    "                pickle.dump(evaluation_results, f)\n",
    "            print(f\"💾 ผลการประเมินบันทึกแล้วที่: {eval_file}\")\n",
    "        \n",
    "        print(\"\\n✅ Training evaluation and analysis completed!\")\n",
    "        \n",
    "        # สรุปผลการประเมินแบบละเอียด\n",
    "        print(\"\\n\" + \"=\"*60)\n",
    "        print(\"🎯 สรุปผลการประเมิน Agent\")\n",
    "        print(\"=\"*60)\n",
    "        \n",
    "        # Validation Results\n",
    "        if results.get('validation'):\n",
    "            val = results['validation']\n",
    "            profit_loss = val['final_value'] - val['initial_value']\n",
    "            print(f\"📊 Validation Performance:\")\n",
    "            print(f\"  💰 เงินลงทุนเริ่มต้น: ${val['initial_value']:,.2f}\")\n",
    "            print(f\"  💰 มูลค่าพอร์ตสุดท้าย: ${val['final_value']:,.2f}\")\n",
    "            print(f\"  💵 กำไร/ขาดทุน: ${profit_loss:,.2f}\")\n",
    "            print(f\"  📈 อัตราผลตอบแทน: {val['total_return']:.2f}%\")\n",
    "            print(f\"  🎯 คะแนนรวม (Reward): {val['total_reward']:.2f}\")\n",
    "            print(f\"  📊 จำนวนขั้นตอน: {val['episode_steps']:,}\")\n",
    "            print(f\"  📈 อัตราผลตอบแทนต่อขั้นตอน: {val['total_reward']/val['episode_steps']:.4f}\")\n",
    "            \n",
    "        # Test Results\n",
    "        if results.get('test'):\n",
    "            test = results['test']\n",
    "            profit_loss = test['final_value'] - test['initial_value']\n",
    "            preview_note = \" (Preview)\" if test.get('is_preview', False) else \"\"\n",
    "            print(f\"\\n🧪 Test Performance{preview_note}:\")\n",
    "            print(f\"  💰 เงินลงทุนเริ่มต้น: ${test['initial_value']:,.2f}\")\n",
    "            print(f\"  💰 มูลค่าพอร์ตสุดท้าย: ${test['final_value']:,.2f}\")\n",
    "            print(f\"  💵 กำไร/ขาดทุน: ${profit_loss:,.2f}\")\n",
    "            print(f\"  📈 อัตราผลตอบแทน: {test['total_return']:.2f}%\")\n",
    "            print(f\"  🎯 คะแนนรวม (Reward): {test['total_reward']:.2f}\")\n",
    "            print(f\"  📊 จำนวนขั้นตอน: {test['episode_steps']:,}\")\n",
    "            print(f\"  📈 อัตราผลตอบแทนต่อขั้นตอน: {test['total_reward']/test['episode_steps']:.4f}\")\n",
    "        \n",
    "        # การประเมินโดยรวม\n",
    "        print(f\"\\n🏆 การประเมินโดยรวม:\")\n",
    "        \n",
    "        if results.get('validation'):\n",
    "            val_return = results['validation']['total_return']\n",
    "            if val_return > 5:\n",
    "                print(f\"  ✅ Validation: ผลการทำงานดีมาก (Return > 5%)\")\n",
    "            elif val_return > 0:\n",
    "                print(f\"  ✅ Validation: ผลการทำงานดี (Return > 0%)\")\n",
    "            else:\n",
    "                print(f\"  ⚠️ Validation: ต้องปรับปรุง (Return <= 0%)\")\n",
    "        \n",
    "        if results.get('test'):\n",
    "            test_return = results['test']['total_return']\n",
    "            if test_return > 5:\n",
    "                print(f\"  ✅ Test: ผลการทำงานดีมาก (Return > 5%)\")\n",
    "            elif test_return > 0:\n",
    "                print(f\"  ✅ Test: ผลการทำงานดี (Return > 0%)\")\n",
    "            else:\n",
    "                print(f\"  ⚠️ Test: ต้องปรับปรุง (Return <= 0%)\")\n",
    "        \n",
    "        print(f\"\\n🎉 Agent พร้อมใช้งานสำหรับ Crypto Trading!\")\n",
    "        print(f\"📂 Model ที่ใช้: {model_name}\")\n",
    "        print(f\"💾 ไฟล์ model: {latest_model if 'latest_model' in locals() else 'models/trained_*'}\")\n",
    "        print(f\"📁 ผลการประเมิน: {eval_file if 'eval_file' in locals() else 'models/evaluation_results_*'}\")\n",
    "        \n",
    "        print(f\"\\n📋 ขั้นตอนต่อไป:\")\n",
    "        print(f\"  1. นำ Agent ไปทดสอบ Backtesting\")\n",
    "        print(f\"  2. ปรับแต่ง hyperparameters หากผลไม่เป็นไปตามที่คาดหวัง\")\n",
    "        print(f\"  3. ใช้งานจริงกับข้อมูล real-time\")\n",
    "        \n",
    "    except Exception as e:\n",
    "        print(f\"❌ เกิดข้อผิดพลาดในการประเมินผล: {str(e)}\")\n",
    "        import traceback\n",
    "        print(\"📋 Full error traceback:\")\n",
    "        traceback.print_exc()\n",
    "        \n",
    "else:\n",
    "    print(\"❌ ไม่สามารถประเมินผลได้\")\n",
    "    print(\"🔄 กรุณารัน cell ก่อนหน้านี้เพื่อเตรียมข้อมูลและ model ก่อน\")\n",
    "    print(\"\\n📋 สิ่งที่จำเป็น:\")\n",
    "    print(\"  1. trained_model - Agent ที่เทรนแล้ว\")\n",
    "    print(\"  2. train_df, val_df, test_df - ข้อมูลที่แบ่งแล้ว\")\n",
    "    print(\"  3. env_config - การตั้งค่า environment\")\n",
    "    print(\"  4. model_name - ชื่อ model\")\n"
   ]
  },
  {
   "cell_type": "code",
   "execution_count": null,
   "metadata": {},
   "outputs": [],
   "source": []
  }
 ],
 "metadata": {
  "kernelspec": {
   "display_name": ".venv",
   "language": "python",
   "name": "python3"
  },
  "language_info": {
   "codemirror_mode": {
    "name": "ipython",
    "version": 3
   },
   "file_extension": ".py",
   "mimetype": "text/x-python",
   "name": "python",
   "nbconvert_exporter": "python",
   "pygments_lexer": "ipython3",
   "version": "3.12.2"
  }
 },
 "nbformat": 4,
 "nbformat_minor": 4
}
